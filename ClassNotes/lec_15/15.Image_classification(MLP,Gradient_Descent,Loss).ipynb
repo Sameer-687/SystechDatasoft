{
 "cells": [
  {
   "cell_type": "code",
   "execution_count": 5,
   "id": "1977301d",
   "metadata": {},
   "outputs": [
    {
     "name": "stdout",
     "output_type": "stream",
     "text": [
      "Collecting matplotlib==3.7.2 (from -r requirements.txt (line 1))\n",
      "  Using cached matplotlib-3.7.2-cp38-cp38-manylinux_2_12_x86_64.manylinux2010_x86_64.whl (9.2 MB)\n",
      "Requirement already satisfied: pandas in /home/mustafa/miniconda3/envs/edge/lib/python3.8/site-packages (from -r requirements.txt (line 2)) (2.0.3)\n",
      "Requirement already satisfied: torch in /home/mustafa/miniconda3/envs/edge/lib/python3.8/site-packages (from -r requirements.txt (line 3)) (2.0.1)\n",
      "Requirement already satisfied: contourpy>=1.0.1 in /home/mustafa/miniconda3/envs/edge/lib/python3.8/site-packages (from matplotlib==3.7.2->-r requirements.txt (line 1)) (1.1.0)\n",
      "Requirement already satisfied: cycler>=0.10 in /home/mustafa/miniconda3/envs/edge/lib/python3.8/site-packages (from matplotlib==3.7.2->-r requirements.txt (line 1)) (0.11.0)\n",
      "Requirement already satisfied: fonttools>=4.22.0 in /home/mustafa/miniconda3/envs/edge/lib/python3.8/site-packages (from matplotlib==3.7.2->-r requirements.txt (line 1)) (4.40.0)\n",
      "Requirement already satisfied: kiwisolver>=1.0.1 in /home/mustafa/miniconda3/envs/edge/lib/python3.8/site-packages (from matplotlib==3.7.2->-r requirements.txt (line 1)) (1.4.4)\n",
      "Requirement already satisfied: numpy>=1.20 in /home/mustafa/miniconda3/envs/edge/lib/python3.8/site-packages (from matplotlib==3.7.2->-r requirements.txt (line 1)) (1.24.3)\n",
      "Requirement already satisfied: packaging>=20.0 in /home/mustafa/miniconda3/envs/edge/lib/python3.8/site-packages (from matplotlib==3.7.2->-r requirements.txt (line 1)) (23.1)\n",
      "Requirement already satisfied: pillow>=6.2.0 in /home/mustafa/miniconda3/envs/edge/lib/python3.8/site-packages (from matplotlib==3.7.2->-r requirements.txt (line 1)) (9.4.0)\n",
      "Collecting pyparsing<3.1,>=2.3.1 (from matplotlib==3.7.2->-r requirements.txt (line 1))\n",
      "  Using cached pyparsing-3.0.9-py3-none-any.whl (98 kB)\n",
      "Requirement already satisfied: python-dateutil>=2.7 in /home/mustafa/miniconda3/envs/edge/lib/python3.8/site-packages (from matplotlib==3.7.2->-r requirements.txt (line 1)) (2.8.2)\n",
      "Requirement already satisfied: importlib-resources>=3.2.0 in /home/mustafa/miniconda3/envs/edge/lib/python3.8/site-packages (from matplotlib==3.7.2->-r requirements.txt (line 1)) (5.12.0)\n",
      "Requirement already satisfied: pytz>=2020.1 in /home/mustafa/miniconda3/envs/edge/lib/python3.8/site-packages (from pandas->-r requirements.txt (line 2)) (2023.3)\n",
      "Requirement already satisfied: tzdata>=2022.1 in /home/mustafa/miniconda3/envs/edge/lib/python3.8/site-packages (from pandas->-r requirements.txt (line 2)) (2023.3)\n",
      "Requirement already satisfied: filelock in /home/mustafa/miniconda3/envs/edge/lib/python3.8/site-packages (from torch->-r requirements.txt (line 3)) (3.9.0)\n",
      "Requirement already satisfied: typing-extensions in /home/mustafa/miniconda3/envs/edge/lib/python3.8/site-packages (from torch->-r requirements.txt (line 3)) (4.6.3)\n",
      "Requirement already satisfied: sympy in /home/mustafa/miniconda3/envs/edge/lib/python3.8/site-packages (from torch->-r requirements.txt (line 3)) (1.11.1)\n",
      "Requirement already satisfied: networkx in /home/mustafa/miniconda3/envs/edge/lib/python3.8/site-packages (from torch->-r requirements.txt (line 3)) (2.8.4)\n",
      "Requirement already satisfied: jinja2 in /home/mustafa/miniconda3/envs/edge/lib/python3.8/site-packages (from torch->-r requirements.txt (line 3)) (3.1.2)\n",
      "Requirement already satisfied: zipp>=3.1.0 in /home/mustafa/miniconda3/envs/edge/lib/python3.8/site-packages (from importlib-resources>=3.2.0->matplotlib==3.7.2->-r requirements.txt (line 1)) (3.15.0)\n",
      "Requirement already satisfied: six>=1.5 in /home/mustafa/miniconda3/envs/edge/lib/python3.8/site-packages (from python-dateutil>=2.7->matplotlib==3.7.2->-r requirements.txt (line 1)) (1.16.0)\n",
      "Requirement already satisfied: MarkupSafe>=2.0 in /home/mustafa/miniconda3/envs/edge/lib/python3.8/site-packages (from jinja2->torch->-r requirements.txt (line 3)) (2.1.1)\n",
      "Requirement already satisfied: mpmath>=0.19 in /home/mustafa/miniconda3/envs/edge/lib/python3.8/site-packages (from sympy->torch->-r requirements.txt (line 3)) (1.2.1)\n",
      "Installing collected packages: pyparsing, matplotlib\n",
      "  Attempting uninstall: pyparsing\n",
      "    Found existing installation: pyparsing 3.1.0\n",
      "    Uninstalling pyparsing-3.1.0:\n",
      "      Successfully uninstalled pyparsing-3.1.0\n",
      "  Attempting uninstall: matplotlib\n",
      "    Found existing installation: matplotlib 3.7.1\n",
      "    Uninstalling matplotlib-3.7.1:\n",
      "      Successfully uninstalled matplotlib-3.7.1\n",
      "Successfully installed matplotlib-3.7.2 pyparsing-3.0.9\n"
     ]
    }
   ],
   "source": [
    "!pip install -r requirements.txt"
   ]
  },
  {
   "cell_type": "markdown",
   "id": "69aae4a8",
   "metadata": {},
   "source": [
    "# Understanding Types of Deep Learning Algorithms\n",
    "\n",
    "In this section, we will explore the different types of deep learning algorithms and their key characteristics, including supervised learning, unsupervised learning, hybrid learning, and reinforcement learning.\n",
    "\n",
    "## Supervised Learning\n",
    "\n",
    "Supervised learning involves training algorithms with labeled data, where inputs are associated with corresponding output labels. The aim is to enable the algorithm to predict accurate results on new, unseen data. Tasks like classification and regression fall under this category, where the algorithm learns to classify inputs into categories or predict continuous values.\n",
    "\n",
    "### Types of Supervised Learning\n",
    "\n",
    "Supervised learning is a type of machine learning where the algorithm is trained on a labeled dataset. It can be divided into two primary types of tasks:\n",
    "\n",
    "#### Classification:\n",
    "\n",
    "**Description:** Classification is a type of supervised learning where the goal is to predict the categorical class label of a new instance, based on past observations. In classification, the output variable is a category, such as \"spam\" or \"not spam,\" \"fraudulent\" or \"legitimate,\" or \"cat,\" \"dog,\" or \"horse.\"\n",
    "\n",
    "**Evaluation Parameter:** The primary evaluation parameters for classification tasks are:\n",
    "\n",
    "- **Accuracy**: Accuracy measures the proportion of correctly classified instances out of the total instances. It is a commonly used metric for classification problems. However, it may not be the best choice when dealing with imbalanced datasets.\n",
    "\n",
    "Other evaluation parameters for classification include precision, recall, F1-score, ROC-AUC, and confusion matrix.\n",
    "\n",
    "#### Regression:\n",
    "\n",
    "**Description:** Regression is another type of supervised learning where the goal is to predict a continuous numeric output variable. In regression, the output variable is a real or continuous value, such as predicting house prices, stock prices, or temperature.\n",
    "\n",
    "**Evaluation Parameter:** The primary evaluation parameters for regression tasks are:\n",
    "\n",
    "- **Mean Squared Error (MSE)**: MSE measures the average squared difference between the predicted values and the actual target values. It penalizes large errors more heavily, making it sensitive to outliers.\n",
    "\n",
    "- **Root Mean Squared Error (RMSE)**: RMSE is the square root of the MSE and is often used because it provides an error measure in the same units as the target variable, making it more interpretable.\n",
    "\n",
    "Other evaluation parameters for regression include Mean Absolute Error (MAE), R-squared (R²), and residual plots.\n",
    "\n",
    "In summary, supervised learning can be divided into two main categories: classification and regression. For classification tasks, accuracy is a common evaluation parameter, while for regression tasks, MSE and RMSE are commonly used evaluation parameters. The choice of evaluation parameter depends on the specific problem and the nature of the output variable.\n",
    "\n",
    "\n",
    "## Unsupervised Learning\n",
    "\n",
    "Unsupervised learning trains algorithms on data without explicit output labels. The goal is to uncover underlying patterns or structures within the data. Tasks like clustering and dimensionality reduction are common in this category. Clustering groups similar data points together, while dimensionality reduction reduces data complexity while retaining essential features.\n",
    "\n",
    "## Semi-Supervised Learning\n",
    "\n",
    "Semi-Supervised learning combines aspects of both supervised and unsupervised learning. It utilizes labeled data for initial training and then employs unsupervised techniques to refine the model. Semi-supervised learning, for example, trains a model on a small amount of labeled data and a larger amount of unlabeled data. This approach improves model performance while reducing the need for extensive labeled data.\n",
    "\n",
    "## Reinforcement Learning\n",
    "\n",
    "Reinforcement learning is a different paradigm where an agent learns by interacting with an environment. The agent takes actions to maximize a reward signal over time. It learns through exploration and exploitation, adjusting its actions based on feedback from the environment. Reinforcement learning is commonly used in scenarios like game playing and robotics.\n",
    "\n",
    "These different types of deep learning algorithms serve distinct purposes and contribute to the versatility and effectiveness of modern machine learning and artificial intelligence applications.\n"
   ]
  },
  {
   "cell_type": "markdown",
   "id": "3886e2e3",
   "metadata": {},
   "source": [
    "# Classification\n",
    "\n",
    "Classification is a fundamental task in machine learning that involves categorizing data into different classes or categories based on certain features or characteristics. It aims to find patterns or relationships in the data that can help assign new instances to the appropriate class. \n",
    "\n",
    "## Binary Classification\n",
    "\n",
    "Binary classification is a type of classification problem where the data is divided into two distinct classes or categories. It involves predicting whether an instance belongs to one class or another. Typically, the classes are represented as \"positive\" and \"negative,\" \"yes\" and \"no,\" or \"1\" and \"0.\" \n",
    "\n",
    "### Binary Classifiers and Techniques\n",
    "\n",
    "Numerous machine learning applications use binary classifiers as a fundamental building component. A variety of techniques can be used to create them, including:\n",
    "\n",
    "- Logistic regression\n",
    "- Support vector machines (SVMs)\n",
    "- Decision trees\n",
    "- Random forests\n",
    "- Neural networks\n",
    "\n",
    "Typically, these models are trained on labeled data, where the right label or category for each example in the training set is known. They are then employed in predicting the category of new, unseen samples.\n",
    "\n",
    "### Metrics frequently used to evaluate a binary classifier's performance include:\n",
    "\n",
    "- Accuracy\n",
    "- Precision\n",
    "- Recall\n",
    "- F1 score\n",
    "\n",
    "These metrics measure how effectively the model is able to correctly identify positive and negative examples in the data. A wide range of applications, such as natural language processing, computer vision, fraud detection, and medical diagnostics, among many others, require high-quality binary classifiers.\n",
    "\n",
    "\n",
    "## Multi-Class Classification\n",
    "\n",
    "A classification problem including more than two classes, such as classifying a collection of fruit photos that could represent oranges, apples, or pears. A fruit may only be either an apple or a pear, not both at once, according to the multi-class classification method, which operates under the assumption that each sample is given one and only one label.\n",
    "\n",
    "<img src=\"Lecture_Image_Files/lecture_15/fruit.png\" width=\"300\">\n",
    "\n",
    "\n"
   ]
  },
  {
   "cell_type": "markdown",
   "id": "fac1e2d7",
   "metadata": {},
   "source": [
    "# Loss Function vs. Cost Function\n",
    "\n",
    "## Loss Function:\n",
    "\n",
    "A **loss function**, sometimes referred to as the error function or objective function, is a mathematical function used to measure the error or discrepancy between the predicted output (hypothesis) of a machine learning model and the actual target values (ground truth) for a single data point. The primary purpose of the loss function is to quantify how well or poorly the model is performing on a single data instance.\n",
    "\n",
    "**Key Points:**\n",
    "- Loss functions are used during the training phase of machine learning models.\n",
    "- They assess the error for a single data point or a mini-batch of data.\n",
    "- Common loss functions include Mean Squared Error (MSE) for regression tasks and Cross-Entropy for classification tasks.\n",
    "- The goal is to minimize the loss, making the model's predictions more accurate for individual data points.\n",
    "\n",
    "## Cost Function:\n",
    "\n",
    "A **cost function**, also known as the objective function or simply the cost, is a function that aggregates or summarizes the loss values computed for individual data points across the entire dataset. It provides a single scalar value that represents the overall performance of the model on the entire dataset. The cost function serves as a global measure of how well the model is doing.\n",
    "\n",
    "**Key Points:**\n",
    "- Cost functions are used to evaluate the performance of a machine learning model after a complete pass through the training dataset (epoch).\n",
    "- They calculate the cumulative error by summing or averaging the individual loss values.\n",
    "- The goal is to minimize the cost function during training, which means making the model's predictions as accurate as possible across the entire dataset.\n",
    "- The choice of the cost function depends on the problem type (e.g., regression, classification) and the specific objectives.\n",
    "\n",
    "**Relationship:**\n",
    "- The loss function and cost function are closely related. The loss function is used to calculate errors for individual data points or mini-batches, while the cost function aggregates these errors to assess the overall model performance. In many cases, the cost function is derived from the average of the loss function over the entire dataset.\n",
    "\n",
    "In summary, the loss function measures the error for a single data point, guiding the model's parameter updates during training, while the cost function provides a global measure of the model's performance by summarizing the loss values across the entire dataset. Both are crucial for training and evaluating machine learning models.\n"
   ]
  },
  {
   "cell_type": "markdown",
   "id": "b7ffa5a1",
   "metadata": {},
   "source": [
    "### Difference Between Loss and Cost Functions\n",
    "\n",
    "| Aspect                  | Loss Function                               | Cost Function                               |\n",
    "|-------------------------|---------------------------------------------|---------------------------------------------|\n",
    "| Purpose                 | Used during training to update model parameters | Aggregates loss values across the entire dataset |\n",
    "| Definition              | Measures the error for a single data point  | Aggregates the losses over all data points   |\n",
    "| Calculation             | Computed for each data point individually   | Sum or average of individual loss values     |\n",
    "| Objective               | Minimize the loss for each individual data point | Minimize the overall cost over the dataset  |\n",
    "| Typically in Neural Networks | Used within each training iteration (mini-batch) | Used to evaluate and optimize the entire model |\n",
    "| Examples                | Mean Squared Error (MSE) for regression     | Cross-Entropy for classification            |\n"
   ]
  },
  {
   "cell_type": "markdown",
   "id": "62844446",
   "metadata": {},
   "source": [
    "# Mean Squared Error (MSE)\n",
    "\n",
    "\n",
    "In the case of regression tasks, a common loss function is Mean Squared Error (MSE). The mathematical equation for this is:\n",
    "\n",
    "$$ L(θ) = \\frac{1}{N} \\sum_{i=1}^{N} (ŷ_i - y_i)^2 $$\n",
    "\n",
    "In this equation:\n",
    "\n",
    "- $n$ is the total number of observations.\n",
    "- $y_i$ is the actual value of the output for the i-th observation.\n",
    "- $\\hat{y}_i$ is the predicted value of the output for the i-th observation.\n",
    "- $\\sum$ denotes the summation operation.\n"
   ]
  },
  {
   "cell_type": "code",
   "execution_count": 1,
   "id": "aa3404fe",
   "metadata": {},
   "outputs": [
    {
     "name": "stdout",
     "output_type": "stream",
     "text": [
      "Mean Squared Error (MSE): 0.04399999999999997\n"
     ]
    }
   ],
   "source": [
    "import numpy as np\n",
    "\n",
    "# Define the actual values and predicted values as NumPy arrays\n",
    "actual_values = np.array([1.0, 2.0, 3.0, 4.0, 5.0])\n",
    "predicted_values = np.array([1.2, 1.8, 2.7, 3.8, 4.9])\n",
    "\n",
    "# Calculate the squared differences between actual and predicted values\n",
    "squared_errors = (actual_values - predicted_values) ** 2\n",
    "\n",
    "# Calculate the mean of squared errors to get MSE\n",
    "mse = np.mean(squared_errors)\n",
    "\n",
    "print(\"Mean Squared Error (MSE):\", mse)\n"
   ]
  },
  {
   "cell_type": "markdown",
   "id": "3bbd007f",
   "metadata": {},
   "source": [
    "## Regression Analysis in Machine Learning\n",
    "\n",
    "Regression analysis in machine learning involves building predictive models that estimate continuous numerical outcomes from input data. This technique plays a fundamental role in understanding and quantifying relationships between variables. Here's a concise overview with a bit more detail on types of regression:\n",
    "\n",
    "### Objective\n",
    "Regression analysis aims to establish a mathematical relationship between input features and a continuous target variable. This relationship is encapsulated within a model, enabling predictions on unseen data.\n",
    "\n",
    "### Types of Regression\n",
    "There are various regression techniques, each suited to different data scenarios:\n",
    "\n",
    "- **Linear Regression:** Assumes a linear relationship between inputs and the target. It seeks the best-fitting linear equation to predict the target.\n",
    "- **Polynomial Regression:** Models nonlinear relationships by incorporating polynomial terms into the equation.\n",
    "- **Ridge and Lasso Regression:** These techniques extend linear regression, adding regularization to prevent overfitting and handle multicollinearity.\n",
    "- **Decision Tree Regression:** Utilizes decision trees to partition data and make predictions based on leaf node averages.\n",
    "- **Random Forest Regression:** An ensemble method that combines multiple decision trees for improved prediction accuracy.\n",
    "- **Support Vector Regression (SVR):** An adaptation of support vector machines for regression tasks.\n"
   ]
  },
  {
   "cell_type": "markdown",
   "id": "9319c05f",
   "metadata": {},
   "source": [
    "### In today's class we will discuss about Linear Regression"
   ]
  },
  {
   "cell_type": "markdown",
   "id": "caa73efe",
   "metadata": {},
   "source": [
    "## Linear Regression:\n",
    "\n",
    "A supervised machine learning approach known as \"linear regression\" determines the linear relationship between a dependent variable and one or more independent features. Univariate linear regression occurs when there is only one independent feature; multivariate linear regression occurs when there are multiple independent features. The algorithm's objective is to identify the optimum linear equation that, given the independent variables, can forecast the value of the dependent variable. The relationship between the dependent and independent variables is shown by the equation as a straight line. The slope of the line shows how much the dependent variable changes when the independent variable(s) are changed by a unit.\n",
    "    \n",
    "Finance, economics, and psychology are just a few of the fields that employ linear regression to analyze and forecast the behavior of a given variable. For instance, linear regression can be used in the field of finance to comprehend the connection between a company's stock price and its earnings or to forecast the value of a currency based on its past behavior.\n",
    "    \n",
    "Regression is one of the most significant supervised learning tasks. In regression, a series of records with X and Y values are present, and these values are used to train a function that may be used to predict Y from an unknown X. We need a function that forecasts continuous Y in the case of regression given X as independent features since we need to find the value of Y in regression.\n",
    "    \n",
    "Here, X is referred to as an independent variable as well as Y's predictor, while Y is referred to as the dependent or target variable. Regression can be done using a wide variety of modules or functions. The simplest sort of function is a linear function. Here, X could be one feature or a group of features that collectively represent the problem.\n",
    "    \n",
    "<img src=\"Lecture_Image_Files/lecture_15/linear-regression-plot.jpg\" width=\"300\">\n",
    "\n",
    "The task of predicting a dependent variable's value (y) based on a specified independent variable (x) is carried out using linear regression. Thus, the term \"linear regression\" was established. In the diagram above, X represents a person's job history and Y represents their wage. The line that fits our model the best is the regression line.\n",
    "\n",
    "Hypothesis function for Linear Regression :\n",
    "\n",
    "We assumed before that experience, or X, is our independent variable and that salary, or Y, is our dependent variable. Assuming that X and Y have a linear relationship, the salary may be predicted using:\n",
    "\n",
    "$ \\hat{Y} = \\theta_{1} + \\theta_{2}X $\n",
    "\n",
    "or,\n",
    "\n",
    "$ \\hat{y}_i = \\theta_{1} + \\theta_{2}x_i $\n",
    "\n",
    "Here,\n",
    "\n",
    "$ {y}_i \\in Y $ (for $ i = 1,2,\\ldots,n $) are true labels for the data.\n",
    "\n",
    "$ x_i \\in X $ (for $ i = 1,2,\\ldots,n $) are the input independent training data.\n",
    "\n",
    "$ \\hat{y}_i \\in \\hat{Y} $ (for $ i = 1,2,\\ldots,n $) are the predicted values. \n",
    "\n",
    "Finding the optimal θ1 and θ1 values allows the model to produce the best regression fit line.\n",
    "\n",
    "- θ1: intercept \n",
    "- θ2: coefficient of x \n",
    "\n",
    "The best-fit line is found after finding the best **θ1** and **θ1** values. Therefore, when we finally use our model to make a prediction, it will forecast the value of **y** based on the value of the input **x**. \n",
    " \n",
    "Cost function\n",
    "\n",
    "The cost function, often called the loss function, measures how well our predictions match the actual values. It quantifies the difference between the predicted value $\\hat{Y}$ and the true value $Y$. In simple terms, it helps us understand how far off our predictions are from reality. It is the **Mean Squared Error (MSE)** between the predicted value and the true value\n",
    "\n",
    "The cost function ($J$) can be written as:\n",
    "\n",
    "$$ J = \\frac{1}{n} \\sum_{i=1}^{n} (\\hat{Y}_i - Y_i)^2 $$\n",
    "\n",
    "Where:\n",
    "- $J$ is the cost function.\n",
    "- $\\hat{Y}_i$ is the predicted value for the i-th data point.\n",
    "- $Y_i$ is the true value for the i-th data point.\n",
    "- $n$ is the number of data points.\n",
    "\n",
    "### How to update θ1 and θ2 values to get the best-fit line? \n",
    "\n",
    "To find the best-fit regression line, the model tries to predict the target value $\\hat{Y}$ in a way that makes the difference between this prediction and the true value $Y$ as small as possible. So, it's important to adjust the $\\theta_1$ and $\\theta_2$ values to minimize the error between the predicted $y$ value (pred) and the true $y$ value ($y$).\n",
    "\n",
    "To minimize the cost function, you typically use an optimization technique like gradient descent. The equation to update the parameters $\\theta_1$ and $\\theta_2$ to minimize the cost function is:\n",
    "\n",
    "Minimize:\n",
    "\n",
    "$$ J(\\theta_1, \\theta_2) = \\frac{1}{n} \\sum_{i=1}^{n} (\\hat{Y}_i - Y_i)^2 $$\n",
    "\n",
    "Where:\n",
    "- $\\theta_1$ and $\\theta_2$ are the parameters to be adjusted to minimize the cost function.\n",
    "- $\\hat{Y}_i$ is the predicted value for the i-th data point.\n",
    "- $Y_i$ is the true value for the i-th data point.\n",
    "- $n$ is the number of data points.\n",
    "\n",
    "**Goal:** to minimize the cost function $J(\\theta_1, \\theta_2)$\n",
    "\n",
    "## Optimization Algorithms\n",
    "\n",
    "There are several alternatives to Gradient Descent. Popular ones are listed below:\n",
    "\n",
    "- L-BFGS\n",
    "- Levenberg-Marquardt Algorithm (LMA)\n",
    "- Simulated Annealing\n",
    "- evolutionary Algorithms (EA)\n",
    "- Particle Swarm Optimization (PSO).\n",
    "- Gradient Descent\n",
    "\n",
    "\n",
    "## We will use gradient descnet to optimize our function.\n",
    "\n",
    "### Gradient Descent: \n",
    "\n",
    "<img src=\"Lecture_Image_Files/lecture_15/gradient_vis.gif\" width=\"500\">\n",
    "\n",
    "By iteratively changing the model's parameters, a linear regression model can be trained using the method of optimization gradient descent in order to reduce the model's mean squared error (MSE) on training data. The model employs gradient descent to update **θ1** and **θ2** variables in order to decrease the Cost function (minimizing RMSE value) and obtain the best-fit line. Starting with random values for **θ1** and **θ2**, the goal is to iteratively update the values until the minimum cost is reached. \n",
    "\n",
    "A gradient is nothing more than a derivative that describes how a function behaves when its inputs vary slightly.\n",
    "\n",
    "Let’s differentiate the cost function(J) with respect to $ \\theta_1 $ :\n",
    "\n",
    "#### Derivative of Cost Function with Respect to θ₁\n",
    "\n",
    "<img src=\"Lecture_Image_Files/lecture_15/theta1.svg\" width=\"300\">\n",
    "\n",
    "#### Derivative of Cost Function with Respect to θ₂\n",
    "\n",
    "<img src=\"Lecture_Image_Files/lecture_15/theta2.svg\" width=\"300\">\n",
    "\n",
    "Linear regression aims to find the coefficients for a linear equation that best suits the training data. To update these coefficients, we follow the negative gradient of the Mean Squared Error. This helps us determine the appropriate values for both the intercept and the coefficient of **X**. The learning rate, denoted as $ \\alpha $, controls the size of the steps we take during this adjustment process.\n",
    "\n",
    "<img src=\"Lecture_Image_Files/lecture_15/gr_dsc.png\" width=\"500\">\n",
    "\n",
    "### Update Equation for Weight (Coefficient) in Linear Regression:\n",
    "\n",
    "The equation for updating the weight (or coefficient) in a gradient descent optimization process for linear regression is as follows:\n",
    "\n",
    "<img src=\"Lecture_Image_Files/lecture_15/update.svg\" width=\"500\">\n",
    "\n",
    "\n"
   ]
  },
  {
   "cell_type": "markdown",
   "id": "67a16652",
   "metadata": {},
   "source": [
    "#### \"α\" is hyperparameter in this equation. Which is also called Learning Rate"
   ]
  },
  {
   "cell_type": "markdown",
   "id": "fdd0c513",
   "metadata": {},
   "source": [
    "## Gradient Descent Algorithm and Its Variants:\n",
    "\n",
    "# Batch Gradient Descent (BGD)\n",
    "- **Batch Size**: BGD uses the entire dataset for each iteration. It computes the gradient of the cost function with respect to the model parameters using all the training examples.\n",
    "- **Advantages**:\n",
    "  - It provides a more accurate estimate of the gradient since it considers the entire dataset.\n",
    "  - It usually converges to the global minimum, given enough time.\n",
    "- **Disadvantages**:\n",
    "  - It can be computationally expensive, especially for large datasets.\n",
    "  - It doesn't work well when the dataset doesn't fit into memory.\n",
    "\n",
    "# Stochastic Gradient Descent (SGD)\n",
    "- **Batch Size**: SGD uses a batch size of 1, meaning it updates the model parameters for each training example one at a time.\n",
    "- **Advantages**:\n",
    "  - It converges faster than BGD because it updates the model frequently.\n",
    "  - It can escape local minima more easily due to its noisy updates.\n",
    "- **Disadvantages**:\n",
    "  - The updates can be very noisy, leading to oscillations in the convergence process.\n",
    "  - It may not converge to the global minimum, and the final solution can be somewhat random.\n",
    "\n",
    "# Mini-Batch Gradient Descent\n",
    "- **Batch Size**: Mini-Batch Gradient Descent uses a batch size between 1 and the size of the entire dataset. Common batch sizes range from a few examples to a few hundred.\n",
    "- **Advantages**:\n",
    "  - It strikes a balance between the advantages of BGD and SGD. It provides a more stable convergence than SGD while being computationally efficient.\n",
    "  - It can take advantage of parallelism when computing gradients.\n",
    "- **Disadvantages**:\n",
    "  - The choice of batch size is a hyperparameter that needs tuning.\n",
    "  - The convergence behavior can be sensitive to the batch size and learning rate.\n",
    "\n",
    "In summary, the main differences between these gradient descent variants lie in the size of the batches used for computing gradients and updating model parameters. BGD uses the entire dataset, SGD uses a single example at a time, and Mini-Batch GD uses a small, fixed-size batch of examples. The choice of which variant to use depends on factors such as the dataset size, available computational resources, and desired convergence characteristics. Mini-Batch Gradient Descent is often the most practical choice for training deep learning models in practice.\n"
   ]
  },
  {
   "cell_type": "markdown",
   "id": "a1dcea8a",
   "metadata": {},
   "source": [
    "## Learning Rate in Machine Learning\n",
    "\n",
    "In machine learning and deep learning, the learning rate is a hyperparameter that plays a crucial role in controlling the step size at which a model's parameters (weights and biases) are updated during the training process. It determines how quickly or slowly a neural network learns from the data.\n",
    "\n",
    "### Gradient Descent Optimization\n",
    "\n",
    "- Gradient descent is a common optimization algorithm used to train machine learning and deep learning models.\n",
    "- During training, the goal is to minimize a loss function (also called a cost function) by iteratively updating the model's parameters.\n",
    "- The updates are made by moving in the direction of steepest descent, which is the direction of the negative gradient of the loss function.\n",
    "\n",
    "### The Role of Learning Rate\n",
    "\n",
    "- The learning rate (often denoted as \"α\" or \"η\") determines the step size taken in each iteration of gradient descent.\n",
    "- A larger learning rate means larger steps, which can make the training process faster but may lead to overshooting the optimal parameter values, causing the algorithm to diverge.\n",
    "- A smaller learning rate means smaller steps, which can lead to a more stable convergence but may result in slower training.\n",
    "\n",
    "### Choosing the Right Learning Rate\n",
    "\n",
    "<img src=\"Lecture_Image_Files/lecture_15/learning_rate_comp.png\" width=\"500\">\n",
    "\n",
    "- Selecting an appropriate learning rate is crucial for successful model training.\n",
    "- If the learning rate is too large, the optimization process may oscillate or diverge, preventing the model from converging to the optimal solution.\n",
    "- If the learning rate is too small, the optimization process may become extremely slow, and it may take a long time for the model to converge.\n",
    "\n",
    "### Techniques for Learning Rate Adjustment\n",
    "\n",
    "- Learning rate scheduling: This involves changing the learning rate during training, such as reducing it gradually over time (e.g., learning rate decay).\n",
    "- Adaptive learning rate methods: Algorithms like AdaGrad, RMSprop, and Adam adjust the learning rate dynamically based on the history of parameter updates to balance the step size.\n",
    "\n",
    "### Hyperparameter Tuning\n",
    "\n",
    "- The choice of an appropriate learning rate often requires hyperparameter tuning, where different learning rates are tried, and the one that results in the best model performance on a validation set is selected.\n",
    "- Cross-validation and grid search are common techniques for hyperparameter tuning.\n",
    "\n",
    "In summary, the learning rate is a critical hyperparameter in the training of machine learning and deep learning models. It controls the step size for parameter updates during optimization and can significantly impact the training process, affecting convergence speed and the quality of the learned model. Finding the right learning rate is often a crucial part of the model training process.\n"
   ]
  },
  {
   "cell_type": "markdown",
   "id": "05eb3723",
   "metadata": {},
   "source": [
    "## Convex Function:\n",
    "\n",
    "A convex function is a mathematical function that has a specific geometric property on its graph. In simple terms, a function is convex if, when you draw a straight line segment between any two points on its graph, that line segment lies entirely above or on the graph. In other words, the graph of a convex function curves upward or forms a \"bowl\" shape without any dips or local maxima (peaks).\n",
    "\n",
    "### Consequences of Non-Convex Functions in Machine Learning\n",
    "\n",
    "<img src=\"Lecture_Image_Files/lecture_15/global_local.png\" width=\"500\">\n",
    "\n",
    "When dealing with non-convex functions in machine learning, several challenges and complexities arise in the optimization process. Here are some key implications:\n",
    "\n",
    "1. **Multiple Local Optima:** Non-convex functions can have multiple local optima, making it difficult to find the global minimum—the lowest point across the entire domain. Optimization algorithms may converge to local minima instead.\n",
    "\n",
    "2. **Sensitivity to Initialization:** Different initial values for model parameters can lead to different local minima, making it challenging to ensure consistent and optimal results.\n",
    "\n",
    "3. **Convergence to Local Optima:** Gradient-based optimization algorithms may converge to local minima instead of the global minimum, resulting in suboptimal model performance.\n",
    "\n",
    "4. **Slower Convergence:** Non-convex functions often lead to slower convergence during training because optimization algorithms need to navigate complex landscapes with multiple peaks and valleys.\n",
    "\n",
    "5. **Overfitting Risk:** Non-convex optimization problems have a higher risk of overfitting, where the model fits the training data too closely, leading to poor generalization on unseen data.\n",
    "\n",
    "6. **Hyperparameter Tuning Challenge:** Tuning hyperparameters, such as learning rates, for non-convex functions can be more challenging as different regions of the function's landscape may require different settings.\n",
    "\n",
    "7. **Exploration Strategies:** Practitioners often employ various exploration strategies, including random initialization, multiple restarts, and heuristic techniques, to increase the chances of finding better solutions in non-convex optimization problems.\n",
    "\n",
    "8. **Computational Cost:** Searching for global optima in non-convex functions typically requires more computational resources and time compared to convex optimization.\n",
    "\n",
    "To mitigate these challenges, advanced optimization techniques, such as stochastic gradient descent with momentum, genetic algorithms, simulated annealing, and Bayesian optimization, are commonly used. Careful hyperparameter tuning and regularization methods can also enhance the robustness of the optimization process and improve the generalization performance of machine learning models.\n"
   ]
  },
  {
   "cell_type": "markdown",
   "id": "b47027c4",
   "metadata": {},
   "source": [
    "## Vanishing Gradient vs. Gradient Explosion in Deep Neural Networks\n",
    "\n",
    "**Vanishing Gradient:**\n",
    "- **Definition:** Vanishing gradient occurs when gradients (derivatives of the loss function with respect to model parameters) become extremely small as they propagate backward through the layers of a deep neural network.\n",
    "- **Causes:** It often happens in deep networks with activation functions like sigmoid or hyperbolic tangent (tanh) that squash their inputs into a small range. Gradients diminish significantly during backpropagation, making it challenging for early layers to learn meaningful features.\n",
    "- **Consequences:** With vanishing gradients, early layers may learn slowly or not at all, hindering the network's ability to capture complex patterns.\n",
    "\n",
    "**Gradient Explosion:**\n",
    "- **Definition:** Gradient explosion is the opposite problem, where gradients become extremely large during backpropagation.\n",
    "- **Causes:** It can occur when weights are initialized with large values or when activation functions like ReLU allow unbounded growth of activations.\n",
    "- **Consequences:** Gradient explosion can lead to unstable training, causing the loss to become NaN or approach infinity, making training impractical.\n",
    "\n",
    "**Mitigation Techniques:**\n",
    "- **Weight Initialization:** Proper weight initialization, such as He initialization for ReLU or Xavier initialization for sigmoid and tanh, helps alleviate both issues.\n",
    "- **Activation Functions:** Using non-vanishing gradient activation functions like ReLU or Leaky ReLU can be beneficial.\n",
    "- **Batch Normalization:** Applying batch normalization between layers stabilizes training and mitigates both problems.\n",
    "- **Gradient Clipping:** Limiting gradient magnitude prevents gradient explosion.\n",
    "- **Residual Connections:** Skip or residual connections in deep architectures improve gradient flow.\n",
    "- **Gated Activation Functions:** Architectures like LSTM and GRU use gating mechanisms to control gradient flow, addressing vanishing gradient issues in recurrent neural networks.\n",
    "\n",
    "Balancing the trade-off between vanishing and exploding gradients is crucial when designing and training deep neural networks to ensure stable and effective learning.\n"
   ]
  },
  {
   "cell_type": "markdown",
   "id": "7312a73c",
   "metadata": {},
   "source": [
    "## Parameters vs. Hyperparameters in Machine Learning\n",
    "\n",
    "In the realm of machine learning and deep learning, understanding the distinctions between \"parameters\" and \"hyperparameters\" is crucial as they play distinct roles within a model:\n",
    "\n",
    "### Parameters\n",
    "\n",
    "- **Definition:** Parameters are internal variables that a machine learning or deep learning model learns from the training data. These variables act as coefficients or weights, determining the relationship between input features and the model's predicted output.\n",
    "\n",
    "- **Learned:** Parameters are learned automatically during the model training process. The model adjusts these parameters iteratively to minimize the difference between its predictions and the actual target values in the training dataset.\n",
    "\n",
    "- **Examples:** In a linear regression model, the coefficients associated with each feature are considered parameters. In a neural network, parameters include the weights and biases that connect neurons across different layers.\n",
    "\n",
    "### Hyperparameters\n",
    "\n",
    "- **Definition:** Hyperparameters are external configurations or settings that are defined prior to training a machine learning or deep learning model. They control various aspects of the training process and influence the behavior of the model.\n",
    "\n",
    "- **Set by the User:** Hyperparameters are not learned from the data but are explicitly set by the user or the data scientist before initiating the training process. Proper tuning of hyperparameters is essential for optimizing model performance.\n",
    "\n",
    "- **Examples:** Common hyperparameters include the learning rate, batch size, the number of hidden layers in a neural network, the number of trees in a random forest, the strength of regularization techniques, and the choice of activation functions.\n",
    "\n",
    "In summary, parameters represent internal variables that the model learns from the data, whereas hyperparameters are external settings and configurations that users specify to control the training process and model behavior. Effective tuning of hyperparameters is vital for achieving optimal model performance, while parameters are learned by the model to make predictions based on the training data.\n"
   ]
  },
  {
   "cell_type": "markdown",
   "id": "7e11e7e9",
   "metadata": {},
   "source": [
    "## Forward and Backward Propagation in Neural Networks\n",
    "\n",
    "Forward and backward propagation are fundamental concepts in training neural networks, particularly in the context of supervised learning. They are key processes that allow a neural network to learn from data and adjust its parameters (weights and biases) to make better predictions.\n",
    "\n",
    "### Forward Propagation:\n",
    "\n",
    "Forward propagation is the process by which an input is passed through the neural network to compute the predicted output (often referred to as the \"forward pass\"). It involves the following steps:\n",
    "\n",
    "1. **Input Layer**: The input data is fed into the neural network through the input layer. Each input feature corresponds to a neuron in the input layer.\n",
    "\n",
    "2. **Weights and Biases**: Each connection between neurons in one layer and neurons in the next layer is associated with a weight. Additionally, each neuron in a layer has an associated bias. These weights and biases are the parameters that the network learns during training.\n",
    "\n",
    "3. **Activation Function**: After calculating the weighted sum of inputs for each neuron in a layer, an activation function is applied to introduce non-linearity into the network. Common activation functions include ReLU (Rectified Linear Unit), Sigmoid, and Tanh.\n",
    "\n",
    "4. **Hidden Layers**: The input is passed through one or more hidden layers, with each layer performing weighted summation, applying activation functions, and passing the result to the next layer.\n",
    "\n",
    "5. **Output Layer**: The final hidden layer connects to the output layer. The output layer produces the predicted values or probabilities, depending on the type of problem (e.g., classification or regression).\n",
    "\n",
    "6. **Loss Calculation**: The predicted output is compared to the actual target values to calculate a loss or cost. The choice of loss function depends on the specific problem (e.g., Mean Squared Error for regression, Cross-Entropy for classification).\n",
    "\n",
    "### Backward Propagation (Backpropagation):\n",
    "\n",
    "Backward propagation, often simply referred to as \"backpropagation,\" is the process by which the neural network learns from its mistakes by adjusting its parameters. It involves the following steps:\n",
    "\n",
    "1. **Gradient Calculation**: The gradient of the loss with respect to each weight and bias in the network is calculated. This gradient represents the direction and magnitude of the change required to minimize the loss.\n",
    "\n",
    "2. **Error Backpropagation**: The gradient is propagated backward through the network, starting from the output layer and moving toward the input layer. This step involves applying the chain rule of calculus to calculate gradients at each layer.\n",
    "\n",
    "3. **Parameter Update**: The gradients are used to update the network's parameters (weights and biases) using an optimization algorithm such as Gradient Descent. The learning rate determines the step size for these updates.\n",
    "\n",
    "4. **Iterative Process**: Steps 1 to 3 are repeated iteratively for a specified number of epochs or until convergence. This process allows the network to gradually reduce the loss and improve its predictions.\n",
    "\n",
    "### Importance:\n",
    "\n",
    "- Forward propagation is responsible for making predictions given the current network parameters.\n",
    "\n",
    "- Backward propagation is essential for training the network. It computes the gradients that guide parameter updates to minimize the loss function.\n",
    "\n",
    "Together, forward and backward propagation enable neural networks to learn from data, adjust their parameters to minimize errors, and make accurate predictions on new, unseen data. This process is known as supervised learning.\n"
   ]
  },
  {
   "cell_type": "markdown",
   "id": "4cc7333f",
   "metadata": {},
   "source": [
    "## Iteration vs. Epoch in Machine Learning\n",
    "\n",
    "In machine learning, we use terms like \"epochs,\" \"batch size,\" and \"iterations\" mainly when dealing with large datasets, which is quite common. When our data is too big to be processed all at once by the computer, we need to break it into smaller portions and feed them gradually to the neural network. We update the neural network's weights at the end of each step to make it better fit the given data.\n",
    "\n",
    "## Epochs:\n",
    "An epoch is when we go through the entire dataset once, both forward and backward, in the neural network. Because it's impractical to process the entire dataset at once, we split it into smaller batches.\n",
    "\n",
    "Why We Use Multiple Epochs: Initially, it might seem odd that we have to pass the same data through the neural network multiple times. However, it's important to remember that we're working with a limited dataset, and we're using an iterative process called Gradient Descent to improve the model. Updating the weights with just a single pass (one epoch) isn't sufficient for effective learning and optimization.\n",
    "\n",
    "One epoch leads to underfitting of the curve in the graph (below):\n",
    "\n",
    "<img src=\"Lecture_Image_Files/lecture_15/overfit_under.png\" width=\"500\">\n",
    "\n",
    "When we increase the number of epochs, it means we're allowing the neural network to adjust its weights more times. This process changes the performance curve of the model: at first, it's not fitting well, then it gets better, but if we go too far, it might start fitting too much, which is not good.\n",
    "\n",
    "\n",
    "Determining the right number of epochs is a task without a fixed answer. It varies from one dataset to another. You could say that the number of epochs relates to the diversity of your data. For instance, consider whether your dataset contains only black cats or if it's much more varied in terms of content.\n",
    "\n",
    "## Batch Size in Machine Learning\n",
    "\n",
    "In machine learning, \"batch size\" refers to the total number of training examples included in a single batch during the training of a model. It's important to note that batch size and the number of batches are distinct concepts:\n",
    "\n",
    "### Batch Size\n",
    "\n",
    "- **Definition:** Batch size specifies how many data points are processed together in each iteration during model training. A larger batch size means that more examples are considered simultaneously, which can speed up training but might require more memory.\n",
    "\n",
    "### Number of Batches\n",
    "\n",
    "- **Definition:** The number of batches is determined by dividing the total number of training examples by the batch size. It represents how many groups of data are processed during one epoch (a complete pass through the entire training dataset).\n",
    "\n",
    "- **Example:** If you have 1,000 training examples and a batch size of 100, you would have 10 batches in one epoch (1,000 / 100).\n",
    "\n",
    "In summary, batch size controls how many training examples are processed at once in each iteration, while the number of batches represents the divisions of your training dataset into these groups for training over the course of one epoch.\n",
    "\n",
    "## Iterations in Machine Learning\n",
    "\n",
    "Iterations in machine learning refer to the number of batches required to complete one full epoch of training. Calculating the number of iterations is a straightforward process, typically involving the total number of training examples and the chosen batch size. Here's a simplified explanation:\n",
    "\n",
    "### Iterations\n",
    "\n",
    "- **Definition:** Iterations represent the count of batches needed to process the entire training dataset once, which constitutes one epoch of training.\n",
    "\n",
    "- **Calculation:** To determine the number of iterations needed for one epoch, you divide the total number of training examples by the chosen batch size.\n",
    "\n",
    "### Example\n",
    "\n",
    "Let's illustrate this concept with an example:\n",
    "\n",
    "- Suppose you have a dataset of 2,000 training examples.\n",
    "- You decide to use a batch size of 500.\n",
    "- To complete one full epoch of training, you perform 2,000 / 500, which equals 4 iterations.\n",
    "- Therefore, for one complete epoch, you need 4 iterations, with each iteration processing a batch of 500 examples.\n",
    "\n",
    "This approach efficiently handles the training of machine learning models, especially when working with large datasets, by dividing them into manageable batches for processing."
   ]
  },
  {
   "cell_type": "markdown",
   "id": "faa5762e",
   "metadata": {},
   "source": [
    "### Build the Linear Regression model from Scratch\n",
    "\n",
    "Import the necessary libraries:"
   ]
  },
  {
   "cell_type": "code",
   "execution_count": 2,
   "id": "98fc154b",
   "metadata": {},
   "outputs": [],
   "source": [
    "import pandas as pd\n",
    "import numpy as np\n",
    "import matplotlib.pyplot as plt\n",
    "import matplotlib.axes as ax"
   ]
  },
  {
   "cell_type": "code",
   "execution_count": 3,
   "id": "f8251aeb",
   "metadata": {},
   "outputs": [],
   "source": [
    "data = pd.read_csv('data/lec_15/data_for_lr.csv')\n",
    "\n",
    "# Drop the missing values\n",
    "data = data.dropna()\n",
    "\n",
    "# training dataset and labels\n",
    "train_input = np.array(data.x[0:500]).reshape(500,1)\n",
    "train_output  = np.array(data.y[0:500]).reshape(500,1)\n",
    " \n",
    "# valid dataset and labels\n",
    "test_input = np.array(data.x[500:700]).reshape(199,1)\n",
    "test_output  = np.array(data.y[500:700]).reshape(199,1)"
   ]
  },
  {
   "cell_type": "markdown",
   "id": "17faa7e7",
   "metadata": {},
   "source": [
    "### Steps to Create a Linear Regression Model:\n",
    "\n",
    "- Initially providing a random value to the parameters (m & c), the linear regression function Y=mx+x is applied in forward propagation.\n",
    "- The function for calculating the cost function, or the mean, has been written by us. "
   ]
  },
  {
   "cell_type": "code",
   "execution_count": 4,
   "id": "b63b121f",
   "metadata": {},
   "outputs": [],
   "source": [
    "class LinearRegression:\n",
    "    def __init__(self):\n",
    "        self.parameters = {}\n",
    "     \n",
    "    def forward_propagation(self, train_input):\n",
    "        m = self.parameters['m']\n",
    "        c = self.parameters['c']\n",
    "        predictions = np.multiply(m, train_input) + c\n",
    "        return predictions\n",
    " \n",
    "    def cost_function(self, predictions, train_output):\n",
    "        cost = np.mean((train_output - predictions) ** 2)\n",
    "        return cost\n",
    " \n",
    "    def backward_propagation(self, train_input, train_output, predictions):\n",
    "        derivatives = {}\n",
    "        df = (train_output - predictions) * -1\n",
    "        dm = np.mean(np.multiply(train_input, df))\n",
    "        dc = np.mean(df)\n",
    "        derivatives['dm'] = dm\n",
    "        derivatives['dc'] = dc\n",
    "        return derivatives\n",
    " \n",
    "    def update_parameters(self, derivatives, learning_rate):\n",
    "        self.parameters['m'] = self.parameters['m'] - learning_rate * derivatives['dm']\n",
    "        self.parameters['c'] = self.parameters['c'] - learning_rate * derivatives['dc']\n",
    " \n",
    "    def train(self, train_input, train_output, learning_rate, iters):\n",
    "        #initialize random parameters\n",
    "        self.parameters['m'] = np.random.uniform(0,1) * -1\n",
    "        self.parameters['c'] = np.random.uniform(0,1) * -1\n",
    "         \n",
    "        #initialize loss\n",
    "        self.loss = []\n",
    "         \n",
    "        #iterate\n",
    "        for i in range(iters):\n",
    "            #forward propagation\n",
    "            predictions = self.forward_propagation(train_input)\n",
    " \n",
    "            #cost function\n",
    "            cost = self.cost_function(predictions, train_output)\n",
    " \n",
    "            #append loss and print\n",
    "            self.loss.append(cost)\n",
    "            print(\"Iteration = {}, Loss = {}\".format(i+1, cost))\n",
    " \n",
    "            #back propagation\n",
    "            derivatives = self.backward_propagation(train_input, train_output, predictions)\n",
    " \n",
    "            #update parameters\n",
    "            self.update_parameters(derivatives, learning_rate)\n",
    " \n",
    "        return self.parameters, self.loss"
   ]
  },
  {
   "cell_type": "markdown",
   "id": "a872fd19",
   "metadata": {},
   "source": [
    "### Train the model"
   ]
  },
  {
   "cell_type": "code",
   "execution_count": 5,
   "id": "18cd793b",
   "metadata": {},
   "outputs": [
    {
     "name": "stdout",
     "output_type": "stream",
     "text": [
      "Iteration = 1, Loss = 3438.097514556384\n",
      "Iteration = 2, Loss = 1564.1420199390125\n",
      "Iteration = 3, Loss = 713.9263363145092\n",
      "Iteration = 4, Loss = 328.18253887387954\n",
      "Iteration = 5, Loss = 153.1701506630794\n",
      "Iteration = 6, Loss = 73.76683623464945\n",
      "Iteration = 7, Loss = 37.74146448183373\n",
      "Iteration = 8, Loss = 21.39671336814357\n",
      "Iteration = 9, Loss = 13.981081637493615\n",
      "Iteration = 10, Loss = 10.616601261191907\n",
      "Iteration = 11, Loss = 9.090132741582554\n",
      "Iteration = 12, Loss = 8.39757223721454\n",
      "Iteration = 13, Loss = 8.083356723034731\n",
      "Iteration = 14, Loss = 7.940796749976149\n",
      "Iteration = 15, Loss = 7.876117086059344\n",
      "Iteration = 16, Loss = 7.846771804665937\n",
      "Iteration = 17, Loss = 7.833457771763538\n",
      "Iteration = 18, Loss = 7.8274171340607115\n",
      "Iteration = 19, Loss = 7.824676443818571\n",
      "Iteration = 20, Loss = 7.82343294339683\n"
     ]
    }
   ],
   "source": [
    "#Example usage\n",
    "linear_reg = LinearRegression()\n",
    "parameters, loss = linear_reg.train(train_input, train_output, 0.0001, 20)"
   ]
  },
  {
   "cell_type": "code",
   "execution_count": 6,
   "id": "99badf14",
   "metadata": {},
   "outputs": [
    {
     "data": {
      "image/png": "[encoded data removed]",
      "text/plain": [
       "<Figure size 640x480 with 1 Axes>"
      ]
     },
     "metadata": {},
     "output_type": "display_data"
    }
   ],
   "source": [
    "#Prediction on test data\n",
    "y_pred = test_input*parameters['m'] + parameters['c']\n",
    " \n",
    "# Plot the regression line with actual data pointa\n",
    "plt.plot(test_input, test_output, '+', label='Actual values')\n",
    "plt.plot(test_input, y_pred, label='Predicted values')\n",
    "plt.xlabel('Test input')\n",
    "plt.ylabel('Test Output or Predicted output')\n",
    "plt.legend()\n",
    "plt.show()"
   ]
  },
  {
   "cell_type": "markdown",
   "id": "c1640acb",
   "metadata": {},
   "source": [
    "# Image Classification\n",
    "\n",
    "Image classification is a specific application of classification where the input data is in the form of images. The goal is to assign one or more labels to an image based on its content or characteristics. Deep learning methods, particularly convolutional neural networks (CNNs), have proven to be highly effective in image classification tasks.\n",
    "\n",
    "In image classification, the input image is typically represented as a matrix of pixel values. Deep learning models learn hierarchical features from the images, starting from simple features like edges and textures and gradually capturing more complex patterns. The model outputs a probability distribution over all possible classes, indicating the likelihood of the image belonging to each class. The class with the highest probability is assigned as the predicted label for the image.\n",
    "\n",
    "The equations used in image classification depend on the specific architecture and approach employed, such as convolutional layers, pooling layers, and fully connected layers in a CNN. These equations involve numerous matrix multiplications, non-linear activation functions, and other operations to extract and process features from the image data."
   ]
  },
  {
   "cell_type": "markdown",
   "id": "0d626df2",
   "metadata": {},
   "source": [
    "# Multi Layer Perceptron"
   ]
  },
  {
   "cell_type": "markdown",
   "id": "72a8d835",
   "metadata": {},
   "source": [
    "### Perceptron in Deep Learning\n",
    "\n",
    "<img src='Lecture_Image_Files/lecture_15/perceptron.png' width=\"500\"/>\n",
    "\n",
    "A **Perceptron** is the fundamental building block of a neural network in deep learning. It is a simple algorithm designed for binary classification tasks. The operation of a perceptron can be described with the following steps:\n",
    "\n",
    "1. **Input:** A perceptron takes several inputs, which we denote as `x1, x2, ..., xn`. Each of these inputs has an associated weight, denoted as `w1, w2, ..., wn`. The weights are learned parameters that the perceptron adjusts to improve its predictions.\n",
    "\n",
    "2. **Weighted Sum:** Each input `xi` is multiplied by its corresponding weight `wi`, and these products are summed together. Additionally, a bias term `b` is added. The bias is another learned parameter that allows the perceptron to make better predictions. This step is represented by the equation:\n",
    "\n",
    "    ```\n",
    "    z = w1*x1 + w2*x2 + ... + wn*xn + b\n",
    "    ```\n",
    "\n",
    "    Here, `z` is the weighted sum plus the bias.\n",
    "\n",
    "3. **Activation Function:** The weighted sum `z` is then passed through an activation function. In the original perceptron algorithm, this is a step function that outputs 1 if the input is greater than a certain threshold, and -1 otherwise. We denote the activation function as `f`, and the output of the perceptron as `y`. This step is represented by the equation:\n",
    "\n",
    "    ```\n",
    "    y = f(z)\n",
    "    ```\n",
    "\n",
    "    Here, `f` is the step function. A common choice of step function is:\n",
    "\n",
    "    ```\n",
    "    f(z) = 1 if z > 0, else -1\n",
    "    ```\n",
    "\n",
    "In summary, the operation of a perceptron can be represented by these two equations:\n",
    "```\n",
    "z = w1x1 + w2x2 + ... + wn*xn + b\n",
    "y = f(z)\n",
    "```\n",
    "\n",
    "The perceptron learns the optimal weights and bias by iteratively updating these parameters in response to the prediction errors it makes.\n"
   ]
  },
  {
   "cell_type": "markdown",
   "id": "e41db4a2",
   "metadata": {},
   "source": [
    "### Activation Functions in Neural Networks (Sigmoid, tanh, Softmax, ReLU, Leaky ReLU )\n",
    "\n",
    "#### What is Activation Function?\n",
    "\n",
    "It is simply a function that you use to obtain a node's output. It also goes by the name Transfer Function.\n",
    "\n",
    "#### Why we use Activation functions with Neural Networks?\n",
    "In neural networks, an activation function serves the essential role of introducing non-linearity into the model.\n",
    "\n",
    "Neural networks consist of multiple nodes or neurons in each layer, and in a fully-connected network, these neurons are interconnected. Let's focus on how we calculate the value of the first neuron in the second layer. Each neuron in the first layer is multiplied by a weight, where these weights are learned during training. The resulting products are summed together, and then a bias is added to this sum. However, if we were to limit ourselves to just these multiplications and additions, our models would be restricted to learning only simple, linear relationships.\n",
    "\n",
    "To enable the learning of complex patterns and relationships, we must break away from linearity. This is where activation functions come into play. Activation functions are non-linear functions applied immediately after adding the bias. They transform the output, providing the neuron (in our example, the first neuron in the second layer) with a non-linear value, allowing the network to capture intricate and non-linear relationships within the data.\n",
    "\n",
    "The two main categories of activation functions are:\n",
    "- Linear Activation Function\n",
    "- Non-Linear Activation Functions \n",
    "\n",
    "#### Linear or Identity Activation Function:\n",
    "\n",
    "<img src='Lecture_Image_Files/lecture_15/linear.jpg' width=\"500\"/>\n",
    "\n",
    "The function is a line or linear, as you can see. Thus, no range will be used to limit the output of the functions.\n",
    "\n",
    "Equation : f(x) = x\n",
    "\n",
    "Range : (-infinity to infinity)\n",
    "\n",
    "It doesn’t help with the complexity or various parameters of usual data that is fed to the neural networks.\n",
    "\n",
    "Non-linear Activation Function:\n",
    "\n",
    "The most frequently utilized activation functions are nonlinear activation functions. The graph appears like this because of nonlinearity.\n",
    "\n",
    "<img src='Lecture_Image_Files/lecture_15/non_linear.png' width=\"500\"/>\n",
    "\n",
    "Activation functions help the neural network handle different types of data and make it better at recognizing and distinguishing different outputs.\n",
    "\n",
    "The Nonlinear Activation Functions are mainly divided on the basis of their range or curves:\n",
    "\n",
    "### 1. Sigmoid or Logistic Activation Function\n",
    "\n",
    "The Sigmoid Function curve looks like a S-shape.\n",
    "\n",
    "<img src='Lecture_Image_Files/lecture_15/sigmoid.png' width=\"500\"/>\n",
    "\n",
    "The sigmoid function is represented by the following mathematical equation: \n",
    "\n",
    "$$\n",
    "\\sigma(x) = \\frac{1}{1 + e^{-x}}\n",
    "$$\n",
    "\n",
    "In this equation:\n",
    "- $ \\sigma(x) $ represents the sigmoid function applied to the input value $ x $.\n",
    "- $ e $ is the base of the natural logarithm (approximately 2.71828).\n",
    "- The function takes the input $ x $, applies the exponential function to it ($ e^{-x} $), and then computes $ \\frac{1}{1 + e^{-x}} $, resulting in a value between 0 and 1.\n",
    "\n",
    "<img src='Lecture_Image_Files/lecture_15/sigmoidUnit.png' width=\"500\"/>\n",
    "\n",
    "We chose the sigmoid function primarily because the range is between 0 and 1. As a result, it is particularly used for models whose output is a probability prediction.The sigmoid is the best option because anything has a probability that only occurs between 0 and 1.\n",
    "\n",
    "The function is differentiable.That means, we can find the slope of the sigmoid curve at any two points.\n",
    "\n",
    "The softmax function is a more generalized logistic activation function which is used for multiclass classification."
   ]
  },
  {
   "cell_type": "markdown",
   "id": "5008b04d",
   "metadata": {},
   "source": [
    "## Code for sigmoid function"
   ]
  },
  {
   "cell_type": "code",
   "execution_count": 7,
   "id": "8e2fa497",
   "metadata": {},
   "outputs": [
    {
     "name": "stdout",
     "output_type": "stream",
     "text": [
      "[0.26894142 0.5        0.73105858 0.88079708]\n"
     ]
    }
   ],
   "source": [
    "import numpy as np\n",
    "\n",
    "# Define the sigmoid function\n",
    "def sigmoid(x):\n",
    "    return 1 / (1 + np.exp(-x))\n",
    "\n",
    "# Dummy input\n",
    "dummy_input = np.array([-1, 0, 1, 2])\n",
    "\n",
    "# Apply sigmoid function to the dummy input\n",
    "result = sigmoid(dummy_input)\n",
    "\n",
    "# Print the result\n",
    "print(result)\n"
   ]
  },
  {
   "cell_type": "markdown",
   "id": "c1d4cbf6",
   "metadata": {},
   "source": [
    "### 2. Tanh or hyperbolic tangent Activation Function\n",
    "\n",
    "Tanh is like a better version of a logistic sigmoid. The tanh function has a range of (-1 to 1). Tanh also has an s-shaped sigmoidal form.\n",
    "\n",
    "<img src='Lecture_Image_Files/lecture_15/sig_vs_tanh.png' width=\"500\"/>\n",
    "\n",
    "The positive aspect of this is that the zero inputs will be mapped near zero and the negative inputs will be highly negative in the tanh graph.\n",
    "\n",
    "The tanh function is mainly used classification between two classes.\n",
    "\n",
    "Both tanh and logistic sigmoid activation functions are used in feed-forward nets.\n",
    "\n",
    "Equation for Tanh is:\n",
    "$ \\tanh(x) = \\frac{e^{x} - e^{-x}}{e^{x} + e^{-x}} $\n"
   ]
  },
  {
   "cell_type": "code",
   "execution_count": 8,
   "id": "a7a7baff",
   "metadata": {},
   "outputs": [
    {
     "name": "stdout",
     "output_type": "stream",
     "text": [
      "[-0.76159416  0.          0.76159416  0.96402758]\n"
     ]
    }
   ],
   "source": [
    "import numpy as np\n",
    "\n",
    "# Define the tanh activation function\n",
    "def tanh(x):\n",
    "    return np.tanh(x)\n",
    "\n",
    "# Dummy input\n",
    "dummy_input = np.array([-1, 0, 1, 2])\n",
    "\n",
    "# Apply tanh function to the dummy input\n",
    "result = tanh(dummy_input)\n",
    "\n",
    "# Print the result\n",
    "print(result)\n"
   ]
  },
  {
   "cell_type": "markdown",
   "id": "de27ebce",
   "metadata": {},
   "source": [
    "### 3. ReLU (Rectified Linear Unit) Activation Function\n",
    "\n",
    "ReLU is the most popular activation function in the world right now because it's used in nearly all convolutional neural networks and deep learning models. It's widely adopted because of its effectiveness.\n",
    "<img src='Lecture_Image_Files/lecture_15/sig_relu.png' width=\"500\"/>\n",
    "\n",
    "The Rectified Linear Unit (ReLU) activation function is represented by the following mathematical equation:\n",
    "\n",
    "$\n",
    "\\text{ReLU}(x) = \\left\\{\n",
    "  \\begin{array}{ll}\n",
    "    x & \\text{if } x > 0 \\\\\n",
    "    0 & \\text{if } x \\leq 0\n",
    "  \\end{array}\n",
    "\\right.\n",
    "$\n",
    "\n",
    "In this equation:\n",
    "- $\\text{ReLU}(x)$ represents the ReLU activation function applied to the input value $x$.\n",
    "- If the input $x$ is greater than 0, the ReLU function keeps it as is ($x$).\n",
    "- If the input $x$ is less than or equal to 0, the ReLU function changes it to 0.\n",
    "\n",
    "Range: [ 0 to infinity)\n",
    "\n",
    "The problem with the ReLU activation function is that it turns all negative values into zeros right away. This can limit the model's ability to learn from the data effectively because it doesn't handle negative values well and doesn't capture certain patterns in the data accurately."
   ]
  },
  {
   "cell_type": "markdown",
   "id": "ad264636",
   "metadata": {},
   "source": [
    "### Code for Relu:"
   ]
  },
  {
   "cell_type": "code",
   "execution_count": 9,
   "id": "554e4d01",
   "metadata": {},
   "outputs": [
    {
     "name": "stdout",
     "output_type": "stream",
     "text": [
      "[0 0 1 2]\n"
     ]
    }
   ],
   "source": [
    "import numpy as np\n",
    "\n",
    "# Define the ReLU activation function\n",
    "def relu(x):\n",
    "    return np.maximum(0, x)\n",
    "\n",
    "# Dummy input\n",
    "dummy_input = np.array([-1, 0, 1, 2])\n",
    "\n",
    "# Apply ReLU function to the dummy input\n",
    "result = relu(dummy_input)\n",
    "\n",
    "# Print the result\n",
    "print(result)\n"
   ]
  },
  {
   "cell_type": "markdown",
   "id": "b11c9009",
   "metadata": {},
   "source": [
    "### 4. Leaky ReLU\n",
    "\n",
    "It is an attempt to solve the dying ReLU problem\n",
    "\n",
    "<img src='Lecture_Image_Files/lecture_15/leaky_relu.png' width=\"500\"/>\n",
    "\n",
    "As you can see in the figure there is a leak. \n",
    "\n",
    "The leaky ReLU function expands the range of the ReLU function. Typically, it has a small positive value for 'a,' like 0.01. When 'a' is not 0.01, it's called Randomized ReLU. As a result, the leaky ReLU has a wider output range from negative infinity to positive infinity.\n",
    "\n",
    "\n",
    "The Leaky Rectified Linear Unit (Leaky ReLU) activation function is represented by the following mathematical equation:\n",
    "\n",
    "$\n",
    "\\text{LeakyReLU}(x) = \\begin{cases} \n",
    "      x & \\text{if } x > 0 \\\\\n",
    "      ax & \\text{if } x \\leq 0 \n",
    "   \\end{cases}\n",
    "$\n",
    "\n",
    "In this equation:\n",
    "- $\\text{LeakyReLU}(x)$ represents the Leaky ReLU activation function applied to the input value $x$.\n",
    "- If the input $x$ is greater than 0, the Leaky ReLU function keeps it as is ($x$).\n",
    "- If the input $x$ is less than or equal to 0, the Leaky ReLU function multiplies it by a small positive value 'a,' typically around 0.01.\n"
   ]
  },
  {
   "cell_type": "markdown",
   "id": "e44aec18",
   "metadata": {},
   "source": [
    "### Code for leaky Relu:"
   ]
  },
  {
   "cell_type": "code",
   "execution_count": 10,
   "id": "42e80d47",
   "metadata": {},
   "outputs": [
    {
     "name": "stdout",
     "output_type": "stream",
     "text": [
      "[-0.01  0.    1.    2.  ]\n"
     ]
    }
   ],
   "source": [
    "import numpy as np\n",
    "\n",
    "# Define the Leaky ReLU activation function\n",
    "def leaky_relu(x, alpha=0.01):\n",
    "    return np.where(x > 0, x, alpha * x)\n",
    "\n",
    "# Dummy input\n",
    "dummy_input = np.array([-1, 0, 1, 2])\n",
    "\n",
    "# Apply Leaky ReLU function to the dummy input (default alpha=0.01)\n",
    "result = leaky_relu(dummy_input)\n",
    "\n",
    "# Print the result\n",
    "print(result)\n"
   ]
  },
  {
   "cell_type": "markdown",
   "id": "0519212a",
   "metadata": {},
   "source": [
    "### Softmax Function: Conversion of Raw Outputs to Probabilities\n",
    "\n",
    "The softmax function is a widely used activation function in neural networks, particularly in multi-class classification problems. It is used to transform the raw output of a neural network into a probability distribution over multiple classes. The primary purpose of the softmax function is to convert the network's final layer outputs into probabilities, making it easier to interpret and use for classification.\n",
    "\n",
    "## The Softmax Equation\n",
    "\n",
    "The softmax function takes as input a vector of real numbers and returns a probability distribution. It does this by exponentiating each element in the input vector and then normalizing the result. Here's the equation for the softmax function:\n",
    "\n",
    "$$\n",
    "\\text{Softmax}(z)_i = \\frac{e^{z_i}}{\\sum_{j=1}^{C} e^{z_j}}\n",
    "$$\n",
    "\n",
    "In this equation:\n",
    "\n",
    "- $\\text{Softmax}(z)_i$ is the i-th element of the softmax output vector.\n",
    "- $z_i$ is the i-th element of the input vector.\n",
    "- $C$ is the total number of classes.\n",
    "\n",
    "The softmax function ensures that the output vector sums to 1, making it suitable for interpreting the values as probabilities. Each element in the output vector represents the probability of the input belonging to a particular class.\n",
    "\n",
    "## Why We Need Softmax\n",
    "\n",
    "1. **Classification**: In many machine learning and deep learning classification tasks, you need to assign an input to one of several possible classes. The softmax function provides a way to model and predict class probabilities, which is crucial for classification.\n",
    "\n",
    "2. **Interpretability**: The softmax function converts raw model outputs into probabilities, making it easier to understand the model's confidence in its predictions. This is particularly important when making decisions based on the model's output, such as in medical diagnosis or autonomous driving.\n",
    "\n",
    "3. **Training Objective**: In the training phase of a neural network, the softmax function is often used in conjunction with the cross-entropy loss. This combination encourages the model to output high probabilities for the correct class and low probabilities for incorrect classes. It's an essential part of the learning process.\n",
    "\n",
    "4. **Multiclass Problems**: The softmax function is well-suited for problems with multiple classes, where you want to distribute the probability mass among all possible classes.\n",
    "\n",
    "In summary, the softmax function is a fundamental component of neural networks, especially in multi-class classification tasks. It transforms raw network outputs into probabilities, facilitating interpretation and training while enabling models to make confident class predictions.\n"
   ]
  },
  {
   "cell_type": "markdown",
   "id": "9cf60408",
   "metadata": {},
   "source": [
    "### Code for softmax"
   ]
  },
  {
   "cell_type": "code",
   "execution_count": 11,
   "id": "00607dca",
   "metadata": {},
   "outputs": [
    {
     "name": "stdout",
     "output_type": "stream",
     "text": [
      "Softmax Output:\n",
      " [[0.65900114 0.24243297 0.09856589]\n",
      " [0.11314284 0.8360188  0.05083836]]\n"
     ]
    }
   ],
   "source": [
    "import numpy as np\n",
    "\n",
    "def softmax(x):\n",
    "    # Compute the exponentials of the input vector\n",
    "    exp_x = np.exp(x)\n",
    "    \n",
    "    # Compute the sum of exponentials for normalization\n",
    "    sum_exp_x = np.sum(exp_x, axis=1, keepdims=True)\n",
    "    \n",
    "    # Calculate the softmax probabilities for each class\n",
    "    softmax_probs = exp_x / sum_exp_x\n",
    "    \n",
    "    return softmax_probs\n",
    "\n",
    "# Example usage:\n",
    "input_vector = np.array([[2.0, 1.0, 0.1],\n",
    "                         [1.0, 3.0, 0.2]])\n",
    "\n",
    "softmax_output = softmax(input_vector)\n",
    "print(\"Softmax Output:\\n\", softmax_output)\n"
   ]
  },
  {
   "cell_type": "markdown",
   "id": "f174d31e",
   "metadata": {},
   "source": [
    "### Explanation\n",
    "\n",
    "In the code above:\n",
    "\n",
    "The softmax function takes an input vector **x** where each row represents a set of scores or logits for different classes.\n",
    "\n",
    "It computes the exponentials of the input vector to obtain the unnormalized probabilities.\n",
    "\n",
    "Then, it calculates the sum of exponentials along each row to normalize the probabilities for each class.\n",
    "\n",
    "Finally, it returns the softmax probabilities for each class.\n",
    "\n",
    "You can use this **softmax** function to transform the raw scores or logits from your neural network into probabilities. The resulting **softmax_output** is a probability distribution over the classes for each input sample."
   ]
  },
  {
   "cell_type": "markdown",
   "id": "af243ac4",
   "metadata": {},
   "source": [
    "# Perceptron for Binary Classification using pytorch\n",
    "\n",
    "In this example, we will demonstrate how to create a simple Perceptron model for binary classification using PyTorch, and how to visualize the decision boundary that the model learns. We will create a synthetic dataset for the purpose of this demonstration.\n",
    "\n",
    "First, we start by importing the necessary libraries:"
   ]
  },
  {
   "cell_type": "code",
   "execution_count": 12,
   "id": "c4a244b7",
   "metadata": {},
   "outputs": [],
   "source": [
    "import torch\n",
    "import torch.nn as nn\n",
    "import torch.optim as optim\n",
    "from sklearn.datasets import make_classification\n",
    "import matplotlib.pyplot as plt\n",
    "import numpy as np"
   ]
  },
  {
   "cell_type": "markdown",
   "id": "401f3426",
   "metadata": {},
   "source": [
    "Then, we create a synthetic binary classification dataset with two features using the `make_classification` function from `sklearn.datasets`. We convert the data into PyTorch tensors with `torch.tensor()`:"
   ]
  },
  {
   "cell_type": "code",
   "execution_count": 13,
   "id": "83fdc833",
   "metadata": {},
   "outputs": [],
   "source": [
    "X, y = make_classification(n_features=2, n_redundant=0, n_informative=2, n_clusters_per_class=2, random_state=42)\n",
    "X = torch.tensor(X, dtype=torch.float32)\n",
    "y = torch.tensor(y, dtype=torch.float32)\n",
    "\n"
   ]
  },
  {
   "cell_type": "markdown",
   "id": "c6e1a545",
   "metadata": {},
   "source": [
    "Next, we define the Perceptron model. The model inherits from `torch.nn.Module`. It contains a single linear layer `nn.Linear(2, 1)`, which applies a linear transformation to the input data. In the `forward` method, we pass the input through the linear layer, then apply the sigmoid activation function:\n"
   ]
  },
  {
   "cell_type": "code",
   "execution_count": 14,
   "id": "ef420808",
   "metadata": {},
   "outputs": [],
   "source": [
    "class Perceptron(nn.Module):\n",
    "    def __init__(self):\n",
    "        super(Perceptron, self).__init__()\n",
    "        self.fc = nn.Linear(2, 1)\n",
    "        \n",
    "    def forward(self, x):\n",
    "        return torch.sigmoid(self.fc(x))\n"
   ]
  },
  {
   "cell_type": "markdown",
   "id": "bd914bb1",
   "metadata": {},
   "source": [
    "We instantiate the model, the loss function (Binary Cross-Entropy Loss), and the optimizer (Stochastic Gradient Descent):"
   ]
  },
  {
   "cell_type": "code",
   "execution_count": 15,
   "id": "f513eb78",
   "metadata": {},
   "outputs": [],
   "source": [
    "model = Perceptron()\n",
    "criterion = nn.BCELoss()\n",
    "optimizer = optim.SGD(model.parameters(), lr=0.01)"
   ]
  },
  {
   "cell_type": "markdown",
   "id": "ca0fd1c1",
   "metadata": {},
   "source": [
    "We train the model for 1000 epochs. In each epoch, we first zero the gradients, then pass the input data through the model to get the predictions. We calculate the loss between the predictions and the true labels, then call `backward()` on the loss to compute the gradients, and finally update the model parameters with `optimizer.step()`:"
   ]
  },
  {
   "cell_type": "code",
   "execution_count": 16,
   "id": "5076086f",
   "metadata": {},
   "outputs": [
    {
     "name": "stdout",
     "output_type": "stream",
     "text": [
      "Epoch 50/1000: Loss = 0.9434, Accuracy = 23.00%\n",
      "Epoch 100/1000: Loss = 0.7141, Accuracy = 49.00%\n",
      "Epoch 150/1000: Loss = 0.5692, Accuracy = 74.00%\n",
      "Epoch 200/1000: Loss = 0.4758, Accuracy = 91.00%\n",
      "Epoch 250/1000: Loss = 0.4124, Accuracy = 94.00%\n",
      "Epoch 300/1000: Loss = 0.3669, Accuracy = 95.00%\n",
      "Epoch 350/1000: Loss = 0.3326, Accuracy = 97.00%\n",
      "Epoch 400/1000: Loss = 0.3058, Accuracy = 97.00%\n",
      "Epoch 450/1000: Loss = 0.2843, Accuracy = 97.00%\n",
      "Epoch 500/1000: Loss = 0.2664, Accuracy = 97.00%\n",
      "Epoch 550/1000: Loss = 0.2514, Accuracy = 97.00%\n",
      "Epoch 600/1000: Loss = 0.2386, Accuracy = 97.00%\n",
      "Epoch 650/1000: Loss = 0.2275, Accuracy = 97.00%\n",
      "Epoch 700/1000: Loss = 0.2177, Accuracy = 97.00%\n",
      "Epoch 750/1000: Loss = 0.2091, Accuracy = 97.00%\n",
      "Epoch 800/1000: Loss = 0.2014, Accuracy = 97.00%\n",
      "Epoch 850/1000: Loss = 0.1944, Accuracy = 97.00%\n",
      "Epoch 900/1000: Loss = 0.1882, Accuracy = 98.00%\n",
      "Epoch 950/1000: Loss = 0.1825, Accuracy = 98.00%\n",
      "Epoch 1000/1000: Loss = 0.1772, Accuracy = 98.00%\n"
     ]
    }
   ],
   "source": [
    "train_losses = []\n",
    "train_accuracy = []\n",
    "\n",
    "for epoch in range(1000):\n",
    "    optimizer.zero_grad()\n",
    "    outputs = model(X).squeeze()\n",
    "    loss = criterion(outputs, y)\n",
    "    loss.backward()\n",
    "    optimizer.step()\n",
    "    \n",
    "    predictions = (outputs >= 0.5).float()\n",
    "    accuracy = (predictions == y).float().mean()\n",
    "    \n",
    "    train_losses.append(loss.item())\n",
    "    train_accuracy.append(accuracy.item())\n",
    "    \n",
    "    if (epoch + 1) % 50 == 0:\n",
    "        print(f\"Epoch {epoch+1}/{1000}: Loss = {loss.item():.4f}, Accuracy = {accuracy.item()*100:.2f}%\")\n"
   ]
  },
  {
   "cell_type": "code",
   "execution_count": 17,
   "id": "2ce3851f",
   "metadata": {},
   "outputs": [
    {
     "name": "stdout",
     "output_type": "stream",
     "text": [
      "Prediction for sample [0.5, 0.20000000298023224]: 0.6934171319007874\n"
     ]
    }
   ],
   "source": [
    "# Pass a single sample for prediction\n",
    "sample = torch.tensor([[0.5, 0.2]], dtype=torch.float32)\n",
    "with torch.no_grad():\n",
    "    prediction = model(sample).item()\n",
    "    print(f\"Prediction for sample {sample.tolist()[0]}: {prediction}\")"
   ]
  },
  {
   "cell_type": "markdown",
   "id": "b7c843f0",
   "metadata": {},
   "source": [
    "\n",
    "We compute the decision boundary using the weights and bias from our trained model. We make the assumption here that the data is 2D. The decision boundary in a two-dimensional space is a straight line, and we can compute this line's equation from the weights and bias of our trained model:"
   ]
  },
  {
   "cell_type": "code",
   "execution_count": 18,
   "id": "8af40136",
   "metadata": {},
   "outputs": [],
   "source": [
    "with torch.no_grad():\n",
    "    w1, w2 = model.fc.weight[0]\n",
    "    b = model.fc.bias[0]\n",
    "    x_vals = np.array([X[:, 0].min()-1, X[:, 0].max()+1])\n",
    "    y_vals = (b - w1*x_vals) / w2\n"
   ]
  },
  {
   "cell_type": "markdown",
   "id": "4d234a3c",
   "metadata": {},
   "source": [
    "In this block, we plot the data and the decision boundary. We use `scatter()` to plot our 2D data points, color-coding them according to their class. Then we use `plot()` to draw the decision boundary as a straight line:"
   ]
  },
  {
   "cell_type": "code",
   "execution_count": 19,
   "id": "e86a0191",
   "metadata": {},
   "outputs": [
    {
     "data": {
      "image/png": "[encoded data removed]",
      "text/plain": [
       "<Figure size 640x480 with 1 Axes>"
      ]
     },
     "metadata": {},
     "output_type": "display_data"
    }
   ],
   "source": [
    "plt.scatter(X[:, 0], X[:, 1], c=y, cmap=plt.cm.RdBu, edgecolors='k')\n",
    "plt.plot(x_vals, y_vals, color='black')\n",
    "plt.ylim([X[:, 1].min()-1, X[:, 1].max()+1])\n",
    "plt.show()\n"
   ]
  },
  {
   "cell_type": "markdown",
   "id": "47cb2644",
   "metadata": {},
   "source": [
    "Finally, we plot the training loss and training accuracy of our model"
   ]
  },
  {
   "cell_type": "code",
   "execution_count": 20,
   "id": "1a25ebb4",
   "metadata": {},
   "outputs": [
    {
     "data": {
      "image/png": "[encoded data removed]",
      "text/plain": [
       "<Figure size 800x800 with 2 Axes>"
      ]
     },
     "metadata": {},
     "output_type": "display_data"
    }
   ],
   "source": [
    "fig, (ax1, ax2) = plt.subplots(2, 1, figsize=(8, 8))\n",
    "\n",
    "ax1.plot(range(len(train_losses)), train_losses)\n",
    "ax1.set_xlabel('Epochs')\n",
    "ax1.set_ylabel('Training Loss')\n",
    "ax1.set_title('Training Loss')\n",
    "\n",
    "ax2.plot(range(len(train_accuracy)), train_accuracy)\n",
    "ax2.set_xlabel('Epochs')\n",
    "ax2.set_ylabel('Training Accuracy')\n",
    "ax2.set_title('Training Accuracy')\n",
    "\n",
    "plt.tight_layout()\n",
    "plt.show()"
   ]
  },
  {
   "cell_type": "code",
   "execution_count": 21,
   "id": "c374145e",
   "metadata": {},
   "outputs": [
    {
     "data": {
      "image/png": "[encoded data removed]",
      "text/plain": [
       "<Figure size 640x480 with 1 Axes>"
      ]
     },
     "metadata": {},
     "output_type": "display_data"
    }
   ],
   "source": [
    "# Pass a single sample for prediction\n",
    "with torch.no_grad():\n",
    "    x_vals = torch.linspace(X[:, 0].min()-1, X[:, 0].max()+1, 100)\n",
    "    y_vals = -(model.fc.weight[0][0] * x_vals + model.fc.bias[0]) / model.fc.weight[0][1]\n",
    "\n",
    "    # Plot decision boundary and sample\n",
    "    plt.scatter(X[:, 0], X[:, 1], c=y, cmap=plt.cm.RdBu, edgecolors='k')\n",
    "    plt.plot(x_vals, y_vals, color='black')\n",
    "    \n",
    "    # Pass a single sample for prediction\n",
    "    sample = torch.tensor([[0.5, 0.2]], dtype=torch.float32)\n",
    "    with torch.no_grad():\n",
    "        prediction = (model(sample) >= 0.5).item()\n",
    "        label = \"Class 1\" if prediction else \"Class 0\"\n",
    "        plt.scatter(sample[0, 0].item(), sample[0, 1].item(), c='g', label=f\"Sample: {label}\")\n",
    "    \n",
    "    plt.xlabel('Feature 1')\n",
    "    plt.ylabel('Feature 2')\n",
    "    plt.title('Decision Boundary with Single Sample')\n",
    "    plt.xlim(X[:, 0].min()-1, X[:, 0].max()+1)\n",
    "    plt.ylim(X[:, 1].min()-1, X[:, 1].max()+1)\n",
    "    plt.legend()\n",
    "    plt.show()"
   ]
  },
  {
   "cell_type": "markdown",
   "id": "ad1b6188",
   "metadata": {},
   "source": [
    "\n",
    "# Multi-Layer Perceptron\n",
    "\n",
    "MLP:\n",
    "<img src='Lecture_Image_Files/lecture_15/mlp.png' width=\"500\"/>\n",
    "\n",
    "Perceptron VS MLP:\n",
    "\n",
    "<img src='Lecture_Image_Files/lecture_15/per_mlp.jpg' width=\"500\"/>\n",
    "\n",
    "\n",
    "A **Multi-Layer Perceptron (MLP)** is a type of artificial neural network that is built from multiple layers of perceptrons. MLPs are designed to model more complex patterns by introducing additional layers and non-linear activation functions, allowing them to solve problems that single-layer perceptrons cannot.\n",
    "\n",
    "A MLP consists of at least three layers:\n",
    "\n",
    "- An **input layer**, which corresponds to the input features.\n",
    "- One or more **hidden layers**, which transform the inputs into something that the output layer can use.\n",
    "- An **output layer**, which makes the final prediction.\n",
    "\n",
    "Each layer in an MLP is fully connected to the next layer, meaning each node in a layer connects with a weight to every node in the following layer.\n",
    "\n",
    "The operation of an MLP is similar to that of a single-layer perceptron, but repeated across multiple layers:\n",
    "\n",
    "1. The inputs are multiplied by the weights and summed together with the biases, similar to the operation of a single-layer perceptron. This is done for each node in the first hidden layer.\n",
    "\n",
    "    ```\n",
    "    z1 = w11*x1 + w12*x2 + ... + w1n*xn + b1\n",
    "    ```\n",
    "\n",
    "    This operation is repeated for all nodes in the hidden layer.\n",
    "\n",
    "2. The results are passed through a non-linear activation function. While the step function was traditionally used in single-layer perceptrons, MLPs often use other activation functions like ReLU, sigmoid or tanh to introduce non-linearity. \n",
    "\n",
    "    ```\n",
    "    h1 = f(z1)\n",
    "    ```\n",
    "\n",
    "    Here, `h1` is the output of the first hidden layer after applying the activation function `f`. This process is repeated for each hidden layer in the MLP.\n",
    "\n",
    "3. The outputs of the final hidden layer are used as inputs to the output layer, where the process is repeated to generate the final predictions.\n",
    "\n",
    "The primary difference between a single-layer perceptron and an MLP is the introduction of one or more hidden layers and the use of non-linear activation functions. These additions make MLPs capable of modeling more complex relationships in the data. Like single-layer perceptrons, MLPs learn by iteratively adjusting the weights and biases in response to the prediction errors they make."
   ]
  },
  {
   "cell_type": "markdown",
   "id": "ce2ea0f9",
   "metadata": {},
   "source": [
    "### 2. Implementaion of  MLP using pytorch\n",
    "\n",
    "* #### In this implementation we will use dummy input rather than using any real input data. Then we will work our way up"
   ]
  },
  {
   "cell_type": "markdown",
   "id": "2e6b12bc",
   "metadata": {},
   "source": [
    "#### Before running the code install the necessary package.\n",
    "\n",
    "To install matplotlib.\n",
    "\n",
    "` Run: \n",
    "!pip install matplotlib \n",
    "\n",
    "        !pip install pandas`"
   ]
  },
  {
   "cell_type": "code",
   "execution_count": 22,
   "id": "47faf5cb",
   "metadata": {},
   "outputs": [
    {
     "name": "stdout",
     "output_type": "stream",
     "text": [
      "Requirement already satisfied: matplotlib in /home/mustafa/miniconda3/lib/python3.10/site-packages (3.7.2)\n",
      "Requirement already satisfied: contourpy>=1.0.1 in /home/mustafa/miniconda3/lib/python3.10/site-packages (from matplotlib) (1.1.0)\n",
      "Requirement already satisfied: cycler>=0.10 in /home/mustafa/miniconda3/lib/python3.10/site-packages (from matplotlib) (0.11.0)\n",
      "Requirement already satisfied: fonttools>=4.22.0 in /home/mustafa/miniconda3/lib/python3.10/site-packages (from matplotlib) (4.40.0)\n",
      "Requirement already satisfied: kiwisolver>=1.0.1 in /home/mustafa/miniconda3/lib/python3.10/site-packages (from matplotlib) (1.4.4)\n",
      "Requirement already satisfied: numpy>=1.20 in /home/mustafa/miniconda3/lib/python3.10/site-packages (from matplotlib) (1.23.1)\n",
      "Requirement already satisfied: packaging>=20.0 in /home/mustafa/.local/lib/python3.10/site-packages (from matplotlib) (23.0)\n",
      "Requirement already satisfied: pillow>=6.2.0 in /home/mustafa/miniconda3/lib/python3.10/site-packages (from matplotlib) (9.4.0)\n",
      "Requirement already satisfied: pyparsing<3.1,>=2.3.1 in /home/mustafa/miniconda3/lib/python3.10/site-packages (from matplotlib) (3.0.9)\n",
      "Requirement already satisfied: python-dateutil>=2.7 in /home/mustafa/miniconda3/lib/python3.10/site-packages (from matplotlib) (2.8.2)\n",
      "Requirement already satisfied: six>=1.5 in /home/mustafa/miniconda3/lib/python3.10/site-packages (from python-dateutil>=2.7->matplotlib) (1.16.0)\n",
      "Requirement already satisfied: pandas in /home/mustafa/miniconda3/lib/python3.10/site-packages (1.5.3)\n",
      "Requirement already satisfied: python-dateutil>=2.8.1 in /home/mustafa/miniconda3/lib/python3.10/site-packages (from pandas) (2.8.2)\n",
      "Requirement already satisfied: pytz>=2020.1 in /home/mustafa/miniconda3/lib/python3.10/site-packages (from pandas) (2022.7.1)\n",
      "Requirement already satisfied: numpy>=1.21.0 in /home/mustafa/miniconda3/lib/python3.10/site-packages (from pandas) (1.23.1)\n",
      "Requirement already satisfied: six>=1.5 in /home/mustafa/miniconda3/lib/python3.10/site-packages (from python-dateutil>=2.8.1->pandas) (1.16.0)\n"
     ]
    }
   ],
   "source": [
    "!pip install matplotlib\n",
    "!pip install pandas"
   ]
  },
  {
   "cell_type": "code",
   "execution_count": 23,
   "id": "d45ed3cc",
   "metadata": {},
   "outputs": [],
   "source": [
    "import matplotlib.pyplot as plt\n",
    "import pandas as pd\n",
    "import torch\n",
    "%matplotlib inline"
   ]
  },
  {
   "cell_type": "code",
   "execution_count": 24,
   "id": "b4afe523",
   "metadata": {},
   "outputs": [],
   "source": [
    "import time\n",
    "import numpy as np\n",
    "from torchvision import datasets\n",
    "from torchvision import transforms\n",
    "from torch.utils.data import DataLoader\n",
    "import torch.nn.functional as F\n",
    "import torch"
   ]
  },
  {
   "cell_type": "code",
   "execution_count": 25,
   "id": "0b76684a",
   "metadata": {},
   "outputs": [
    {
     "name": "stdout",
     "output_type": "stream",
     "text": [
      "Image batch dimensions: torch.Size([100, 1, 28, 28])\n",
      "Image label dimensions: torch.Size([100])\n"
     ]
    }
   ],
   "source": [
    "##########################\n",
    "### SETTINGS\n",
    "##########################\n",
    "\n",
    "RANDOM_SEED = 1\n",
    "BATCH_SIZE = 100\n",
    "NUM_EPOCHS = 5\n",
    "DEVICE = torch.device('cuda:0' if torch.cuda.is_available() else 'cpu')\n",
    "\n",
    "\n",
    "##########################\n",
    "### MNIST DATASET\n",
    "##########################\n",
    "\n",
    "# Note transforms.ToTensor() scales input images\n",
    "# to 0-1 range\n",
    "train_dataset = datasets.MNIST(root='data', \n",
    "                               train=True, \n",
    "                               transform=transforms.ToTensor(),\n",
    "                               download=True)\n",
    "\n",
    "test_dataset = datasets.MNIST(root='data', \n",
    "                              train=False, \n",
    "                              transform=transforms.ToTensor())\n",
    "\n",
    "\n",
    "train_loader = DataLoader(dataset=train_dataset, \n",
    "                          batch_size=BATCH_SIZE, \n",
    "                          shuffle=True)\n",
    "\n",
    "test_loader = DataLoader(dataset=test_dataset, \n",
    "                         batch_size=BATCH_SIZE, \n",
    "                         shuffle=False)\n",
    "\n",
    "# Checking the dataset\n",
    "for images, labels in train_loader:  \n",
    "    print('Image batch dimensions:', images.shape)\n",
    "    print('Image label dimensions:', labels.shape)\n",
    "    break"
   ]
  },
  {
   "cell_type": "code",
   "execution_count": 26,
   "id": "3bd48b59",
   "metadata": {},
   "outputs": [
    {
     "name": "stdout",
     "output_type": "stream",
     "text": [
      "Epoch: 001/005 | Batch 000/600 | Cost: 2.5604\n",
      "Epoch: 001/005 | Batch 050/600 | Cost: 1.8231\n",
      "Epoch: 001/005 | Batch 100/600 | Cost: 1.4972\n",
      "Epoch: 001/005 | Batch 150/600 | Cost: 1.1972\n",
      "Epoch: 001/005 | Batch 200/600 | Cost: 0.8770\n",
      "Epoch: 001/005 | Batch 250/600 | Cost: 0.8388\n",
      "Epoch: 001/005 | Batch 300/600 | Cost: 0.7779\n",
      "Epoch: 001/005 | Batch 350/600 | Cost: 0.7459\n",
      "Epoch: 001/005 | Batch 400/600 | Cost: 0.6769\n",
      "Epoch: 001/005 | Batch 450/600 | Cost: 0.5171\n",
      "Epoch: 001/005 | Batch 500/600 | Cost: 0.5568\n",
      "Epoch: 001/005 | Batch 550/600 | Cost: 0.5620\n",
      "Epoch: 001/005 Train Cost: 0.4960\n",
      "Time elapsed: 0.14 min\n",
      "Epoch: 002/005 | Batch 000/600 | Cost: 0.4814\n",
      "Epoch: 002/005 | Batch 050/600 | Cost: 0.4956\n",
      "Epoch: 002/005 | Batch 100/600 | Cost: 0.3412\n",
      "Epoch: 002/005 | Batch 150/600 | Cost: 0.3469\n",
      "Epoch: 002/005 | Batch 200/600 | Cost: 0.4675\n",
      "Epoch: 002/005 | Batch 250/600 | Cost: 0.3761\n",
      "Epoch: 002/005 | Batch 300/600 | Cost: 0.4029\n",
      "Epoch: 002/005 | Batch 350/600 | Cost: 0.4599\n",
      "Epoch: 002/005 | Batch 400/600 | Cost: 0.4248\n",
      "Epoch: 002/005 | Batch 450/600 | Cost: 0.4192\n",
      "Epoch: 002/005 | Batch 500/600 | Cost: 0.3367\n",
      "Epoch: 002/005 | Batch 550/600 | Cost: 0.3431\n",
      "Epoch: 002/005 Train Cost: 0.3743\n",
      "Time elapsed: 0.27 min\n",
      "Epoch: 003/005 | Batch 000/600 | Cost: 0.2582\n",
      "Epoch: 003/005 | Batch 050/600 | Cost: 0.2762\n",
      "Epoch: 003/005 | Batch 100/600 | Cost: 0.2855\n",
      "Epoch: 003/005 | Batch 150/600 | Cost: 0.2876\n",
      "Epoch: 003/005 | Batch 200/600 | Cost: 0.4612\n",
      "Epoch: 003/005 | Batch 250/600 | Cost: 0.3625\n",
      "Epoch: 003/005 | Batch 300/600 | Cost: 0.3352\n",
      "Epoch: 003/005 | Batch 350/600 | Cost: 0.2657\n",
      "Epoch: 003/005 | Batch 400/600 | Cost: 0.4511\n",
      "Epoch: 003/005 | Batch 450/600 | Cost: 0.3225\n",
      "Epoch: 003/005 | Batch 500/600 | Cost: 0.3066\n",
      "Epoch: 003/005 | Batch 550/600 | Cost: 0.2334\n",
      "Epoch: 003/005 Train Cost: 0.3316\n",
      "Time elapsed: 0.40 min\n",
      "Epoch: 004/005 | Batch 000/600 | Cost: 0.2770\n",
      "Epoch: 004/005 | Batch 050/600 | Cost: 0.4822\n",
      "Epoch: 004/005 | Batch 100/600 | Cost: 0.3280\n",
      "Epoch: 004/005 | Batch 150/600 | Cost: 0.4571\n",
      "Epoch: 004/005 | Batch 200/600 | Cost: 0.3046\n",
      "Epoch: 004/005 | Batch 250/600 | Cost: 0.2803\n",
      "Epoch: 004/005 | Batch 300/600 | Cost: 0.4522\n",
      "Epoch: 004/005 | Batch 350/600 | Cost: 0.1983\n",
      "Epoch: 004/005 | Batch 400/600 | Cost: 0.3250\n",
      "Epoch: 004/005 | Batch 450/600 | Cost: 0.3059\n",
      "Epoch: 004/005 | Batch 500/600 | Cost: 0.2670\n",
      "Epoch: 004/005 | Batch 550/600 | Cost: 0.3387\n",
      "Epoch: 004/005 Train Cost: 0.3042\n",
      "Time elapsed: 0.54 min\n",
      "Epoch: 005/005 | Batch 000/600 | Cost: 0.2122\n",
      "Epoch: 005/005 | Batch 050/600 | Cost: 0.3739\n",
      "Epoch: 005/005 | Batch 100/600 | Cost: 0.3254\n",
      "Epoch: 005/005 | Batch 150/600 | Cost: 0.1314\n",
      "Epoch: 005/005 | Batch 200/600 | Cost: 0.3247\n",
      "Epoch: 005/005 | Batch 250/600 | Cost: 0.2747\n",
      "Epoch: 005/005 | Batch 300/600 | Cost: 0.3559\n",
      "Epoch: 005/005 | Batch 350/600 | Cost: 0.2673\n",
      "Epoch: 005/005 | Batch 400/600 | Cost: 0.3454\n",
      "Epoch: 005/005 | Batch 450/600 | Cost: 0.3906\n",
      "Epoch: 005/005 | Batch 500/600 | Cost: 0.3926\n",
      "Epoch: 005/005 | Batch 550/600 | Cost: 0.2833\n",
      "Epoch: 005/005 Train Cost: 0.2853\n",
      "Time elapsed: 0.67 min\n",
      "Total Training Time: 0.67 min\n"
     ]
    }
   ],
   "source": [
    "class MLP(torch.nn.Module):\n",
    "\n",
    "    def __init__(self, num_features, num_hidden, num_classes):\n",
    "        super().__init__()\n",
    "        \n",
    "        self.num_classes = num_classes\n",
    "        \n",
    "        ### 1st hidden layer\n",
    "        self.linear_1 = torch.nn.Linear(num_features, num_hidden)\n",
    "        self.linear_1.weight.detach().normal_(0.0, 0.1)\n",
    "        self.linear_1.bias.detach().zero_()\n",
    "\n",
    "        ### Output layer\n",
    "        self.linear_out = torch.nn.Linear(num_hidden, num_classes)\n",
    "        self.linear_out.weight.detach().normal_(0.0, 0.1)\n",
    "        self.linear_out.bias.detach().zero_()\n",
    "        \n",
    "    def forward(self, x):\n",
    "        out = self.linear_1(x)\n",
    "        out = torch.sigmoid(out)\n",
    "        logits = self.linear_out(out)\n",
    "        #probas = torch.softmax(logits, dim=1)\n",
    "        return logits#, probas\n",
    "\n",
    "    \n",
    "#################################\n",
    "### Model Initialization\n",
    "#################################\n",
    "    \n",
    "torch.manual_seed(RANDOM_SEED)\n",
    "model = MLP(num_features=28*28,\n",
    "            num_hidden=100,\n",
    "            num_classes=10)\n",
    "\n",
    "model = model.to(DEVICE)\n",
    "\n",
    "optimizer = torch.optim.SGD(model.parameters(), lr=0.1)\n",
    "\n",
    "#################################\n",
    "### Training\n",
    "#################################\n",
    "\n",
    "def compute_loss(net, data_loader):\n",
    "    curr_loss = 0.\n",
    "    with torch.no_grad():\n",
    "        for cnt, (features, targets) in enumerate(data_loader):\n",
    "            features = features.view(-1, 28*28).to(DEVICE)\n",
    "            targets = targets.to(DEVICE)\n",
    "            logits = net(features)\n",
    "            loss = F.cross_entropy(logits, targets)\n",
    "            curr_loss += loss\n",
    "        return float(curr_loss)/cnt\n",
    "\n",
    "\n",
    "\n",
    "start_time = time.time()\n",
    "minibatch_cost = []\n",
    "epoch_cost = []\n",
    "for epoch in range(NUM_EPOCHS):\n",
    "    model.train()\n",
    "    for batch_idx, (features, targets) in enumerate(train_loader):\n",
    "        \n",
    "        features = features.view(-1, 28*28).to(DEVICE)\n",
    "        targets = targets.to(DEVICE)\n",
    "            \n",
    "        ### FORWARD AND BACK PROP\n",
    "        logits = model(features)\n",
    "        \n",
    "        cost = F.cross_entropy(logits, targets)\n",
    "        optimizer.zero_grad()\n",
    "        \n",
    "        cost.backward()\n",
    "       \n",
    "        ### UPDATE MODEL PARAMETERS\n",
    "        optimizer.step()\n",
    "        \n",
    "        ### LOGGING\n",
    "        minibatch_cost.append(cost.item())\n",
    "        if not batch_idx % 50:\n",
    "            print ('Epoch: %03d/%03d | Batch %03d/%03d | Cost: %.4f' \n",
    "                   %(epoch+1, NUM_EPOCHS, batch_idx, \n",
    "                     len(train_loader), cost.item()))\n",
    "        \n",
    "    cost = compute_loss(model, train_loader)\n",
    "    epoch_cost.append(cost)\n",
    "    print('Epoch: %03d/%03d Train Cost: %.4f' % (\n",
    "            epoch+1, NUM_EPOCHS, cost))\n",
    "    print('Time elapsed: %.2f min' % ((time.time() - start_time)/60))\n",
    "    \n",
    "print('Total Training Time: %.2f min' % ((time.time() - start_time)/60))"
   ]
  },
  {
   "cell_type": "code",
   "execution_count": 27,
   "id": "9ee8ccc7",
   "metadata": {},
   "outputs": [
    {
     "data": {
      "image/png": "[encoded data removed]",
      "text/plain": [
       "<Figure size 640x480 with 1 Axes>"
      ]
     },
     "metadata": {},
     "output_type": "display_data"
    },
    {
     "data": {
      "image/png": "[encoded data removed]",
      "text/plain": [
       "<Figure size 640x480 with 1 Axes>"
      ]
     },
     "metadata": {},
     "output_type": "display_data"
    }
   ],
   "source": [
    "plt.plot(range(len(minibatch_cost)), minibatch_cost)\n",
    "plt.ylabel('Cross Entropy')\n",
    "plt.xlabel('Minibatch')\n",
    "plt.show()\n",
    "\n",
    "plt.plot(range(len(epoch_cost)), epoch_cost)\n",
    "plt.ylabel('Cross Entropy')\n",
    "plt.xlabel('Epoch')\n",
    "plt.show()"
   ]
  },
  {
   "cell_type": "code",
   "execution_count": 32,
   "id": "03ecfcb0",
   "metadata": {},
   "outputs": [
    {
     "name": "stdout",
     "output_type": "stream",
     "text": [
      "Training Accuracy: 91.86\n",
      "Test Accuracy: 92.02\n"
     ]
    }
   ],
   "source": [
    "def compute_accuracy(net, data_loader):\n",
    "    correct_pred, num_examples = 0, 0\n",
    "    with torch.no_grad():\n",
    "        for features, targets in data_loader:\n",
    "            features = features.view(-1, 28*28).to(DEVICE)\n",
    "            targets = targets.to(DEVICE)\n",
    "            a2 = net.forward(features)\n",
    "            predicted_labels = torch.argmax(a2, 1)\n",
    "            num_examples += targets.size(0)\n",
    "            correct_pred += (predicted_labels == targets).sum()\n",
    "        return correct_pred.float()/num_examples * 100\n",
    "    \n",
    "print('Training Accuracy: %.2f' % compute_accuracy(model, train_loader))\n",
    "print('Test Accuracy: %.2f' % compute_accuracy(model, test_loader))"
   ]
  },
  {
   "cell_type": "markdown",
   "id": "e7c5cc4f",
   "metadata": {},
   "source": [
    "# Loss Function\n",
    "\n",
    "A loss function, also known as a cost function or objective function, is a mathematical measure that quantifies the discrepancy between the predicted output of a model and the true output. It is a crucial component in various machine learning algorithms, particularly in supervised learning tasks like regression and classification. The goal of a loss function is to guide the model towards minimizing the discrepancy between its predictions and the ground truth.\n"
   ]
  },
  {
   "cell_type": "markdown",
   "id": "f23f9ae9",
   "metadata": {},
   "source": [
    "# Mean Squared Error (MSE)\n",
    "\n",
    "\n",
    "In the case of regression tasks, a common loss function is Mean Squared Error (MSE). The mathematical equation for this is:\n",
    "\n",
    "$$ L(θ) = \\frac{1}{N} \\sum_{i=1}^{N} (ŷ_i - y_i)^2 $$\n",
    "\n",
    "In this equation:\n",
    "\n",
    "- $n$ is the total number of observations.\n",
    "- $y_i$ is the actual value of the output for the i-th observation.\n",
    "- $\\hat{y}_i$ is the predicted value of the output for the i-th observation.\n",
    "- $\\sum$ denotes the summation operation.\n"
   ]
  },
  {
   "cell_type": "code",
   "execution_count": 33,
   "id": "0fb7669c",
   "metadata": {},
   "outputs": [
    {
     "name": "stdout",
     "output_type": "stream",
     "text": [
      "Mean Squared Error (MSE): 0.04399999999999997\n"
     ]
    }
   ],
   "source": [
    "import numpy as np\n",
    "\n",
    "# Define the actual values and predicted values as NumPy arrays\n",
    "actual_values = np.array([1.0, 2.0, 3.0, 4.0, 5.0])\n",
    "predicted_values = np.array([1.2, 1.8, 2.7, 3.8, 4.9])\n",
    "\n",
    "# Calculate the squared differences between actual and predicted values\n",
    "squared_errors = (actual_values - predicted_values) ** 2\n",
    "\n",
    "# Calculate the mean of squared errors to get MSE\n",
    "mse = np.mean(squared_errors)\n",
    "\n",
    "print(\"Mean Squared Error (MSE):\", mse)\n"
   ]
  },
  {
   "cell_type": "markdown",
   "id": "f4114f7a",
   "metadata": {},
   "source": [
    "# Cross-Entropy Loss\n",
    "\n",
    "For classification tasks, a common loss function is Cross-Entropy Loss. The mathematical equation for binary classification is:\n",
    "\n",
    "$$\n",
    "Cross\\_Entropy\\_Loss = -\\frac{1}{n} \\sum [y_i * log(\\hat{y}_i) + (1 - y_i) * log(1 - \\hat{y}_i)]\n",
    "$$\n",
    "\n",
    "In this equation:\n",
    "\n",
    "- $n$ is the total number of observations.\n",
    "- $y_i$ is the actual value of the output for the i-th observation.\n",
    "- $\\hat{y}_i$ is the predicted value of the output for the i-th observation.\n",
    "- $\\sum$ denotes the summation operation.\n",
    "\n",
    "Cross-Entropy Loss penalizes incorrect classifications much more than ones that are correct, and it's typically used in combination with softmax for multi-class classification.\n"
   ]
  },
  {
   "cell_type": "code",
   "execution_count": 34,
   "id": "492861aa",
   "metadata": {},
   "outputs": [],
   "source": [
    "def cross_entropy_loss(y_true, y_pred):\n",
    "    return -np.sum(y_true * np.log(y_pred) + (1 - y_true) * np.log(1 - y_pred)) / len(y_true)\n"
   ]
  },
  {
   "cell_type": "markdown",
   "id": "e9d9052e",
   "metadata": {},
   "source": [
    "### Let's implement the above loss functions using dummy data. "
   ]
  },
  {
   "cell_type": "code",
   "execution_count": 35,
   "id": "812fd29c",
   "metadata": {},
   "outputs": [
    {
     "name": "stdout",
     "output_type": "stream",
     "text": [
      "Cross Entropy Loss: 0.15247372992037964\n"
     ]
    }
   ],
   "source": [
    "# Create dummy data for binary classification\n",
    "y_true_classification = np.array([0, 0, 1, 1, 0])\n",
    "y_pred_classification = np.array([0.1, 0.2, 0.9, 0.8, 0.1])  # These are probabilities output by a model\n",
    "\n",
    "# Calculate Cross Entropy Loss\n",
    "cel = cross_entropy_loss(y_true_classification, y_pred_classification)\n",
    "print(f\"Cross Entropy Loss: {cel}\")"
   ]
  },
  {
   "cell_type": "markdown",
   "id": "037a9ae1",
   "metadata": {},
   "source": [
    "## PyTorch Implementation of Loss Functions\n",
    "\n",
    "PyTorch is a widely used deep learning library which provides automatic differentiation for all operations on Tensors. It is a deep learning framework and a scientific computing package.\n",
    "\n",
    "PyTorch also includes a variety of loss functions, including Mean Squared Error (MSE) and Binary Cross Entropy (BCE), which we will use in this notebook.\n",
    "\n",
    "Firstly, we need to import the necessary modules, which include `torch` and `torch.nn.functional`.\n"
   ]
  },
  {
   "cell_type": "code",
   "execution_count": 36,
   "id": "0bc838c3",
   "metadata": {},
   "outputs": [],
   "source": [
    "import torch\n",
    "import torch.nn.functional as F\n"
   ]
  },
  {
   "cell_type": "markdown",
   "id": "0fbca984",
   "metadata": {},
   "source": [
    "Now, let's create some dummy data for a regression task. We use PyTorch Tensors to hold the data. The predicted and true outputs are both continuous, as is typical for a regression task. We can then use the `torch.nn.functional.mse_loss()` function to compute the Mean Squared Error.\n"
   ]
  },
  {
   "cell_type": "code",
   "execution_count": 37,
   "id": "91b1e22d",
   "metadata": {},
   "outputs": [
    {
     "name": "stdout",
     "output_type": "stream",
     "text": [
      "Mean Squared Error: 0.022000005468726158\n"
     ]
    }
   ],
   "source": [
    "# Create dummy data for regression\n",
    "y_true_regression = torch.tensor([1.0, 2.5, 3.6, 4.5, 5.0])\n",
    "y_pred_regression = torch.tensor([1.2, 2.3, 3.7, 4.6, 4.9])\n",
    "\n",
    "# Calculate Mean Squared Error using PyTorch\n",
    "mse = F.mse_loss(y_pred_regression, y_true_regression)\n",
    "print(f\"Mean Squared Error: {mse.item()}\")\n"
   ]
  },
  {
   "cell_type": "markdown",
   "id": "70a645dd",
   "metadata": {},
   "source": [
    "Similarly, we create dummy data for a binary classification task. Here, the true outputs are binary (0 or 1), and the predicted outputs are probabilities representing the likelihood of the positive class. We can then use the `torch.nn.functional.binary_cross_entropy()` function to compute the Binary Cross Entropy loss.\n"
   ]
  },
  {
   "cell_type": "code",
   "execution_count": 38,
   "id": "5e66cc30",
   "metadata": {},
   "outputs": [
    {
     "name": "stdout",
     "output_type": "stream",
     "text": [
      "Binary Cross Entropy Loss: 0.15247373282909393\n"
     ]
    }
   ],
   "source": [
    "# Create dummy data for binary classification\n",
    "y_true_classification = torch.tensor([0, 0, 1, 1, 0], dtype=torch.float32)\n",
    "y_pred_classification = torch.tensor([0.1, 0.2, 0.9, 0.8, 0.1], dtype=torch.float32)  # These are probabilities output by a model\n",
    "\n",
    "# Calculate Cross Entropy Loss using PyTorch\n",
    "# PyTorch's BCELoss expects probabilities, so we don't apply the sigmoid function here\n",
    "bce = F.binary_cross_entropy(y_pred_classification, y_true_classification)\n",
    "print(f\"Binary Cross Entropy Loss: {bce.item()}\")\n"
   ]
  },
  {
   "cell_type": "markdown",
   "id": "99905556",
   "metadata": {},
   "source": [
    "## Cross-Entropy Loss for Multi-Class Classification\n",
    "\n",
    "Cross-entropy loss, also known as log loss, is a commonly used loss function for multi-class classification problems in machine learning. It measures the dissimilarity between the predicted probabilities for each class and the actual class labels. The goal is to minimize this loss during training to improve the model's ability to correctly classify data into multiple classes.\n",
    "\n",
    "The equation for cross-entropy loss is as follows:\n",
    "\n",
    "$$\n",
    "\\text{Cross-Entropy Loss} = - \\sum_{i=1}^{C} y_i \\log(p_i)\n",
    "$$\n",
    "\n",
    "In this equation:\n",
    "\n",
    "- $y_i$ is the true label for class $i$, which is 1 for the true class and 0 for all other classes (one-hot encoding).\n",
    "- $p_i$ is the predicted probability for class $i$ as provided by the model's softmax function. The softmax function ensures that the predicted probabilities sum up to 1 across all classes.\n",
    "- $\\log(p_i)$ computes the natural logarithm of the predicted probability.\n",
    "- The summation $\\sum_{i=1}^{C}$ is taken over all classes.\n",
    "\n",
    "For a batch of data points, you typically calculate the average cross-entropy loss. The goal during training is to minimize this loss by adjusting the model's parameters (weights and biases) using gradient descent or another optimization algorithm.\n",
    "\n",
    "In summary, cross-entropy loss quantifies the dissimilarity between predicted probabilities and true class labels, making it a useful loss function for multi-class classification tasks. The objective is to minimize this loss to improve the model's classification accuracy.\n"
   ]
  },
  {
   "cell_type": "code",
   "execution_count": 39,
   "id": "dc16a92e",
   "metadata": {},
   "outputs": [
    {
     "name": "stdout",
     "output_type": "stream",
     "text": [
      "Cross-Entropy Loss: 1.5606477482646686\n"
     ]
    }
   ],
   "source": [
    "import numpy as np\n",
    "\n",
    "# Dummy ground truth labels (one-hot encoded)\n",
    "# Suppose you have 3 classes\n",
    "y_true = np.array([[1, 0, 0],  # Class 0\n",
    "                   [0, 1, 0],  # Class 1\n",
    "                   [0, 0, 1]]) # Class 2\n",
    "\n",
    "# Dummy predicted probabilities from the softmax layer\n",
    "# These should sum to 1 for each sample\n",
    "y_pred = np.array([[0.7, 0.2, 0.1],  # Predicted probabilities for class 0\n",
    "                   [0.2, 0.5, 0.3],  # Predicted probabilities for class 1\n",
    "                   [0.1, 0.3, 0.6]]) # Predicted probabilities for class 2\n",
    "\n",
    "# Calculate the cross-entropy loss\n",
    "# Using the formula: -Σ(y_true * log(y_pred))\n",
    "cross_entropy_loss = -np.sum(y_true * np.log(y_pred))\n",
    "\n",
    "# Print the cross-entropy loss\n",
    "print(\"Cross-Entropy Loss:\", cross_entropy_loss)\n"
   ]
  },
  {
   "cell_type": "markdown",
   "id": "02d42760",
   "metadata": {},
   "source": [
    "### Explanation\n",
    "\n",
    "In this example:\n",
    "\n",
    "- `y_true` represents the ground truth labels in one-hot encoded format for three samples and three classes.\n",
    "- `y_pred` represents the predicted probabilities from a softmax layer for the same three samples and three classes. The predicted probabilities should sum to 1 for each sample.\n",
    "- The cross-entropy loss is calculated using the formula:\n",
    "\n",
    "  $$\n",
    "  \\text{Cross-Entropy Loss} = -\\sum(y_{\\text{true}} \\cdot \\log(y_{\\text{pred}})\n",
    "  $$\n",
    "\n",
    "  This formula computes the element-wise product of the true labels $ y_{\\text{true}} $ and the natural logarithm $ \\log $ of the predicted probabilities $ y_{\\text{pred}} $. The negative sign is used to flip the sign of the sum.\n",
    "\n",
    "- The code prints the computed cross-entropy loss.\n",
    "\n",
    "Cross-entropy loss is a key metric for evaluating the performance of multi-class classification models and is often used as the objective function during model training.\n"
   ]
  },
  {
   "cell_type": "markdown",
   "id": "239c5e10",
   "metadata": {},
   "source": [
    "# Kullback-Leibler Divergence\n",
    "\n",
    "Kullback-Leibler (KL) Divergence is a measure of how one probability distribution is different from another. It's often used in machine learning algorithms when we want to compare a learned model distribution to the actual data distribution.\n",
    "\n",
    "The KL divergence of Q from P, often denoted as D(P || Q), is defined as follows:\n",
    "\n",
    "For discrete probability distributions P and Q:\n",
    "\n",
    "D(P || Q) = Σ P(x) * log(P(x) / Q(x))\n",
    "\n",
    "And for continuous distributions:\n",
    "\n",
    "D(P || Q) = ∫ P(x) * log(P(x) / Q(x)) dx\n",
    "\n",
    "In both formulas, the sum or integral is over the range of all possible outcomes, x.\n",
    "\n",
    "It's important to note that KL divergence is not symmetric, which means D(P || Q) ≠ D(Q || P).\n",
    "\n",
    "Here's how to compute KL divergence in PyTorch. Assume `p` and `q` are your two probability distributions which are PyTorch tensors.\n",
    "\n",
    "```python\n",
    "import torch\n",
    "import torch.nn.functional as F\n",
    "\n",
    "# Assume p and q are your two tensors representing probability distributions.\n",
    "# These are just example tensors, replace with your actual tensors.\n",
    "p = torch.tensor([0.1, 0.2, 0.3, 0.4])\n",
    "q = torch.tensor([0.2, 0.2, 0.2, 0.4])\n",
    "\n",
    "# KL divergence\n",
    "kl_div = F.kl_div(p.log(), q, reduction='batchmean')\n",
    "print(kl_div)\n"
   ]
  },
  {
   "cell_type": "markdown",
   "id": "416aa47e",
   "metadata": {},
   "source": [
    "## Pytorch Implementation:"
   ]
  },
  {
   "cell_type": "code",
   "execution_count": 40,
   "id": "e7bb2f5e",
   "metadata": {},
   "outputs": [
    {
     "name": "stdout",
     "output_type": "stream",
     "text": [
      "tensor(0.0144)\n"
     ]
    }
   ],
   "source": [
    "import torch\n",
    "import torch.nn.functional as F\n",
    "\n",
    "# Assume p and q are your two tensors representing probability distributions.\n",
    "# These are just example tensors, replace with your actual tensors.\n",
    "p = torch.tensor([0.1, 0.2, 0.3, 0.4])\n",
    "q = torch.tensor([0.2, 0.2, 0.2, 0.4])\n",
    "\n",
    "# KL divergence\n",
    "kl_div = F.kl_div(p.log(), q, reduction='batchmean')\n",
    "print(kl_div)"
   ]
  },
  {
   "cell_type": "code",
   "execution_count": 41,
   "id": "53238221",
   "metadata": {},
   "outputs": [
    {
     "data": {
      "image/png": "[encoded data removed]",
      "text/plain": [
       "<Figure size 640x480 with 1 Axes>"
      ]
     },
     "metadata": {},
     "output_type": "display_data"
    },
    {
     "data": {
      "image/png": "[encoded data removed]",
      "text/plain": [
       "<Figure size 640x480 with 1 Axes>"
      ]
     },
     "metadata": {},
     "output_type": "display_data"
    }
   ],
   "source": [
    "plt.plot(range(len(minibatch_cost)), minibatch_cost)\n",
    "plt.ylabel('Cross Entropy')\n",
    "plt.xlabel('Minibatch')\n",
    "plt.show()\n",
    "\n",
    "plt.plot(range(len(epoch_cost)), epoch_cost)\n",
    "plt.ylabel('Cross Entropy')\n",
    "plt.xlabel('Epoch')\n",
    "plt.show()"
   ]
  }
 ],
 "metadata": {
  "kernelspec": {
   "display_name": "Python 3 (ipykernel)",
   "language": "python",
   "name": "python3"
  },
  "language_info": {
   "codemirror_mode": {
    "name": "ipython",
    "version": 3
   },
   "file_extension": ".py",
   "mimetype": "text/x-python",
   "name": "python",
   "nbconvert_exporter": "python",
   "pygments_lexer": "ipython3",
   "version": "3.11.4"
  }
 },
 "nbformat": 4,
 "nbformat_minor": 5
}
