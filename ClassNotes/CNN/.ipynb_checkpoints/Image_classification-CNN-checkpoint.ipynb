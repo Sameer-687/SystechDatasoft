{
 "cells": [
  {
   "cell_type": "markdown",
   "id": "382d1836",
   "metadata": {},
   "source": [
    "# CNN:\n",
    "\n",
    "<img src=\"Lecture_Image_Files/lec_16/Images/conv.gif\" alt=\"python CNN\" width=94% height=85% title=\"CNN Convolution\"> \n",
    "\n",
    "A Convolutional Neural Network (CNN) is a type of deep learning model primarily used for image processing and analysis. "
   ]
  },
  {
   "cell_type": "markdown",
   "id": "cd6e108a",
   "metadata": {},
   "source": [
    "# Deep Learning on large Images\n",
    "\n",
    "<img src=\"Lecture_Image_Files/lec_16/Images/deep_large_img.jpg\" alt=\"large img\" width=94% height=85%> \n",
    "\n",
    "If we work with small 64 by 64 images, which have 3 color channels (red, green, and blue). This made for a total of 12,288 input features, which was manageable. But when dealing with larger images, like 1,000 by 1,000 pixels (1 megapixel), the input features become huge. For instance, a 1,000 by 1,000 image with 3 RGB channels results in 3 million input features.\n",
    "\n",
    "Now, let's talk about neural networks. In a neural network, the first hidden layer often has some number of hidden units. Let's say there are 1,000 hidden units in this layer.\n",
    "\n",
    "In the earlier large image example, this would mean the weight matrix (W1) connecting the input features to the hidden units would have dimensions of 1,000 by 3 million. This is a massive matrix with 3 billion parameters (values), which is really hard to manage because it requires a vast amount of data to train effectively, and it's computationally intensive.\n",
    "\n",
    "To make things easier, especially for computer vision tasks, we need to use convolutional neural networks (CNNs). These networks are designed to work well with large images and reduce the number of parameters by using a clever technique called convolution, making it more practical to work with high-resolution images like 1,000 by 1,000 or even larger."
   ]
  },
  {
   "cell_type": "markdown",
   "id": "50f32ec7",
   "metadata": {},
   "source": [
    "## What a CNN can see\n",
    "\n",
    "<img src=\"Lecture_Image_Files/lec_16/Images/layer_detect.jpg\" alt=\"large img\" width=94% height=85%> \n",
    "\n",
    "<img src=\"Lecture_Image_Files/lec_16/Images/vertical_edge.gif\" alt=\"large img\" width=94% height=85%> \n",
    "\n",
    "In this section, we'll explore how convolution works, a crucial component of Convolutional Neural Networks (CNNs). In CNNs, early layers often detect edges in images. For instance, if you want to identify objects in a picture, you might start by detecting vertical and horizontal edges.\n",
    "\n",
    "Let's consider an example: a grayscale 6x6 image. To find vertical edges, we use a 3x3 filter. The convolution operation combines the image and filter. We slide the filter across the image, element-wise multiplying and summing to get a 4x4 output.\n",
    "\n",
    "To compute each element of the output, we place the filter on a 3x3 region of the input and perform element-wise multiplication and addition. This process repeats across the image, giving us the 4x4 output matrix.\n",
    "\n",
    "In this example, we used a filter designed to detect vertical edges. It highlights areas in the image where there's a transition from light to dark or vice versa. This output acts as a \"vertical edge detector.\"\n",
    "\n",
    "In practice, CNNs use convolution as a fundamental operation to detect various features in images, starting with edges and progressing to more complex patterns.\n",
    "\n",
    "### Vertical Edge Detector:\n",
    "\n",
    "<img src=\"Lecture_Image_Files/lec_16/Images/vertical_edge.png\" alt=\"large img\" width=94% height=85%> \n",
    "\n",
    "Imagine a 6x6 picture split in half. The left side is bright with \"10\" values, and the right side is dark with \"0\" values. When we use a special 3x3 filter on this image, it looks for changes from bright to dark.\n",
    "\n",
    "This filter detects a strong vertical line down the middle where the image transitions from bright to dark. When we apply this filter, we get a matrix that shows this vertical line. It's like the filter is highlighting the edge.\n",
    "\n",
    "Keep in mind, in real applications with larger images, this edge detection works just as effectively, even if it might look thicker on a small image like our 6x6 example.\n",
    "\n",
    "In simple terms, this process helps a computer find vertical edges in pictures. It's a fundamental part of building Convolutional Neural Networks, which are used for recognizing objects in images.\n"
   ]
  },
  {
   "cell_type": "code",
   "execution_count": 1,
   "id": "4d04dede",
   "metadata": {},
   "outputs": [
    {
     "data": {
      "image/png": "[encoded data removed]",
      "text/plain": [
       "<Figure size 800x300 with 3 Axes>"
      ]
     },
     "metadata": {},
     "output_type": "display_data"
    }
   ],
   "source": [
    "import torch\n",
    "import torch.nn.functional as F\n",
    "import matplotlib.pyplot as plt\n",
    "\n",
    "# Create a binary image with the left half as 10s and the right half as 0s with hardcoded values\n",
    "input_tensor = torch.tensor([[10, 10, 10, 0, 0, 0],\n",
    "                             [10, 10, 10, 0, 0, 0],\n",
    "                             [10, 10, 10, 0, 0, 0],\n",
    "                             [10, 10, 10, 0, 0, 0],\n",
    "                             [10, 10, 10, 0, 0, 0],\n",
    "                             [10, 10, 10, 0, 0, 0]], dtype=torch.float32).view(1, 1, 6, 6)  # (batch_size, channels, height, width)\n",
    "\n",
    "# Define a vertical edge detector kernel\n",
    "kernel = torch.tensor([[1, 0, -1],\n",
    "                       [1, 0, -1],\n",
    "                       [1, 0, -1]], dtype=torch.float32).view(1, 1, 3, 3)  # (out_channels, in_channels, kernel_height, kernel_width)\n",
    "\n",
    "# Perform convolution without padding\n",
    "edge_detection_result = F.conv2d(input_tensor, kernel)\n",
    "\n",
    "# Convert the tensors to NumPy arrays for visualization\n",
    "input_image = input_tensor[0, 0].detach().numpy()\n",
    "kernel_image = kernel[0, 0].detach().numpy()\n",
    "edge_detection_image = edge_detection_result[0, 0].detach().numpy()\n",
    "\n",
    "# Define a smaller figure size\n",
    "fig, axs = plt.subplots(1, 3, figsize=(8, 3))  # Adjust the figsize here\n",
    "\n",
    "axs[0].imshow(input_image, cmap='gray', vmin=0, vmax=10)\n",
    "axs[0].set_title('Binary Input Image')\n",
    "\n",
    "axs[1].imshow(kernel_image, cmap='gray')\n",
    "axs[1].set_title('Vertical Edge Detector Kernel')\n",
    "\n",
    "axs[2].imshow(edge_detection_image, cmap='gray', vmin=-10, vmax=10)\n",
    "axs[2].set_title('Edge Detection Result')\n",
    "\n",
    "# Add spacing between subplots\n",
    "plt.tight_layout()\n",
    "\n",
    "plt.show()\n"
   ]
  },
  {
   "cell_type": "markdown",
   "id": "81164fc6",
   "metadata": {},
   "source": [
    "### More detector example\n",
    "\n",
    "#### Sobel:\n",
    "<img src=\"Lecture_Image_Files/lec_16/Images/sobel.png\" alt=\"large img\" width=60% height=60%> \n",
    "\n",
    "#### Comparison\n",
    "\n",
    "<img src=\"Lecture_Image_Files/lec_16/Images/canny.jpg\" alt=\"large img\" width=60% height=60%> \n",
    "\n",
    "\n",
    "### After applying on Image\n",
    "\n",
    "\n",
    "<img src=\"Lecture_Image_Files/lec_16/Images/edge_detector.png\" alt=\"large img\" width=80% height=80%> "
   ]
  },
  {
   "cell_type": "markdown",
   "id": "b3c6036b",
   "metadata": {},
   "source": [
    "### How cnn solves the problem:\n",
    "\n",
    "<img src=\"Lecture_Image_Files/lec_16/Images/weight_filter.jpg\" alt=\"large img\" width=80% height=80%>\n",
    "\n",
    "With the emergence of deep learning, we've discovered that when we want to identify edges in a complex image, we might not need computer vision experts to manually select nine specific values. Instead, we can allow the neural network to learn these nine values as parameters through backpropagation. The objective is to optimize these nine parameters so that when we apply them as a 3x3 filter to a 6x6 image, it effectively detects edges in the image."
   ]
  },
  {
   "cell_type": "markdown",
   "id": "dfe5b2fa",
   "metadata": {},
   "source": [
    "### Padding in Convolutional Operations\n",
    "\n",
    "<img src=\"Lecture_Image_Files/lec_16/Images/zero_padding.gif\" alt=\"large img\" width=80% height=80%>\n",
    "\n",
    "\n",
    "\n",
    "In order to build deep neural networks, it's important to understand the concept of **padding** when performing convolutional operations. Padding involves adding extra pixels around the edges of an image before convolution. This is crucial for two reasons:\n",
    "\n",
    "1. **Preserving Image Size:** Without padding, convolution operations can cause the image to shrink, which can be problematic in deep networks where repeated convolutions can make the image very small. Padding allows you to maintain the original image size.\n",
    "\n",
    "2. **Information Preservation:** Padding ensures that pixels near the edges of the image are more effectively utilized in the convolution process, preventing the loss of valuable information from the image edges.\n",
    "\n",
    "The amount of padding (denoted as \"p\") can be determined based on whether you want \"Valid\" or \"Same\" convolutions:\n",
    "\n",
    "- \"Valid\" convolution means no padding, resulting in a smaller output size.\n",
    "- \"Same\" convolution means padding the image so that the output size matches the input size. For an odd-sized filter \"f,\" you can calculate the required padding as (f - 1) / 2.\n",
    "\n",
    "In computer vision, odd-sized filters (e.g., 3x3, 5x5) are commonly used due to their symmetric nature and the presence of a central pixel. This convention simplifies padding choices.\n",
    "\n",
    "Understanding padding is essential when implementing convolutional neural networks (CNNs), and it helps ensure that important image information is retained throughout the network's layers. In the next video, the discussion will shift to implementing Strided convolutions.\n",
    "\n",
    "The formula for calculating the dimension of the output feature map after a convolution operation is:\n",
    "\n",
    "$ \\text{New Dimension} = n - f + 1 $\n",
    "\n",
    "Where:\n",
    "- $ \\text{New Dimension} $ is the size of the output feature map.\n",
    "- $ n $ represents the size (width or height) of the input image.\n",
    "- $ f $ represents the size (width or height) of the convolutional filter used.\n",
    "\n",
    "### Valid Convolution (No Padding):\n",
    "- Input Image Size ($n$): 6x6\n",
    "- Filter Size ($f$): 3x3\n",
    "\n",
    "Using the formula $ \\text{New Dimension} = n - f + 1 $, we calculate the output size:\n",
    "\n",
    "For Valid Convolution:\n",
    "$ \\text{New Dimension} = 6 - 3 + 1 = 4 $\n",
    "\n",
    "So, for valid convolution, the output dimension is 4x4.\n",
    "\n",
    "### Same Convolution (With Padding):\n",
    "- Input Image Size ($n$): 6x6\n",
    "- Filter Size ($f$): 3x3\n",
    "\n",
    "Using the formula $ \\text{New Dimension} = n + 2p - f + 1 $, we calculate the required padding ($p$) for \"Same\" convolution to maintain the same input and output dimensions:\n",
    "\n",
    "- We want the output dimension to be the same as the input dimension, which is 6x6.\n",
    "\n",
    "$ \\text{New Dimension} = 6 + 2p - 3 + 1 = 6 \\\\ $ \n",
    "$ 2p - 2 = 0 \\\\ $\n",
    "$ 2p = 2 \\\\ $\n",
    "$ p = 1 \\\\ $\n",
    "\n",
    "So, for \"Same\" convolution, you would need to pad the input image with 1 pixel of padding on all sides to maintain the input and output dimensions at 6x6.\n",
    "\n"
   ]
  },
  {
   "cell_type": "markdown",
   "id": "cb77621a",
   "metadata": {},
   "source": [
    "## Stride Convolutions in Convolutional Neural Networks\n",
    "\n",
    "<img src=\"Lecture_Image_Files/lec_16/Images/strided_conv1.gif\" alt=\"large img\" width=80% height=80%>\n",
    "\n",
    "Understanding stride convolutions is essential when working with Convolutional Neural Networks (CNNs). In this context, let's explore an example to illustrate how stride convolutions work.\n",
    "\n",
    "Suppose you want to convolve a 7x7 image with a 3x3 filter, but with a stride of two. This means that instead of moving the filter one pixel at a time, you move it by two pixels. Here's the process:\n",
    "\n",
    "1. Take the element-wise product in the upper-left 3x3 region, sum it, and get $91$.\n",
    "2. Move the blue box over by two steps to the right, resulting in an element-wise product sum of $100$.\n",
    "3. Again, shift the box by two steps, yielding a sum of $83$.\n",
    "4. Move to the next row and skip over one position by taking two steps to the right, resulting in a sum of $69$.\n",
    "5. Move over by two steps again, giving a sum of $91$, and so on.\n",
    "6. This process results in a $3x3$ output.\n",
    "\n",
    "The dimensions of the input and output are determined by a formula:\n",
    "\n",
    "If you have an $n x n$ image, convolve it with an $f x f$ filter, use padding of $p$, and a stride of $s$, then the output size is given by:\n",
    "\n",
    "$ \\text{Output Dimension} = \\left\\lfloor \\frac{n + 2p - f}{s} \\right\\rfloor + 1 $\n",
    "\n",
    "In this example, with a $7x7$ image, $3x3$ filter, no padding ($p=0$), and a stride of $2$, you get:\n",
    "\n",
    "$ \\text{Output Dimension} = \\left\\lfloor \\frac{7 + 2(0) - 3}{2} \\right\\rfloor + 1 = \\left\\lfloor \\frac{4}{2} \\right\\rfloor + 1 = 2 + 1 = 3 $\n",
    "\n",
    "So, you end up with a $3x3$ output.\n",
    "\n",
    "\n",
    "To summarize, stride convolutions are a crucial part of CNNs, allowing you to control the output size and stride while convolving over images or volumes. In the next chapter, we'll explore convolutions over volumes, further enhancing the capabilities of this operation.\n"
   ]
  },
  {
   "cell_type": "markdown",
   "id": "90d686ad",
   "metadata": {},
   "source": [
    "### Convolution in Three-Dimensional Volumes:\n",
    "\n",
    "<img src=\"Lecture_Image_Files/lec_16/Images/conv_volume.gif\" alt=\"large img\" width=80% height=80%>\n",
    "\n",
    "In the realm of convolutional neural networks (CNNs), we encounter scenarios where we need to apply convolution operations not just to 2D images but to three-dimensional volumes. Let's delve into an example to grasp this concept.\n",
    "\n",
    "Consider the desire to detect features not only in grayscale images but in RGB images. An RGB image is different from a grayscale one; it's a 3D volume. Instead of being a simple 2D matrix, it consists of three layers, each representing a color channel: red, green, and blue. So, a 6x6 RGB image is essentially three 6x6 images stacked together.\n",
    "\n",
    "To achieve feature detection in such an RGB image, we employ a 3D filter, typically sized as 3x3x3. This filter comprises three layers, mirroring the red, green, and blue channels of the image. Crucially, the number of channels in the image must match that of the filter.\n",
    "\n",
    "Now, let's demystify the convolution process. Imagine a simplified scenario where we position a 3x3x3 filter in the upper-left corner of the image. This filter holds 27 parameters, nine for each color channel. We compute the output by multiplying these parameters with the corresponding values in the image for each channel, summing them up, and obtaining the first output value.\n",
    "\n",
    "To proceed, we slide the filter one step to the right, conducting 27 multiplications and summations again, yielding the next output value. We repeat this operation throughout the image, shifting the filter horizontally and vertically, until we arrive at the final 4x4 output.\n",
    "\n",
    "By adjusting the filter parameters, we can create various feature detectors. For instance, setting the filter to have ones only in the red channel and zeros in the green and blue channels allows us to detect vertical edges in the red channel. If we aim to detect edges regardless of color, we can configure the filter to have alternating ones and minus ones across all channels.\n",
    "\n",
    "In the domain of computer vision, the convention is that the filter can have different heights and widths while maintaining the same number of channels as the input. This approach provides flexibility in designing filters that focus on specific channels or amalgamate information from all channels.\n",
    "\n",
    "To sum up, applying convolution to a three-dimensional volume, like a 6x6x3 RGB image, using a 3x3x3 filter, yields a 2D output, in this case, a 4x4 image.\n",
    "\n"
   ]
  },
  {
   "cell_type": "markdown",
   "id": "2c316723",
   "metadata": {},
   "source": [
    "### Multiple filters: \n",
    "\n",
    "<img src=\"Lecture_Image_Files/lec_16/Images/mul_filter.png\" alt=\"large img\" width=80% height=80%>\n",
    "\n",
    "Certainly, the next crucial concept in building convolutional neural networks (CNNs) involves using multiple filters simultaneously to detect various features. In the previous example, we convolved a 6x6x3 input image with a 3x3x3 filter to obtain a 4x4 output. This filter could be thought of as a vertical edge detector.\n",
    "\n",
    "Now, imagine we want to detect not just vertical edges but also horizontal edges, diagonal edges, and perhaps other features simultaneously. We can achieve this by using multiple filters. Let's say we have a second filter, denoted in orange, which could be a horizontal edge detector. When we convolve the input image with this second filter, it results in a different 4x4 output.\n",
    "\n",
    "We can then stack these two outputs together, placing the first one in front and the second one behind, essentially creating a 4x4x2 output volume. This means that by applying two different 3x3 filters to our 6x6x3 image, we obtain two 4x4 outputs, which are then combined to form a $4 \\times 4 \\times 2$ volume.\n",
    "\n",
    "To summarize the dimensions:\n",
    "\n",
    "- If you have an $n \\times n$ input image with a number of channels (e.g., $n \\times n \\times 3$ for an RGB image).\n",
    "- And you convolve it with an $f \\times f$ filter with the same number of channels.\n",
    "- The result is an output volume of size $(n - f + 1) \\times (n - f + 1) \\times nC'$, where $nC'$ is the number of filters used.\n",
    "\n",
    "This concept of convolutions over volumes is powerful because it allows us to detect multiple features simultaneously, resulting in an output with a number of channels equal to the number of filters used. This sets the stage for building deeper CNNs with diverse feature detection capabilities. Note that the term \"channels\" is used to refer to the size of the third dimension in these filters, although \"depth\" is another term often used in the literature.\n"
   ]
  },
  {
   "cell_type": "code",
   "execution_count": 2,
   "id": "91b70fac",
   "metadata": {},
   "outputs": [
    {
     "name": "stdout",
     "output_type": "stream",
     "text": [
      "Convolutional Layer Output Shape: torch.Size([1, 2, 4, 4])\n"
     ]
    }
   ],
   "source": [
    "import torch\n",
    "import torch.nn as nn\n",
    "\n",
    "# Demo input data: Batch size 1, 3 channels (RGB), 6x6 image\n",
    "demo_input = torch.randn(1, 3, 6, 6)\n",
    "\n",
    "# Define the Convolutional Layer\n",
    "conv_layer = nn.Conv2d(in_channels=3, out_channels=2, kernel_size=3, padding=0)\n",
    "\n",
    "# Pass the input through the convolutional layer\n",
    "output = conv_layer(demo_input)\n",
    "\n",
    "print(\"Convolutional Layer Output Shape:\", output.shape)"
   ]
  },
  {
   "cell_type": "markdown",
   "id": "009870db",
   "metadata": {},
   "source": [
    "## One Layer of a Convolutional Network:\n",
    "\n",
    "<img src=\"Lecture_Image_Files/lec_16/Images/cnn_one_layer.png\" alt=\"large img\" width=80% height=80%>\n",
    "\n",
    "Let's explore how to construct a single layer of a Convolutional Neural Network (CNN) through an illustrative example. In the previous chapter, we learned how to convolve a 3D volume with two different filters, resulting in two distinct 4x4 outputs. To create a CNN layer, we'll introduce biases for each of these outputs and apply a non-linear activation function, such as ReLU, to obtain a 4x4 output after these transformations.\n",
    "\n",
    "Here's the step-by-step process:\n",
    "\n",
    "1. **Convolution with Filters:** We start with our 3D input volume, which can be thought of as a 6x6x3 image. We convolve this input with two different 3x3 filters, resulting in two separate 4x4 outputs. Each filter performs a weighted sum of the input values within its receptive field.\n",
    "\n",
    "2. **Bias Addition:** After the convolution, we add a bias term to each element of both 4x4 outputs. This bias is a real number and is added uniformly to all 16 elements in each output. Python's broadcasting mechanism simplifies this operation.\n",
    "\n",
    "3. **Non-Linear Activation:** Following the bias addition, we apply a non-linear activation function (e.g., ReLU) element-wise to each output. This introduces non-linearity into the layer.\n",
    "\n",
    "4. **Stacking Outputs:** Finally, we stack these two 4x4 outputs together, placing the first output in the front and the second one behind it. This stacking creates a 4x4x2 output volume.\n",
    "\n",
    "This transformation, which takes us from a 6x6x3 input to a 4x4x2 output, constitutes one layer of a convolutional neural network.\n",
    "\n",
    "Now, let's draw parallels between this CNN layer and a single layer in a traditional feedforward neural network (FNN):\n",
    "\n",
    "In an FNN layer, we typically have the following:\n",
    "\n",
    "```python\n",
    "z1 = w1 * a0 + b[1]\n",
    "a[1] = g(z[1])\n"
   ]
  },
  {
   "cell_type": "markdown",
   "id": "9ce727f7",
   "metadata": {},
   "source": [
    "### Code example"
   ]
  },
  {
   "cell_type": "code",
   "execution_count": 3,
   "id": "a0fbf0d6",
   "metadata": {},
   "outputs": [
    {
     "name": "stdout",
     "output_type": "stream",
     "text": [
      "Convolutional Layer Output Shape after ReLU: torch.Size([1, 2, 4, 4])\n"
     ]
    }
   ],
   "source": [
    "import torch\n",
    "import torch.nn as nn\n",
    "import torch.nn.functional as F  # Import the functional module for activations\n",
    "\n",
    "# Demo input data: Batch size 1, 3 channels (RGB), 6x6 image\n",
    "demo_input = torch.randn(1, 3, 6, 6)\n",
    "\n",
    "# Define the Convolutional Layer\n",
    "conv_layer = nn.Conv2d(in_channels=3, out_channels=2, kernel_size=3, padding=0)\n",
    "\n",
    "# Pass the input through the convolutional layer\n",
    "output = conv_layer(demo_input)\n",
    "\n",
    "# Apply ReLU activation function to the output\n",
    "output = F.relu(output)\n",
    "\n",
    "print(\"Convolutional Layer Output Shape after ReLU:\", output.shape)\n"
   ]
  },
  {
   "cell_type": "markdown",
   "id": "d795eba9",
   "metadata": {},
   "source": [
    "### Number of parameters in one layer\n",
    "\n",
    "<img src=\"Lecture_Image_Files/lec_16/Images/num_para.png\" alt=\"large img\" width=80% height=80%>\n",
    "\n",
    "Let's suppose you have 10 filters, not just two filters, that are 3 by 3 by 3, and one layer of a neural network. How many parameters does this layer have? Well, let's figure this out.\n",
    "\n",
    "Each filter is a 3 x 3 x 3 volume, so it has 3 x 3 x 3 = 27 parameters, plus the bias term, which adds 1 more parameter. So, each filter has a total of 28 parameters.\n",
    "\n",
    "Now, imagine that you actually have ten of these filters. That means you have 10 sets of these 28 parameters. So, the total number of parameters for this layer would be 28 parameters per filter multiplied by 10 filters, resulting in a total of 280 parameters for this layer.\n",
    "\n",
    "One interesting aspect to note is that regardless of the size of the input image, whether it's 1,000 by 1,000 pixels or even larger, the number of parameters in this layer remains fixed at 280. This efficiency allows you to use these ten filters to detect various features, including vertical and horizontal edges, and other patterns, even in very large images, without significantly increasing the number of parameters."
   ]
  },
  {
   "cell_type": "code",
   "execution_count": 4,
   "id": "ee928536",
   "metadata": {},
   "outputs": [
    {
     "name": "stdout",
     "output_type": "stream",
     "text": [
      "Convolutional Layer Output Shape after ReLU: torch.Size([1, 10, 4, 4])\n"
     ]
    }
   ],
   "source": [
    "import torch\n",
    "import torch.nn as nn\n",
    "import torch.nn.functional as F  # Import the functional module for activations\n",
    "\n",
    "# Demo input data: Batch size 1, 3 channels (RGB), 6x6 image\n",
    "demo_input = torch.randn(1, 3, 6, 6)\n",
    "\n",
    "# Define the Convolutional Layer\n",
    "conv_layer = nn.Conv2d(in_channels=3, out_channels=10, kernel_size=3, padding=0)\n",
    "\n",
    "# Pass the input through the convolutional layer\n",
    "output = conv_layer(demo_input)\n",
    "\n",
    "# Apply ReLU activation function to the output\n",
    "output = F.relu(output)\n",
    "\n",
    "print(\"Convolutional Layer Output Shape after ReLU:\", output.shape)"
   ]
  },
  {
   "cell_type": "code",
   "execution_count": 5,
   "id": "5d4935ca",
   "metadata": {},
   "outputs": [
    {
     "name": "stdout",
     "output_type": "stream",
     "text": [
      "Total Parameters in Convolutional Layer: 280\n"
     ]
    }
   ],
   "source": [
    "# Calculate the number of parameters in the convolutional layer\n",
    "total_params = sum(p.numel() for p in conv_layer.parameters())\n",
    "print(\"Total Parameters in Convolutional Layer:\", total_params)\n"
   ]
  },
  {
   "cell_type": "markdown",
   "id": "035a05df",
   "metadata": {},
   "source": [
    "### Notation\n",
    "\n",
    "<img src=\"Lecture_Image_Files/lec_16/Images/notation.png\" alt=\"large img\" width=80% height=80%>\n",
    "\n",
    "## Layer Notation\n",
    "- $l$: Layer index, indicating the specific layer in the CNN.\n",
    "- $f^{[l]}$: Filter size, denoting the dimensions of the filters used in layer $l$.\n",
    "- $p^{[l]}$: Padding, representing the amount of padding applied in layer $l$.\n",
    "- $s^{[l]}$: Stride, indicating the stride used in layer $l$.\n",
    "\n",
    "## Input and Output Dimensions\n",
    "- $nH^{[l-1]}, nW^{[l-1]}, nC^{[l-1]}$: Height, width, and number of channels of the input from the previous layer (layer $l-1$).\n",
    "- $nH^{[l]}, nW^{[l]}, nC^{[l]}$: Height, width, and number of channels of the output of layer $l$.\n",
    "\n",
    "## Output Size Formula\n",
    "- The height ($nH^{[l]}$) and width ($nW^{[l]}$) of the output volume are determined using a formula based on the input size, padding, filter size, and stride.\n",
    "- These dimensions are calculated separately for height and width.\n",
    "\n",
    "## Number of Channels (Filters)\n",
    "- The number of channels in the output volume ($nC^{[l]}$) is equal to the number of filters used in layer $l$.\n",
    "\n",
    "## Filter Dimensions\n",
    "- Each filter in layer $l$ has dimensions $f^{[l]} \\times f^{[l]} \\times nC^{[l-1]}$, where $nC^{[l-1]}$ is the number of channels in the input from the previous layer.\n",
    "\n",
    "## Weights (Parameters)\n",
    "- The weights, often represented by the filters, collectively form a tensor with dimensions $f^{[l]} \\times f^{[l]} \\times nC^{[l-1]} \\times nC^{[l]}$, where $nC^{[l]}$ is the number of filters used in layer $l$.\n",
    "\n",
    "## Bias Parameters\n",
    "- Each filter has an associated bias parameter, resulting in $nC^{[l]}$ bias parameters.\n",
    "\n",
    "## Activation Output\n",
    "- The activation output of layer $l$, denoted as $a^{[l]}$, is a 3D volume with dimensions $nH^{[l]} \\times nW^{[l]} \\times nC^{[l]}$.\n",
    "\n",
    "## Batch Processing\n",
    "- In batch gradient descent or mini-batch gradient descent, activations are represented as $A^{[l]}$, with an additional dimension for the batch size ($m$).\n",
    "\n",
    "## Ordering of Variables\n",
    "- While the convention used here lists height and width before the number of channels ($nH \\times nW \\times nC$), note that some sources use a different ordering, with channels listed first ($nC \\times nH \\times nW$). Both conventions are valid, but consistency is key.\n",
    "\n",
    "Remember that you don't need to memorize all of these notations at once, as you'll become more familiar with them through practical exercises. The primary takeaway is to understand how one layer of a CNN performs computations to map activations from the previous layer to activations in the current layer. This knowledge will be crucial as we build deeper CNNs by stacking multiple layers together.\n"
   ]
  },
  {
   "cell_type": "markdown",
   "id": "043b0fcb",
   "metadata": {},
   "source": [
    "### Example simple ConvNet:\n",
    "\n",
    "<img src=\"Lecture_Image_Files/lec_16/Images/simple_conv.png\" alt=\"large img\" width=100% height=100%>\n",
    "\n",
    "In this example, we discussed the architecture of a deep convolutional neural network (ConvNet) for image classification. The input image was 39x39x3 in size, where 39 represents both height and width, and 3 denotes the number of channels (e.g., RGB). The ConvNet comprised several layers, and we covered some key details:\n",
    "\n",
    "1. **Layer 1 (Convolutional Layer):**\n",
    "   - Filter size (f1): 3x3\n",
    "   - Stride (s1): 1\n",
    "   - Padding (p1): None (Valid Convolution)\n",
    "   - Number of filters: 10\n",
    "   - Output dimensions: 37x37x10\n",
    "\n",
    "2. **Layer 2 (Convolutional Layer):**\n",
    "   - Filter size (f2): 5x5\n",
    "   - Stride (s2): 2\n",
    "   - Padding (p2): None (Valid Convolution)\n",
    "   - Number of filters: 20\n",
    "   - Output dimensions: 17x17x20\n",
    "\n",
    "3. **Layer 3 (Convolutional Layer):**\n",
    "   - Filter size (f3): 5x5\n",
    "   - Stride (s3): 2\n",
    "   - Padding (p3): None (Valid Convolution)\n",
    "   - Number of filters: 40\n",
    "   - Output dimensions: 7x7x40\n",
    "\n",
    "4. **Flatten Layer:**\n",
    "   - The output of the last convolutional layer (7x7x40) is flattened into a vector of 1,960 units.\n",
    "\n",
    "5. **Final Layer (Logistic Regression or Softmax):**\n",
    "   - The flattened vector is fed into a logistic regression or softmax unit for the final prediction.\n",
    "\n",
    "This example illustrates the typical progression in ConvNets, where the height and width of the activations tend to decrease while the number of channels generally increases as you go deeper into the network. The specific hyperparameters like filter sizes, strides, padding, and the number of filters play a crucial role in the network's design.\n",
    "\n",
    "In ConvNets, there are three common types of layers:\n",
    "- Convolutional layers (Conv)\n",
    "- Pooling layers (Pool)\n",
    "- Fully connected layers (FC)"
   ]
  },
  {
   "cell_type": "markdown",
   "id": "e6a7a047",
   "metadata": {},
   "source": [
    "# Pooling layer: Max pooling\n",
    "\n",
    "<img src=\"Lecture_Image_Files/lec_16/Images/max_pool.png\" alt=\"large img\" width=100% height=100%>\n",
    "\n",
    "# Understanding Max Pooling in ConvNets\n",
    "\n",
    "In Convolutional Neural Networks (ConvNets), pooling layers are often employed alongside convolutional layers to reduce representation size, accelerate computations, and enhance feature robustness. Let's explore an example of max pooling and its purpose.\n",
    "\n",
    "Consider a 4x4 input grid and the application of max pooling to yield a 2x2 output. The process is straightforward: divide the 4x4 input into regions and assign colors to each quadrant. For the 2x2 output, each value is determined by selecting the maximum number within the corresponding shaded region. Consequently, this employs a filter size of 2x2 because 2x2 regions are considered, and the stride is set to 2, progressing from one region to another.\n",
    "\n",
    "Max pooling essentially preserves features that exist anywhere within the filter. If a specific feature is detected within one of these quadrants, it remains intact in the max-pooled output. Conversely, if a feature isn't detected, the maximum operation keeps the value relatively small. This way, max pooling retains significant features while reducing irrelevant information.\n",
    "\n",
    "It's important to note that, although the intuition behind max pooling suggests it preserves critical features, its effectiveness has primarily been observed through experimentation. The exact reason for its success remains a subject of debate.\n",
    "\n",
    "An intriguing characteristic of max pooling is that it relies on a set of hyperparameters but introduces no learnable parameters. Once you define the filter size (f) and stride (s), the operation becomes a fixed computation, making it unsuitable for gradient descent adjustments.\n",
    "\n",
    "In summary, max pooling is a common pooling technique in ConvNets, serving to downsample representations while retaining essential features. Its effectiveness is well-established, even though the precise reasoning behind it is still a subject of inquiry.\n",
    "\n",
    "#### Another example\n",
    "\n",
    "<img src=\"Lecture_Image_Files/lec_16/Images/max_pool_in.png\" alt=\"large img\" width=80% height=80%>\n",
    "\n",
    "Suppose you have a $5\\times5$ input and apply max pooling with a $3\\times3$ filter and a stride of 1, yielding a $3\\times3$ output. The output elements are computed based on the max value within each filter's region. For example, in the upper-left corner of the input, you take the max of the $3\\times3$ region to get 9. The same process continues for the entire input, resulting in the $3\\times3$ output. This formula works similarly to the ones for conv layers, using $ (n + 2p - f / s) + 1 $ to compute the output size.\n",
    "\n",
    "When dealing with a 3D input (e.g., $5\\times5\\times2$), max pooling retains the same dimensions in the output ($3\\times3\\times2$). Each channel is processed independently through the max pooling operation.\n",
    "\n",
    "Max pooling is a widely used technique due to its simplicity and effectiveness. Notably, it has no learnable parameters; hyperparameters like filter size ($f$) and stride ($s$) are set manually. Usually, max pooling does not involve padding ($p = 0$) unless in specific cases.\n",
    "\n",
    "## Average Pooling\n",
    "\n",
    "<img src=\"Lecture_Image_Files/lec_16/Images/avg_pooling.png\" alt=\"large img\" width=80% height=80%>\n",
    "\n",
    "Average pooling, another type of pooling, computes the average of values within a specified region rather than selecting the maximum. Although it is less common than max pooling, it has its uses, especially for collapsing large representations in deep neural networks.\n",
    "\n",
    "In summary, pooling layers in ConvNets play a crucial role in reducing dimensionality and enhancing feature extraction. Max pooling, with its simplicity and effectiveness, is the preferred choice in most cases. The key hyperparameters to set are filter size ($f$) and stride ($s$), with padding ($p$) rarely applied. Importantly, pooling layers do not introduce learnable parameters and are fixed computations within the network.\n",
    "\n",
    "\n",
    "\n",
    "# Summary \n",
    "\n",
    "<img src=\"Lecture_Image_Files/lec_16/Images/sum_pool.png\" alt=\"large img\" width=80% height=80%>"
   ]
  },
  {
   "cell_type": "markdown",
   "id": "848045fb",
   "metadata": {},
   "source": [
    "### Code example"
   ]
  },
  {
   "cell_type": "markdown",
   "id": "98ccba0b",
   "metadata": {},
   "source": [
    "### Max Pooling"
   ]
  },
  {
   "cell_type": "code",
   "execution_count": 6,
   "id": "1ace08d6",
   "metadata": {},
   "outputs": [
    {
     "name": "stdout",
     "output_type": "stream",
     "text": [
      "Convolutional Layer Output Shape after ReLU: torch.Size([1, 10, 4, 4])\n",
      "Max Pooling Layer Output Shape: torch.Size([1, 10, 2, 2])\n"
     ]
    }
   ],
   "source": [
    "import torch\n",
    "import torch.nn as nn\n",
    "import torch.nn.functional as F  # Import the functional module for activations\n",
    "\n",
    "# Demo input data: Batch size 1, 3 channels (RGB), 6x6 image\n",
    "demo_input = torch.randn(1, 3, 6, 6)\n",
    "\n",
    "# Define the Convolutional Layer\n",
    "conv_layer = nn.Conv2d(in_channels=3, out_channels=10, kernel_size=3, padding=0)\n",
    "\n",
    "# Pass the input through the convolutional layer\n",
    "output = conv_layer(demo_input)\n",
    "\n",
    "# Apply ReLU activation function to the output\n",
    "output = F.relu(output)\n",
    "\n",
    "print(\"Convolutional Layer Output Shape after ReLU:\", output.shape)\n",
    "\n",
    "# Define the Max Pooling Layer\n",
    "max_pool_layer = nn.MaxPool2d(kernel_size=2, stride=2)\n",
    "\n",
    "# Pass the output of the convolutional layer through the max pooling layer\n",
    "output_max_pool = max_pool_layer(output)\n",
    "\n",
    "print(\"Max Pooling Layer Output Shape:\", output_max_pool.shape)"
   ]
  },
  {
   "cell_type": "markdown",
   "id": "b8fd7d80",
   "metadata": {},
   "source": [
    "### Average Pooling"
   ]
  },
  {
   "cell_type": "code",
   "execution_count": 7,
   "id": "48ede86d",
   "metadata": {},
   "outputs": [
    {
     "name": "stdout",
     "output_type": "stream",
     "text": [
      "Average Pooling Layer Output Shape: torch.Size([1, 10, 2, 2])\n"
     ]
    }
   ],
   "source": [
    "# Define the Average Pooling Layer\n",
    "avg_pool_layer = nn.AvgPool2d(kernel_size=2, stride=2)\n",
    "\n",
    "# Pass the output of the convolutional layer through the average pooling layer\n",
    "output_avg_pool = avg_pool_layer(output)\n",
    "\n",
    "print(\"Average Pooling Layer Output Shape:\", output_avg_pool.shape)"
   ]
  },
  {
   "cell_type": "markdown",
   "id": "eb5a20ed",
   "metadata": {},
   "source": [
    "## CNN Example:\n",
    "\n",
    "<img src=\"Lecture_Image_Files/lec_16/Images/convolution_with_filters.png\" alt=\"python CNN\" width=76% height=58% title=\"CNN Convolution\"> \n",
    "\n",
    "## Total Param:\n",
    "\n",
    "<img src=\"Lecture_Image_Files/lec_16/Images/total_param.png\" alt=\"python CNN\" width=76% height=58% title=\"CNN Convolution\"> "
   ]
  },
  {
   "cell_type": "markdown",
   "id": "cdb7ae44",
   "metadata": {},
   "source": [
    "### Why Convolutions?\n",
    "\n",
    "In convolutional neural networks (ConvNets), two key principles contribute to their effectiveness: parameter sharing and sparse connections. \n",
    "\n",
    "**Parameter sharing** is based on the idea that a feature detector, like one that detects vertical edges, can be reused at different positions in an image. This sharing of parameters significantly reduces the number of parameters, making the network more efficient. Whether it's detecting low-level features like edges or higher-level features like facial features, sharing parameters across the image helps in feature extraction.\n",
    "\n",
    "**Sparse connections** are another factor that reduces the number of parameters. When computing an output, each unit depends only on a small local region of the input. For example, a 3x3 convolutional operation considers only a 3x3 grid of input pixels, resulting in sparse connections. This property helps the network focus on relevant information and prevents overfitting.\n",
    "\n",
    "ConvNets also excel at capturing **translation invariance**, meaning that a shifted image (e.g., a cat image moved a few pixels to the right) should still be recognized as the same object. Convolutional structures inherently encode this property, making them robust to small translations.\n",
    "\n",
    "In training a ConvNet, you start with randomly initialized parameters (weights and biases) and compute a cost function (e.g., mean squared error or cross-entropy) based on the network's predictions and the true labels. You then use optimization algorithms like gradient descent, momentum, RMSProp, or Adam to adjust the parameters and minimize the cost function. This process allows you to build effective detectors for various tasks, such as cat detection.\n",
    "\n",
    "Overall, ConvNets leverage parameter sharing, sparse connections, and translation invariance to efficiently process images and extract meaningful features, making them a powerful tool for computer vision tasks.\n"
   ]
  },
  {
   "cell_type": "markdown",
   "id": "000f717c",
   "metadata": {},
   "source": [
    "### Training a Neural Network\n",
    "\n",
    "<img src=\"Lecture_Image_Files/lec_16/Images/training_neural.png\" alt=\"large img\" width=100% height=100%>"
   ]
  },
  {
   "cell_type": "markdown",
   "id": "ccdda770",
   "metadata": {},
   "source": [
    "### Softmax Function Explanation\n",
    "\n",
    "The Softmax function is a mathematical function used in machine learning and deep learning for converting a vector of real numbers into a probability distribution. It is commonly used as the activation function in the output layer of classification models.\n",
    "\n",
    "Given an input vector **z = [z1, z2, ..., zn]**, the Softmax function calculates the probability **pi** for each element **zi** as:\n",
    "\n",
    "![Softmax Equation](https://latex.codecogs.com/svg.latex?p_i%20%3D%20%5Cfrac%7Be%5E%7Bz_i%7D%7D%7B%5Csum_%7Bj%3D1%7D%5E%7Bn%7D%20e%5E%7Bz_j%7D%7D)\n",
    "\n",
    "where **e^x** denotes the exponential function.\n",
    "\n",
    "The Softmax function exponentiates each element of the input vector **z** and then normalizes the results to ensure that the sum of the probabilities is equal to 1, producing a vector of probabilities representing the likelihood of each class.\n",
    "\n",
    "In PyTorch, you can use the `torch.nn.functional.softmax` function to apply softmax to a tensor.\n"
   ]
  },
  {
   "cell_type": "code",
   "execution_count": 8,
   "id": "0d2c10bb",
   "metadata": {},
   "outputs": [
    {
     "name": "stdout",
     "output_type": "stream",
     "text": [
      "tensor([0.6590, 0.2424, 0.0986])\n"
     ]
    }
   ],
   "source": [
    "import torch\n",
    "import torch.nn.functional as F\n",
    "\n",
    "# Example input tensor (logits)\n",
    "logits = torch.tensor([2.0, 1.0, 0.1])\n",
    "\n",
    "# Apply softmax to get probabilities\n",
    "probabilities = F.softmax(logits, dim=0)\n",
    "\n",
    "print(probabilities)"
   ]
  },
  {
   "cell_type": "markdown",
   "id": "db6cd9d9",
   "metadata": {},
   "source": [
    "## Now let's make a CNN and see a real example how it works. For this we will be using MNIST dataset. \n",
    "\n",
    "### Project Process:\n",
    "1. Prepare the data\n",
    "2. Build the model\n",
    "3. Train the model\n",
    "4. Analyze the model's result\n",
    "\n",
    "#### Brief about MNIST dataset\n",
    "\n",
    "The MNIST dataset is a widely used benchmark dataset in the field of machine learning and computer vision. It stands for the Modified National Institute of Standards and Technology (MNIST), as it is derived from a larger dataset collected by the US National Institute of Standards and Technology.\n",
    "\n",
    "The MNIST dataset consists of a collection of grayscale images of handwritten digits from 0 to 9. Each image is a 28x28-pixel square, representing a digit written in a consistent format. The dataset is divided into two main parts: a training set and a test set.\n",
    "\n",
    "The training set contains 60,000 images, while the test set contains 10,000 images. This split allows researchers and practitioners to evaluate the performance of machine learning algorithms on unseen data. The MNIST dataset has become a standard benchmark for evaluating and comparing the performance of various image classification algorithms, especially in the context of deep learning.\n",
    "\n",
    "The goal of the MNIST dataset is to accurately classify the handwritten digits into their corresponding classes (0 to 9) based on the pixel values of the images. It has been widely used as an introductory dataset for learning image classification techniques and developing and testing various machine learning models.\n",
    "\n",
    "Due to its simplicity and availability, the MNIST dataset has been extensively studied and has led to significant advancements in the field of machine learning and deep learning. It serves as a starting point for beginners to understand and implement image classification algorithms and has become a reference dataset for comparing the performance of different models on more complex datasets."
   ]
  },
  {
   "cell_type": "markdown",
   "id": "e5ecf013",
   "metadata": {},
   "source": [
    "#### Code for CNN model and training the model using MNIST dataset:"
   ]
  },
  {
   "cell_type": "markdown",
   "id": "38b51551",
   "metadata": {},
   "source": [
    "Before we begin let's see how transform module work in pytorch. Because we will be using this module in order to pre-process our image. \n",
    "\n",
    "In PyTorch, the transform module provides a set of common image transformations that can be applied to datasets. These transformations allow you to preprocess and augment the data before feeding it into the neural network. The transform module is part of the torchvision library, which is a PyTorch package specifically designed for working with image datasets.\n",
    "\n",
    "The transform module provides various operations such as resizing, cropping, normalization, and data augmentation techniques like random rotations, flips, and color jittering. These transformations can be applied to both the training and test datasets to ensure consistency and appropriate preprocessing.\n",
    "\n",
    "Here's a sample code snippet that demonstrates the usage of the transform module in PyTorch:"
   ]
  },
  {
   "cell_type": "markdown",
   "id": "fefbdc99",
   "metadata": {},
   "source": [
    "## Note: separate each code block"
   ]
  },
  {
   "cell_type": "code",
   "execution_count": 9,
   "id": "a0bfd55d",
   "metadata": {},
   "outputs": [
    {
     "name": "stdout",
     "output_type": "stream",
     "text": [
      "Downloading http://yann.lecun.com/exdb/mnist/train-images-idx3-ubyte.gz\n",
      "Downloading http://yann.lecun.com/exdb/mnist/train-images-idx3-ubyte.gz to data/MNIST/raw/train-images-idx3-ubyte.gz\n"
     ]
    },
    {
     "name": "stderr",
     "output_type": "stream",
     "text": [
      "100%|████████████████████████████| 9912422/9912422 [00:01<00:00, 6883035.80it/s]\n"
     ]
    },
    {
     "name": "stdout",
     "output_type": "stream",
     "text": [
      "Extracting data/MNIST/raw/train-images-idx3-ubyte.gz to data/MNIST/raw\n",
      "\n",
      "Downloading http://yann.lecun.com/exdb/mnist/train-labels-idx1-ubyte.gz\n",
      "Downloading http://yann.lecun.com/exdb/mnist/train-labels-idx1-ubyte.gz to data/MNIST/raw/train-labels-idx1-ubyte.gz\n"
     ]
    },
    {
     "name": "stderr",
     "output_type": "stream",
     "text": [
      "100%|███████████████████████████████| 28881/28881 [00:00<00:00, 82181610.46it/s]\n"
     ]
    },
    {
     "name": "stdout",
     "output_type": "stream",
     "text": [
      "Extracting data/MNIST/raw/train-labels-idx1-ubyte.gz to data/MNIST/raw\n",
      "\n",
      "Downloading http://yann.lecun.com/exdb/mnist/t10k-images-idx3-ubyte.gz\n",
      "Downloading http://yann.lecun.com/exdb/mnist/t10k-images-idx3-ubyte.gz to data/MNIST/raw/t10k-images-idx3-ubyte.gz\n"
     ]
    },
    {
     "name": "stderr",
     "output_type": "stream",
     "text": [
      "100%|████████████████████████████| 1648877/1648877 [00:00<00:00, 5087638.37it/s]\n"
     ]
    },
    {
     "name": "stdout",
     "output_type": "stream",
     "text": [
      "Extracting data/MNIST/raw/t10k-images-idx3-ubyte.gz to data/MNIST/raw\n",
      "\n",
      "Downloading http://yann.lecun.com/exdb/mnist/t10k-labels-idx1-ubyte.gz\n",
      "Downloading http://yann.lecun.com/exdb/mnist/t10k-labels-idx1-ubyte.gz to data/MNIST/raw/t10k-labels-idx1-ubyte.gz\n"
     ]
    },
    {
     "name": "stderr",
     "output_type": "stream",
     "text": [
      "100%|█████████████████████████████████| 4542/4542 [00:00<00:00, 12863287.49it/s]\n"
     ]
    },
    {
     "name": "stdout",
     "output_type": "stream",
     "text": [
      "Extracting data/MNIST/raw/t10k-labels-idx1-ubyte.gz to data/MNIST/raw\n",
      "\n"
     ]
    },
    {
     "data": {
      "image/png": "[encoded data removed]",
      "text/plain": [
       "<Figure size 800x400 with 2 Axes>"
      ]
     },
     "metadata": {},
     "output_type": "display_data"
    }
   ],
   "source": [
    "import torchvision.transforms as transforms\n",
    "from torchvision.datasets import MNIST\n",
    "import matplotlib.pyplot as plt\n",
    "\n",
    "# Load the MNIST dataset without any transformations\n",
    "dataset = MNIST(root='data/', train=True, download=True)\n",
    "\n",
    "# Select an image from the dataset\n",
    "image, _ = dataset[0]\n",
    "\n",
    "# Define the transformations to apply to the input image\n",
    "transform = transforms.Compose([\n",
    "    transforms.Resize((32, 32)),           # Resize the image to (32, 32)\n",
    "    transforms.RandomHorizontalFlip(),     # Randomly flip the image horizontally\n",
    "    transforms.RandomRotation(99),  \n",
    "    transforms.ToTensor(),                  # Convert the image to a tensor\n",
    "    transforms.Normalize((0.5,), (0.5,))    # Normalize the image with mean and standard deviation\n",
    "])\n",
    "\n",
    "# Apply the transformations to the image\n",
    "transformed_image = transform(image)\n",
    "\n",
    "# Display a comparison of the original and transformed images\n",
    "fig, axs = plt.subplots(1, 2, figsize=(8, 4))\n",
    "axs[0].imshow(image, cmap='gray')\n",
    "axs[0].set_title(\"Original Image\")\n",
    "axs[0].axis('off')\n",
    "\n",
    "axs[1].imshow(transformed_image.squeeze().numpy(), cmap='gray')\n",
    "axs[1].set_title(\"Transformed Image\")\n",
    "axs[1].axis('off')\n",
    "\n",
    "plt.tight_layout()\n",
    "plt.show()\n"
   ]
  },
  {
   "cell_type": "markdown",
   "id": "fcd230a3",
   "metadata": {},
   "source": [
    "##### as we can see the image has been rotated by a certain degree"
   ]
  },
  {
   "cell_type": "markdown",
   "id": "5eda0a9b",
   "metadata": {},
   "source": [
    "#### Now let's jump right into the project:\n",
    "\n",
    "In this project, we will train our CNN model on MNIST dataset that can predict handwritten digits from 0 to 9."
   ]
  },
  {
   "cell_type": "code",
   "execution_count": 10,
   "id": "52a45754",
   "metadata": {},
   "outputs": [],
   "source": [
    "#import the libraries\n",
    "from __future__ import print_function\n",
    "import argparse\n",
    "import torch\n",
    "import torch.nn as nn\n",
    "import torch.nn.functional as F\n",
    "import torch.optim as optim\n",
    "from torchvision import datasets, transforms"
   ]
  },
  {
   "cell_type": "code",
   "execution_count": 11,
   "id": "6520bb19",
   "metadata": {},
   "outputs": [
    {
     "name": "stdout",
     "output_type": "stream",
     "text": [
      "Downloading http://yann.lecun.com/exdb/mnist/train-images-idx3-ubyte.gz\n",
      "Downloading http://yann.lecun.com/exdb/mnist/train-images-idx3-ubyte.gz to ../data/MNIST/raw/train-images-idx3-ubyte.gz\n"
     ]
    },
    {
     "name": "stderr",
     "output_type": "stream",
     "text": [
      "100%|███████████████████████████| 9912422/9912422 [00:00<00:00, 10146951.02it/s]\n"
     ]
    },
    {
     "name": "stdout",
     "output_type": "stream",
     "text": [
      "Extracting ../data/MNIST/raw/train-images-idx3-ubyte.gz to ../data/MNIST/raw\n",
      "\n",
      "Downloading http://yann.lecun.com/exdb/mnist/train-labels-idx1-ubyte.gz\n",
      "Downloading http://yann.lecun.com/exdb/mnist/train-labels-idx1-ubyte.gz to ../data/MNIST/raw/train-labels-idx1-ubyte.gz\n"
     ]
    },
    {
     "name": "stderr",
     "output_type": "stream",
     "text": [
      "100%|███████████████████████████████| 28881/28881 [00:00<00:00, 18939289.22it/s]\n"
     ]
    },
    {
     "name": "stdout",
     "output_type": "stream",
     "text": [
      "Extracting ../data/MNIST/raw/train-labels-idx1-ubyte.gz to ../data/MNIST/raw\n",
      "\n",
      "Downloading http://yann.lecun.com/exdb/mnist/t10k-images-idx3-ubyte.gz\n",
      "Downloading http://yann.lecun.com/exdb/mnist/t10k-images-idx3-ubyte.gz to ../data/MNIST/raw/t10k-images-idx3-ubyte.gz\n"
     ]
    },
    {
     "name": "stderr",
     "output_type": "stream",
     "text": [
      "100%|████████████████████████████| 1648877/1648877 [00:00<00:00, 5514436.07it/s]\n"
     ]
    },
    {
     "name": "stdout",
     "output_type": "stream",
     "text": [
      "Extracting ../data/MNIST/raw/t10k-images-idx3-ubyte.gz to ../data/MNIST/raw\n",
      "\n",
      "Downloading http://yann.lecun.com/exdb/mnist/t10k-labels-idx1-ubyte.gz\n",
      "Downloading http://yann.lecun.com/exdb/mnist/t10k-labels-idx1-ubyte.gz to ../data/MNIST/raw/t10k-labels-idx1-ubyte.gz\n"
     ]
    },
    {
     "name": "stderr",
     "output_type": "stream",
     "text": [
      "100%|█████████████████████████████████| 4542/4542 [00:00<00:00, 15425529.37it/s]\n"
     ]
    },
    {
     "name": "stdout",
     "output_type": "stream",
     "text": [
      "Extracting ../data/MNIST/raw/t10k-labels-idx1-ubyte.gz to ../data/MNIST/raw\n",
      "\n",
      "Train Epoch: 1 [0/60000 (0%)]\tLoss: 2.295844\n",
      "Train Epoch: 1 [1600/60000 (3%)]\tLoss: 2.249347\n",
      "Train Epoch: 1 [3200/60000 (5%)]\tLoss: 2.222004\n",
      "Train Epoch: 1 [4800/60000 (8%)]\tLoss: 2.151714\n",
      "Train Epoch: 1 [6400/60000 (11%)]\tLoss: 2.084718\n",
      "Train Epoch: 1 [8000/60000 (13%)]\tLoss: 1.978025\n",
      "Train Epoch: 1 [9600/60000 (16%)]\tLoss: 1.832004\n",
      "Train Epoch: 1 [11200/60000 (19%)]\tLoss: 1.682547\n",
      "Train Epoch: 1 [12800/60000 (21%)]\tLoss: 1.495733\n",
      "Train Epoch: 1 [14400/60000 (24%)]\tLoss: 1.267230\n",
      "Train Epoch: 1 [16000/60000 (27%)]\tLoss: 1.000248\n",
      "Train Epoch: 1 [17600/60000 (29%)]\tLoss: 0.774379\n",
      "Train Epoch: 1 [19200/60000 (32%)]\tLoss: 0.849698\n",
      "Train Epoch: 1 [20800/60000 (35%)]\tLoss: 0.644116\n",
      "Train Epoch: 1 [22400/60000 (37%)]\tLoss: 0.598154\n",
      "Train Epoch: 1 [24000/60000 (40%)]\tLoss: 0.471154\n",
      "Train Epoch: 1 [25600/60000 (43%)]\tLoss: 0.628364\n",
      "Train Epoch: 1 [27200/60000 (45%)]\tLoss: 0.580138\n",
      "Train Epoch: 1 [28800/60000 (48%)]\tLoss: 0.462176\n",
      "Train Epoch: 1 [30400/60000 (51%)]\tLoss: 0.519410\n",
      "Train Epoch: 1 [32000/60000 (53%)]\tLoss: 0.463268\n",
      "Train Epoch: 1 [33600/60000 (56%)]\tLoss: 0.475191\n",
      "Train Epoch: 1 [35200/60000 (59%)]\tLoss: 0.386370\n",
      "Train Epoch: 1 [36800/60000 (61%)]\tLoss: 0.315407\n",
      "Train Epoch: 1 [38400/60000 (64%)]\tLoss: 0.507737\n",
      "Train Epoch: 1 [40000/60000 (67%)]\tLoss: 0.604779\n",
      "Train Epoch: 1 [41600/60000 (69%)]\tLoss: 0.202801\n",
      "Train Epoch: 1 [43200/60000 (72%)]\tLoss: 0.476287\n",
      "Train Epoch: 1 [44800/60000 (75%)]\tLoss: 0.611373\n",
      "Train Epoch: 1 [46400/60000 (77%)]\tLoss: 0.220134\n",
      "Train Epoch: 1 [48000/60000 (80%)]\tLoss: 0.371925\n",
      "Train Epoch: 1 [49600/60000 (83%)]\tLoss: 0.317134\n",
      "Train Epoch: 1 [51200/60000 (85%)]\tLoss: 0.192658\n",
      "Train Epoch: 1 [52800/60000 (88%)]\tLoss: 0.164823\n",
      "Train Epoch: 1 [54400/60000 (91%)]\tLoss: 0.327417\n",
      "Train Epoch: 1 [56000/60000 (93%)]\tLoss: 0.192132\n",
      "Train Epoch: 1 [57600/60000 (96%)]\tLoss: 0.515406\n",
      "Train Epoch: 1 [59200/60000 (99%)]\tLoss: 0.474224\n",
      "\n",
      "Test set: Average loss: 0.3253, Accuracy: 9085/10000 (91%)\n",
      "\n",
      "Train Epoch: 2 [0/60000 (0%)]\tLoss: 0.480623\n",
      "Train Epoch: 2 [1600/60000 (3%)]\tLoss: 0.545669\n",
      "Train Epoch: 2 [3200/60000 (5%)]\tLoss: 0.228401\n",
      "Train Epoch: 2 [4800/60000 (8%)]\tLoss: 0.632017\n",
      "Train Epoch: 2 [6400/60000 (11%)]\tLoss: 0.238872\n",
      "Train Epoch: 2 [8000/60000 (13%)]\tLoss: 0.356368\n",
      "Train Epoch: 2 [9600/60000 (16%)]\tLoss: 0.131020\n",
      "Train Epoch: 2 [11200/60000 (19%)]\tLoss: 0.226347\n",
      "Train Epoch: 2 [12800/60000 (21%)]\tLoss: 0.271768\n",
      "Train Epoch: 2 [14400/60000 (24%)]\tLoss: 0.496061\n",
      "Train Epoch: 2 [16000/60000 (27%)]\tLoss: 0.300913\n",
      "Train Epoch: 2 [17600/60000 (29%)]\tLoss: 0.408475\n",
      "Train Epoch: 2 [19200/60000 (32%)]\tLoss: 0.157522\n",
      "Train Epoch: 2 [20800/60000 (35%)]\tLoss: 0.313831\n",
      "Train Epoch: 2 [22400/60000 (37%)]\tLoss: 0.391600\n",
      "Train Epoch: 2 [24000/60000 (40%)]\tLoss: 0.169287\n",
      "Train Epoch: 2 [25600/60000 (43%)]\tLoss: 0.149629\n",
      "Train Epoch: 2 [27200/60000 (45%)]\tLoss: 0.118067\n",
      "Train Epoch: 2 [28800/60000 (48%)]\tLoss: 0.232683\n",
      "Train Epoch: 2 [30400/60000 (51%)]\tLoss: 0.211425\n",
      "Train Epoch: 2 [32000/60000 (53%)]\tLoss: 0.261559\n",
      "Train Epoch: 2 [33600/60000 (56%)]\tLoss: 0.249143\n",
      "Train Epoch: 2 [35200/60000 (59%)]\tLoss: 0.415499\n",
      "Train Epoch: 2 [36800/60000 (61%)]\tLoss: 0.131795\n",
      "Train Epoch: 2 [38400/60000 (64%)]\tLoss: 0.214207\n",
      "Train Epoch: 2 [40000/60000 (67%)]\tLoss: 0.668988\n",
      "Train Epoch: 2 [41600/60000 (69%)]\tLoss: 0.375513\n",
      "Train Epoch: 2 [43200/60000 (72%)]\tLoss: 0.205240\n",
      "Train Epoch: 2 [44800/60000 (75%)]\tLoss: 0.176857\n",
      "Train Epoch: 2 [46400/60000 (77%)]\tLoss: 0.252206\n",
      "Train Epoch: 2 [48000/60000 (80%)]\tLoss: 0.298532\n",
      "Train Epoch: 2 [49600/60000 (83%)]\tLoss: 0.361041\n",
      "Train Epoch: 2 [51200/60000 (85%)]\tLoss: 0.409594\n",
      "Train Epoch: 2 [52800/60000 (88%)]\tLoss: 0.253552\n",
      "Train Epoch: 2 [54400/60000 (91%)]\tLoss: 0.351783\n",
      "Train Epoch: 2 [56000/60000 (93%)]\tLoss: 0.158560\n",
      "Train Epoch: 2 [57600/60000 (96%)]\tLoss: 0.193942\n",
      "Train Epoch: 2 [59200/60000 (99%)]\tLoss: 0.537093\n",
      "\n",
      "Test set: Average loss: 0.2615, Accuracy: 9252/10000 (93%)\n",
      "\n",
      "Train Epoch: 3 [0/60000 (0%)]\tLoss: 0.365461\n",
      "Train Epoch: 3 [1600/60000 (3%)]\tLoss: 0.347471\n",
      "Train Epoch: 3 [3200/60000 (5%)]\tLoss: 0.340890\n",
      "Train Epoch: 3 [4800/60000 (8%)]\tLoss: 0.175294\n",
      "Train Epoch: 3 [6400/60000 (11%)]\tLoss: 0.437823\n",
      "Train Epoch: 3 [8000/60000 (13%)]\tLoss: 0.128981\n",
      "Train Epoch: 3 [9600/60000 (16%)]\tLoss: 0.530612\n",
      "Train Epoch: 3 [11200/60000 (19%)]\tLoss: 0.136351\n",
      "Train Epoch: 3 [12800/60000 (21%)]\tLoss: 0.280645\n",
      "Train Epoch: 3 [14400/60000 (24%)]\tLoss: 0.218347\n",
      "Train Epoch: 3 [16000/60000 (27%)]\tLoss: 0.302520\n",
      "Train Epoch: 3 [17600/60000 (29%)]\tLoss: 0.435687\n",
      "Train Epoch: 3 [19200/60000 (32%)]\tLoss: 0.398277\n",
      "Train Epoch: 3 [20800/60000 (35%)]\tLoss: 0.210195\n",
      "Train Epoch: 3 [22400/60000 (37%)]\tLoss: 0.305443\n",
      "Train Epoch: 3 [24000/60000 (40%)]\tLoss: 0.140388\n",
      "Train Epoch: 3 [25600/60000 (43%)]\tLoss: 0.261933\n",
      "Train Epoch: 3 [27200/60000 (45%)]\tLoss: 0.152349\n",
      "Train Epoch: 3 [28800/60000 (48%)]\tLoss: 0.263207\n",
      "Train Epoch: 3 [30400/60000 (51%)]\tLoss: 0.097110\n",
      "Train Epoch: 3 [32000/60000 (53%)]\tLoss: 0.177426\n",
      "Train Epoch: 3 [33600/60000 (56%)]\tLoss: 0.160016\n",
      "Train Epoch: 3 [35200/60000 (59%)]\tLoss: 0.201287\n",
      "Train Epoch: 3 [36800/60000 (61%)]\tLoss: 0.362414\n",
      "Train Epoch: 3 [38400/60000 (64%)]\tLoss: 0.286542\n",
      "Train Epoch: 3 [40000/60000 (67%)]\tLoss: 0.293158\n",
      "Train Epoch: 3 [41600/60000 (69%)]\tLoss: 0.165163\n",
      "Train Epoch: 3 [43200/60000 (72%)]\tLoss: 0.253256\n",
      "Train Epoch: 3 [44800/60000 (75%)]\tLoss: 0.164669\n",
      "Train Epoch: 3 [46400/60000 (77%)]\tLoss: 0.408449\n",
      "Train Epoch: 3 [48000/60000 (80%)]\tLoss: 0.099353\n",
      "Train Epoch: 3 [49600/60000 (83%)]\tLoss: 0.308135\n",
      "Train Epoch: 3 [51200/60000 (85%)]\tLoss: 0.254907\n",
      "Train Epoch: 3 [52800/60000 (88%)]\tLoss: 0.383595\n",
      "Train Epoch: 3 [54400/60000 (91%)]\tLoss: 0.287743\n",
      "Train Epoch: 3 [56000/60000 (93%)]\tLoss: 0.212889\n",
      "Train Epoch: 3 [57600/60000 (96%)]\tLoss: 0.109731\n",
      "Train Epoch: 3 [59200/60000 (99%)]\tLoss: 0.498654\n",
      "\n",
      "Test set: Average loss: 0.2175, Accuracy: 9349/10000 (93%)\n",
      "\n",
      "Train Epoch: 4 [0/60000 (0%)]\tLoss: 0.070788\n",
      "Train Epoch: 4 [1600/60000 (3%)]\tLoss: 0.226662\n",
      "Train Epoch: 4 [3200/60000 (5%)]\tLoss: 0.163690\n",
      "Train Epoch: 4 [4800/60000 (8%)]\tLoss: 0.368997\n",
      "Train Epoch: 4 [6400/60000 (11%)]\tLoss: 0.107484\n",
      "Train Epoch: 4 [8000/60000 (13%)]\tLoss: 0.160466\n",
      "Train Epoch: 4 [9600/60000 (16%)]\tLoss: 0.099886\n",
      "Train Epoch: 4 [11200/60000 (19%)]\tLoss: 0.128986\n",
      "Train Epoch: 4 [12800/60000 (21%)]\tLoss: 0.416390\n",
      "Train Epoch: 4 [14400/60000 (24%)]\tLoss: 0.074819\n",
      "Train Epoch: 4 [16000/60000 (27%)]\tLoss: 0.344167\n",
      "Train Epoch: 4 [17600/60000 (29%)]\tLoss: 0.116998\n",
      "Train Epoch: 4 [19200/60000 (32%)]\tLoss: 0.086362\n",
      "Train Epoch: 4 [20800/60000 (35%)]\tLoss: 0.098647\n",
      "Train Epoch: 4 [22400/60000 (37%)]\tLoss: 0.128599\n",
      "Train Epoch: 4 [24000/60000 (40%)]\tLoss: 0.375059\n",
      "Train Epoch: 4 [25600/60000 (43%)]\tLoss: 0.075754\n",
      "Train Epoch: 4 [27200/60000 (45%)]\tLoss: 0.402769\n",
      "Train Epoch: 4 [28800/60000 (48%)]\tLoss: 0.055159\n",
      "Train Epoch: 4 [30400/60000 (51%)]\tLoss: 0.097950\n",
      "Train Epoch: 4 [32000/60000 (53%)]\tLoss: 0.109939\n",
      "Train Epoch: 4 [33600/60000 (56%)]\tLoss: 0.284605\n",
      "Train Epoch: 4 [35200/60000 (59%)]\tLoss: 0.134385\n",
      "Train Epoch: 4 [36800/60000 (61%)]\tLoss: 0.340201\n",
      "Train Epoch: 4 [38400/60000 (64%)]\tLoss: 0.144110\n",
      "Train Epoch: 4 [40000/60000 (67%)]\tLoss: 0.357696\n",
      "Train Epoch: 4 [41600/60000 (69%)]\tLoss: 0.139699\n",
      "Train Epoch: 4 [43200/60000 (72%)]\tLoss: 0.030035\n",
      "Train Epoch: 4 [44800/60000 (75%)]\tLoss: 0.136471\n",
      "Train Epoch: 4 [46400/60000 (77%)]\tLoss: 0.169885\n",
      "Train Epoch: 4 [48000/60000 (80%)]\tLoss: 0.265010\n",
      "Train Epoch: 4 [49600/60000 (83%)]\tLoss: 0.179311\n",
      "Train Epoch: 4 [51200/60000 (85%)]\tLoss: 0.060702\n",
      "Train Epoch: 4 [52800/60000 (88%)]\tLoss: 0.209677\n",
      "Train Epoch: 4 [54400/60000 (91%)]\tLoss: 0.069148\n",
      "Train Epoch: 4 [56000/60000 (93%)]\tLoss: 0.287883\n",
      "Train Epoch: 4 [57600/60000 (96%)]\tLoss: 0.077833\n",
      "Train Epoch: 4 [59200/60000 (99%)]\tLoss: 0.246391\n",
      "\n",
      "Test set: Average loss: 0.1867, Accuracy: 9458/10000 (95%)\n",
      "\n",
      "Train Epoch: 5 [0/60000 (0%)]\tLoss: 0.065847\n",
      "Train Epoch: 5 [1600/60000 (3%)]\tLoss: 0.180458\n",
      "Train Epoch: 5 [3200/60000 (5%)]\tLoss: 0.158751\n",
      "Train Epoch: 5 [4800/60000 (8%)]\tLoss: 0.405047\n",
      "Train Epoch: 5 [6400/60000 (11%)]\tLoss: 0.195659\n",
      "Train Epoch: 5 [8000/60000 (13%)]\tLoss: 0.257440\n",
      "Train Epoch: 5 [9600/60000 (16%)]\tLoss: 0.355920\n"
     ]
    },
    {
     "name": "stdout",
     "output_type": "stream",
     "text": [
      "Train Epoch: 5 [11200/60000 (19%)]\tLoss: 0.071013\n",
      "Train Epoch: 5 [12800/60000 (21%)]\tLoss: 0.397074\n",
      "Train Epoch: 5 [14400/60000 (24%)]\tLoss: 0.094892\n",
      "Train Epoch: 5 [16000/60000 (27%)]\tLoss: 0.105214\n",
      "Train Epoch: 5 [17600/60000 (29%)]\tLoss: 0.185680\n",
      "Train Epoch: 5 [19200/60000 (32%)]\tLoss: 0.371011\n",
      "Train Epoch: 5 [20800/60000 (35%)]\tLoss: 0.185564\n",
      "Train Epoch: 5 [22400/60000 (37%)]\tLoss: 0.136829\n",
      "Train Epoch: 5 [24000/60000 (40%)]\tLoss: 0.093076\n",
      "Train Epoch: 5 [25600/60000 (43%)]\tLoss: 0.089156\n",
      "Train Epoch: 5 [27200/60000 (45%)]\tLoss: 0.236428\n",
      "Train Epoch: 5 [28800/60000 (48%)]\tLoss: 0.110313\n",
      "Train Epoch: 5 [30400/60000 (51%)]\tLoss: 0.056911\n",
      "Train Epoch: 5 [32000/60000 (53%)]\tLoss: 0.170126\n",
      "Train Epoch: 5 [33600/60000 (56%)]\tLoss: 0.096803\n",
      "Train Epoch: 5 [35200/60000 (59%)]\tLoss: 0.123637\n",
      "Train Epoch: 5 [36800/60000 (61%)]\tLoss: 0.157834\n",
      "Train Epoch: 5 [38400/60000 (64%)]\tLoss: 0.338008\n",
      "Train Epoch: 5 [40000/60000 (67%)]\tLoss: 0.146575\n",
      "Train Epoch: 5 [41600/60000 (69%)]\tLoss: 0.166716\n",
      "Train Epoch: 5 [43200/60000 (72%)]\tLoss: 0.073585\n",
      "Train Epoch: 5 [44800/60000 (75%)]\tLoss: 0.143369\n",
      "Train Epoch: 5 [46400/60000 (77%)]\tLoss: 0.252475\n",
      "Train Epoch: 5 [48000/60000 (80%)]\tLoss: 0.089642\n",
      "Train Epoch: 5 [49600/60000 (83%)]\tLoss: 0.138645\n",
      "Train Epoch: 5 [51200/60000 (85%)]\tLoss: 0.135058\n",
      "Train Epoch: 5 [52800/60000 (88%)]\tLoss: 0.179792\n",
      "Train Epoch: 5 [54400/60000 (91%)]\tLoss: 0.443392\n",
      "Train Epoch: 5 [56000/60000 (93%)]\tLoss: 0.156069\n",
      "Train Epoch: 5 [57600/60000 (96%)]\tLoss: 0.176011\n",
      "Train Epoch: 5 [59200/60000 (99%)]\tLoss: 0.082773\n",
      "\n",
      "Test set: Average loss: 0.1694, Accuracy: 9502/10000 (95%)\n",
      "\n"
     ]
    }
   ],
   "source": [
    "# Define the model\n",
    "class Net(nn.Module):\n",
    "    def __init__(self):\n",
    "        super(Net, self).__init__()\n",
    "        self.conv1 = nn.Conv2d(in_channels = 1, out_channels = 32, kernel_size = 3, padding = 1)\n",
    "        self.conv2 = nn.Conv2d(in_channels = 32, out_channels = 64, kernel_size = 3, padding = 1)\n",
    "        self.fc1 = nn.Linear(in_features = 64 * 14 * 14 , out_features = 128)\n",
    "        self.fc2 = nn.Linear(in_features = 128, out_features = 10)\n",
    "\n",
    "    def forward(self, x):\n",
    "        x = self.conv1(x)\n",
    "        x = F.relu(x)\n",
    "        x = self.conv2(x)\n",
    "        x = F.relu(x)\n",
    "        x = F.max_pool2d(x, 2)\n",
    "        x = torch.flatten(x, 1)\n",
    "        x = self.fc1(x)\n",
    "        x = F.relu(x)\n",
    "        x = self.fc2(x)\n",
    "        output = F.log_softmax(x, dim=1)\n",
    "        return output\n",
    "\n",
    "#define training function\n",
    "def train(model, device, train_loader, optimizer, epoch):\n",
    "    model.train()\n",
    "    for batch_idx, (data, target) in enumerate(train_loader):\n",
    "        data, target = data.to(device), target.to(device)\n",
    "        optimizer.zero_grad()\n",
    "        output = model(data)\n",
    "        loss = F.nll_loss(output, target)\n",
    "        loss.backward()\n",
    "        optimizer.step()\n",
    "        if batch_idx % 50 == 0:\n",
    "            print('Train Epoch: {} [{}/{} ({:.0f}%)]\\tLoss: {:.6f}'.format(\n",
    "                epoch, batch_idx * len(data), len(train_loader.dataset),\n",
    "                100. * batch_idx / len(train_loader), loss.item()))\n",
    "            \n",
    "# Define test funcion\n",
    "def test(model, device, test_loader):\n",
    "    model.eval()\n",
    "    test_loss = 0\n",
    "    correct = 0\n",
    "    with torch.no_grad():\n",
    "        for data, target in test_loader:\n",
    "            data, target = data.to(device), target.to(device)\n",
    "            output = model(data)\n",
    "            test_loss += F.nll_loss(output, target, reduction='sum').item()  # sum up batch loss\n",
    "            pred = output.argmax(dim=1, keepdim=True)  # get the index of the max log-probability\n",
    "            correct += pred.eq(target.view_as(pred)).sum().item()\n",
    "\n",
    "    test_loss /= len(test_loader.dataset)\n",
    "\n",
    "    print('\\nTest set: Average loss: {:.4f}, Accuracy: {}/{} ({:.0f}%)\\n'.format(\n",
    "        test_loss, correct, len(test_loader.dataset),\n",
    "        100. * correct / len(test_loader.dataset)))\n",
    "\n",
    "# Driver class\n",
    "\n",
    "batch_size = 32 \n",
    "use_cuda = 'cuda' if torch.cuda.is_available() else 'cpu'\n",
    "num_epoch = 5\n",
    "\n",
    "if use_cuda:\n",
    "    device = torch.device(\"cuda\")\n",
    "elif use_mps:\n",
    "    device = torch.device(\"mps\")\n",
    "else:\n",
    "    device = torch.device(\"cpu\")\n",
    "\n",
    "train_kwargs = {'batch_size': batch_size}\n",
    "test_kwargs = {'batch_size': batch_size}\n",
    "\n",
    "\n",
    "\n",
    "if use_cuda:\n",
    "    cuda_kwargs = {'num_workers': 1,\n",
    "                   'pin_memory': True,\n",
    "                   'shuffle': True}\n",
    "    train_kwargs.update(cuda_kwargs)\n",
    "    test_kwargs.update(cuda_kwargs)\n",
    "\n",
    "transform=transforms.Compose([\n",
    "    transforms.ToTensor(),\n",
    "    transforms.Normalize((0.1307,), (0.3081,))\n",
    "    ])\n",
    "\n",
    "dataset1 = datasets.MNIST('../data', train=True, download=True,\n",
    "                   transform=transform)\n",
    "dataset2 = datasets.MNIST('../data', train=False,\n",
    "                   transform=transform)\n",
    "\n",
    "train_loader = torch.utils.data.DataLoader(dataset1,batch_size=batch_size, \n",
    "                      shuffle=True)\n",
    "test_loader = torch.utils.data.DataLoader(dataset2, batch_size=batch_size, \n",
    "                      shuffle=False)\n",
    "\n",
    "model = Net().to(device)\n",
    "optimizer = optim.SGD(model.parameters(), lr=0.001)\n",
    "\n",
    "for epoch in range(1, num_epoch + 1):\n",
    "    train(model, device, train_loader, optimizer, epoch)\n",
    "    test(model, device, test_loader)\n",
    "\n",
    "    if num_epoch % 5 == 0:\n",
    "        torch.save(model.state_dict(), \"mnist_cnn.pt\")\n"
   ]
  },
  {
   "cell_type": "code",
   "execution_count": 12,
   "id": "805abd67",
   "metadata": {
    "scrolled": true
   },
   "outputs": [
    {
     "name": "stdout",
     "output_type": "stream",
     "text": [
      "Net(\n",
      "  (conv1): Conv2d(1, 32, kernel_size=(3, 3), stride=(1, 1), padding=(1, 1))\n",
      "  (conv2): Conv2d(32, 64, kernel_size=(3, 3), stride=(1, 1), padding=(1, 1))\n",
      "  (fc1): Linear(in_features=12544, out_features=128, bias=True)\n",
      "  (fc2): Linear(in_features=128, out_features=10, bias=True)\n",
      ")\n"
     ]
    }
   ],
   "source": [
    "print(model)"
   ]
  },
  {
   "cell_type": "code",
   "execution_count": 13,
   "id": "cc5804f5",
   "metadata": {},
   "outputs": [
    {
     "name": "stdout",
     "output_type": "stream",
     "text": [
      "Image batch dimensions: torch.Size([32, 1, 28, 28])\n",
      "Image label dimensions: torch.Size([32])\n"
     ]
    }
   ],
   "source": [
    "# Checking the dataset\n",
    "for images, labels in train_loader:  \n",
    "    print('Image batch dimensions:', images.shape)\n",
    "    print('Image label dimensions:', labels.shape)\n",
    "    break"
   ]
  },
  {
   "cell_type": "code",
   "execution_count": 14,
   "id": "82671f8b",
   "metadata": {},
   "outputs": [
    {
     "name": "stdout",
     "output_type": "stream",
     "text": [
      "tensor([5, 3, 8, 9, 0, 5, 8, 3, 0, 1, 7, 9, 1, 2, 2, 1, 2, 0, 4, 9, 3, 8, 7, 0,\n",
      "        8, 0, 0, 0, 1, 6, 4, 1])\n"
     ]
    }
   ],
   "source": [
    "#check labels\n",
    "\n",
    "print(labels)"
   ]
  },
  {
   "cell_type": "code",
   "execution_count": 15,
   "id": "146e71af",
   "metadata": {},
   "outputs": [
    {
     "data": {
      "image/png": "[encoded data removed]",
      "text/plain": [
       "<Figure size 640x480 with 1 Axes>"
      ]
     },
     "metadata": {},
     "output_type": "display_data"
    }
   ],
   "source": [
    "import torch\n",
    "import torch.nn as nn\n",
    "import torchvision.transforms as transforms\n",
    "from PIL import Image\n",
    "\n",
    "# Test the model on a single input\n",
    "model.eval()\n",
    "# Load and preprocess the image\n",
    "image_path = '/home/mustafa/Downloads/hand.jpg'  # Replace with the path to your grayscale image\n",
    "image = Image.open(image_path)\n",
    "transform = transforms.Compose([\n",
    "    transforms.Resize((28, 28)),  # Resize to 28x28\n",
    "    transforms.Grayscale(num_output_channels=1),  # Ensure it's grayscale\n",
    "    transforms.ToTensor(),\n",
    "    transforms.Normalize(mean=[0.5], std=[0.5])  # Normalize the image\n",
    "])\n",
    "image = transform(image).to(device)\n",
    "image = image.unsqueeze(0)  # Add batch dimension\n",
    "\n",
    "# Perform inference\n",
    "with torch.no_grad():\n",
    "    output = model(image)\n",
    "\n",
    "# Interpret the model's output (e.g., classification or regression)\n",
    "# Replace this part with your specific task (e.g., softmax for classification)\n",
    "predicted_class = torch.argmax(output, dim=1).item()\n",
    "\n",
    "# Define a function to display the image and label\n",
    "def show_image_with_label(image, label):\n",
    "    image = image.squeeze(0).squeeze(0)  # Remove the batch dimension\n",
    "    plt.imshow(image.cpu().numpy(), cmap='gray')\n",
    "    plt.title(f\"Predicted Label: {label}\")\n",
    "    plt.axis('off')\n",
    "    plt.show()\n",
    "\n",
    "# Display the image with the predicted label\n",
    "show_image_with_label(image, predicted_class)\n"
   ]
  },
  {
   "cell_type": "markdown",
   "id": "fe85c366",
   "metadata": {},
   "source": [
    "## Calculating Total Number of Parameters in a CNN Architecture\n",
    "\n",
    "To calculate the total number of parameters in a Convolutional Neural Network (CNN) architecture in PyTorch, you can iterate through all the trainable parameters of the network and count the number of elements in each parameter. The total number of parameters will be the sum of all these counts.\n",
    "\n",
    "Here's the code to calculate the total number of parameters in a given CNN architecture:\n",
    "\n"
   ]
  },
  {
   "cell_type": "code",
   "execution_count": 16,
   "id": "b8b512da",
   "metadata": {},
   "outputs": [
    {
     "name": "stdout",
     "output_type": "stream",
     "text": [
      "Layer: conv1.weight, Parameters: 432\n",
      "Layer: conv1.bias, Parameters: 16\n",
      "Layer: conv2.weight, Parameters: 4608\n",
      "Layer: conv2.bias, Parameters: 32\n",
      "Layer: fc1.weight, Parameters: 262144\n",
      "Layer: fc1.bias, Parameters: 128\n",
      "Layer: fc2.weight, Parameters: 1280\n",
      "Layer: fc2.bias, Parameters: 10\n",
      "Total Number of Parameters: 268650\n"
     ]
    }
   ],
   "source": [
    "import torch\n",
    "import torch.nn as nn\n",
    "\n",
    "# Define your CNN architecture\n",
    "class SimpleCNN(nn.Module):\n",
    "    def __init__(self):\n",
    "        super(SimpleCNN, self).__init__()\n",
    "        self.conv1 = nn.Conv2d(3, 16, 3, padding=1)\n",
    "        self.conv2 = nn.Conv2d(16, 32, 3, padding=1)\n",
    "        self.pool = nn.MaxPool2d(2, 2)\n",
    "        self.fc1 = nn.Linear(32 * 8 * 8, 128)\n",
    "        self.fc2 = nn.Linear(128, 10)\n",
    "\n",
    "    def forward(self, x):\n",
    "        x = self.pool(nn.functional.relu(self.conv1(x)))\n",
    "        x = self.pool(nn.functional.relu(self.conv2(x)))\n",
    "        x = x.view(-1, 32 * 8 * 8)\n",
    "        x = nn.functional.relu(self.fc1(x))\n",
    "        x = self.fc2(x)\n",
    "        return x\n",
    "\n",
    "# Create an instance of the CNN\n",
    "net = SimpleCNN()\n",
    "\n",
    "# Calculate the total number of parameters layer by layer\n",
    "for name, param in net.named_parameters():\n",
    "    if param.requires_grad:\n",
    "        print(f\"Layer: {name}, Parameters: {param.numel()}\")\n",
    "\n",
    "print(\"Total Number of Parameters:\", sum(p.numel() for p in net.parameters() if p.requires_grad))"
   ]
  },
  {
   "cell_type": "markdown",
   "id": "90107320",
   "metadata": {},
   "source": [
    "#### we use net.named_parameters() to get an iterator over all the parameters in the network along with their corresponding names. We then iterate through these parameters and print the name of the layer along with the number of parameters in that layer. Finally, we print the total number of trainable parameters in the entire network.\n",
    "\n",
    "#### When you run this code, it will display the parameter counts for each layer and the total number of parameters in the CNN architecture."
   ]
  },
  {
   "cell_type": "code",
   "execution_count": null,
   "id": "90f4bc44",
   "metadata": {},
   "outputs": [],
   "source": []
  }
 ],
 "metadata": {
  "kernelspec": {
   "display_name": "Python 3 (ipykernel)",
   "language": "python",
   "name": "python3"
  },
  "language_info": {
   "codemirror_mode": {
    "name": "ipython",
    "version": 3
   },
   "file_extension": ".py",
   "mimetype": "text/x-python",
   "name": "python",
   "nbconvert_exporter": "python",
   "pygments_lexer": "ipython3",
   "version": "3.10.9"
  }
 },
 "nbformat": 4,
 "nbformat_minor": 5
}
