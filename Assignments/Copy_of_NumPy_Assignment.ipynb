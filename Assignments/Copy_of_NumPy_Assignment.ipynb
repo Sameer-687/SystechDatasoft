{
  "cells": [
    {
      "cell_type": "markdown",
      "id": "4f1a4682",
      "metadata": {
        "id": "4f1a4682"
      },
      "source": [
        "## NumPy Assignment\n",
        "These assignments involve common tasks encountered in data analysis, finance, and image processing, where NumPy can be applied to efficiently manipulate and analyze data. They require intermediate knowledge of NumPy functions such as sum, mean, nanmean, std, reshape, and dot product, among others.\n",
        "\n",
        "Remember to consult the NumPy documentation and other resources for detailed explanations of the functions and concepts involved in these assignments."
      ]
    },
    {
      "cell_type": "markdown",
      "id": "27f8c731",
      "metadata": {
        "id": "27f8c731"
      },
      "source": [
        "### Assignment 1: Sales Analysis\n",
        "You are given an array representing the daily sales of a product for a week. Your task is to find the total sales for the week and calculate the average daily sales.\n",
        "\n",
        "**Data:** An array representing the daily sales of a product for a week.\n",
        "\n",
        "```python\n",
        "sales = np.array([50, 45, 55, 60, 48, 52, 58])\n",
        "```"
      ]
    },
    {
      "cell_type": "code",
      "execution_count": 1,
      "id": "9a3997a3",
      "metadata": {},
      "outputs": [],
      "source": [
        "import numpy as np"
      ]
    },
    {
      "cell_type": "code",
      "execution_count": 7,
      "id": "7c712b86",
      "metadata": {},
      "outputs": [
        {
          "name": "stdout",
          "output_type": "stream",
          "text": [
            "Total sales: 368\n",
            "Average sales: 52.57142857142857\n"
          ]
        }
      ],
      "source": [
        "sales = np.array([50, 45, 55, 60, 48, 52, 58])\n",
        "print(f\"Total sales: {np.sum(sales)}\")\n",
        "print(f\"Average sales: {np.average(sales)}\")"
      ]
    },
    {
      "cell_type": "markdown",
      "id": "4f39a0ab",
      "metadata": {
        "id": "4f39a0ab"
      },
      "source": [
        "### Assignment 2: Data Cleaning\n",
        "You have a dataset containing customer ratings for various products. However, some ratings are missing **`(NaN values)`**. Your task is to replace all the missing ratings with the mean rating for each product.\n",
        "\n",
        "**Data:** A dataset containing customer ratings for various products with missing values (NaN).\n",
        "\n",
        "```python\n",
        "ratings = np.array([3.5, 4.2, 2.8, np.nan, 3.9, np.nan, 4.5, 3.2, 3.7])\n",
        "```"
      ]
    },
    {
      "cell_type": "code",
      "execution_count": 19,
      "id": "370c2691",
      "metadata": {},
      "outputs": [
        {
          "name": "stdout",
          "output_type": "stream",
          "text": [
            "[3.5        4.2        2.8        3.68571429 3.9        3.68571429\n",
            " 4.5        3.2        3.7       ]\n"
          ]
        }
      ],
      "source": [
        "ratings = np.array([3.5, 4.2, 2.8, np.nan, 3.9, np.nan, 4.5, 3.2, 3.7])\n",
        "#print(np.nanmean(ratings))\n",
        "#print(np.isnan(ratings))\n",
        "ratings=np.where(np.isnan(ratings),np.nanmean(ratings),ratings)\n",
        "print(ratings)"
      ]
    },
    {
      "cell_type": "markdown",
      "id": "acfff7eb",
      "metadata": {
        "id": "acfff7eb"
      },
      "source": [
        "### Assignment 3: Image Processing\n",
        "You are working on an image processing project and need to apply a grayscale filter to an RGB image. Convert the RGB image into a grayscale image using numpy arrays and the appropriate color channel weights **`(e.g., 0.2989 * Red + 0.5870 * Green + 0.1140 * Blue)`**.\n",
        "\n",
        "**Data:** An RGB image represented as a 3D numpy array with shape **`(height, width, 3)`**, where the third dimension represents the Red, Green, and Blue color channels.\n",
        "\n",
        "```python\n",
        "image = np.array([[[255, 0, 0], [0, 255, 0], [0, 0, 255]],\n",
        "                  [[127, 127, 127], [255, 255, 255], [0, 0, 0]],\n",
        "                  [[100, 200, 50], [150, 75, 200], [25, 125, 75]]], dtype=np.uint8)\n",
        "```\n",
        "\n",
        "**`Output will be:`**\n",
        "```lua\n",
        "[[  76.197  76.197  76.197]\n",
        " [ 166.595 166.595 166.595]\n",
        " [ 148.293 148.293 148.293]]\n",
        " ```"
      ]
    },
    {
      "cell_type": "code",
      "execution_count": 37,
      "id": "e48e0e3d",
      "metadata": {},
      "outputs": [
        {
          "name": "stdout",
          "output_type": "stream",
          "text": [
            "[[ 0.     0.    29.07 ]\n",
            " [14.478 29.07   0.   ]\n",
            " [ 5.7   22.8    8.55 ]]\n",
            "\n",
            "[[  0.    149.685   0.   ]\n",
            " [ 74.549 149.685   0.   ]\n",
            " [117.4    44.025  73.375]]\n",
            "\n",
            "[[76.2195  0.      0.    ]\n",
            " [37.9603 76.2195  0.    ]\n",
            " [29.89   44.835   7.4725]]\n"
          ]
        }
      ],
      "source": [
        "image = np.array([[[255, 0, 0], [0, 255, 0], [0, 0, 255]],\n",
        "                  [[127, 127, 127], [255, 255, 255], [0, 0, 0]],\n",
        "                  [[100, 200, 50], [150, 75, 200], [25, 125, 75]]], dtype=np.uint8)\n",
        "print(image[:,:,2]*0.1140)\n",
        "print(\"\")\n",
        "print(image[:,:,1]*0.5870)\n",
        "print(\"\")\n",
        "print(image[:,:,0]*0.2989)\n"
      ]
    },
    {
      "cell_type": "markdown",
      "id": "5c12e866",
      "metadata": {
        "id": "5c12e866"
      },
      "source": [
        "### Assignment 4: Images Data Manupulation\n",
        "You are given an image of shape **`(1000,667,3)`**. Perform the following task:\n",
        "   - convert the images to a numpy array\n",
        "   - Expand the dimension of image array to **`(1,1000,67,3,1)`**\n",
        "   - Remove all single dimensions from the numpy array     \n",
        "##### Load Image\n",
        "```python\n",
        "from PIL import Image\n",
        "image1 = Image.open(\"images/cat.jpg\")\n",
        "```"
      ]
    },
    {
      "cell_type": "code",
      "execution_count": 42,
      "id": "b39b8f33",
      "metadata": {},
      "outputs": [
        {
          "name": "stdout",
          "output_type": "stream",
          "text": [
            "[[[ 30 153 177]\n",
            "  [153 102 191]\n",
            "  [129  69 135]\n",
            "  ...\n",
            "  [ 39   1  66]\n",
            "  [ 48 217  84]\n",
            "  [247  79  72]]\n",
            "\n",
            " [[ 34  57 238]\n",
            "  [163 104 217]\n",
            "  [ 73 182 170]\n",
            "  ...\n",
            "  [111 131  82]\n",
            "  [193 151 122]\n",
            "  [ 69  77 207]]\n",
            "\n",
            " [[223  93  26]\n",
            "  [121  86 135]\n",
            "  [212 153 142]\n",
            "  ...\n",
            "  [ 48 216 157]\n",
            "  [ 12  45 159]\n",
            "  [161  85 193]]\n",
            "\n",
            " ...\n",
            "\n",
            " [[ 56 149  20]\n",
            "  [ 85 240  15]\n",
            "  [ 61   7 222]\n",
            "  ...\n",
            "  [219 127 223]\n",
            "  [238 247  55]\n",
            "  [234 110  85]]\n",
            "\n",
            " [[ 49 149 238]\n",
            "  [251  57 232]\n",
            "  [255 224  47]\n",
            "  ...\n",
            "  [249  69   4]\n",
            "  [117  93 116]\n",
            "  [162  89 192]]\n",
            "\n",
            " [[ 21  49  26]\n",
            "  [114 199 203]\n",
            "  [156 136 223]\n",
            "  ...\n",
            "  [223  34  23]\n",
            "  [231 220 231]\n",
            "  [161  79  73]]]\n"
          ]
        }
      ],
      "source": [
        "image = np.random.randint(0, 256, size=(1000, 667, 3), dtype=np.uint8)\n",
        "#print(image)\n",
        "image_array = np.array(image)\n",
        "print(image_array)"
      ]
    }
  ],
  "metadata": {
    "colab": {
      "provenance": []
    },
    "kernelspec": {
      "display_name": "Python 3 (ipykernel)",
      "language": "python",
      "name": "python3"
    },
    "language_info": {
      "codemirror_mode": {
        "name": "ipython",
        "version": 3
      },
      "file_extension": ".py",
      "mimetype": "text/x-python",
      "name": "python",
      "nbconvert_exporter": "python",
      "pygments_lexer": "ipython3",
      "version": "3.11.3"
    }
  },
  "nbformat": 4,
  "nbformat_minor": 5
}
