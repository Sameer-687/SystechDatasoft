{
  "cells": [
    {
      "cell_type": "markdown",
      "id": "82fb8e7e",
      "metadata": {
        "id": "82fb8e7e"
      },
      "source": [
        "### Task 1: Vehicle Inheritance"
      ]
    },
    {
      "cell_type": "code",
      "execution_count": null,
      "id": "5b80af7a",
      "metadata": {
        "id": "5b80af7a",
        "outputId": "69192af7-3efb-41ba-801a-4367994e71b7"
      },
      "outputs": [
        {
          "name": "stdout",
          "output_type": "stream",
          "text": [
            "Car Information:\n",
            "Manufacturer: Toyota, Model: Camry, Number of Doors: 4\n",
            "\n",
            "Motorcycle Information:\n",
            "Manufacturer: Harley-Davidson, Model: Sportster, Engine Displacement: 1200cc\n"
          ]
        }
      ],
      "source": [
        "class Vehicle:\n",
        "    def __init__(self, manufacturer, model):\n",
        "        self.manufacturer = manufacturer\n",
        "        self.model = model\n",
        "\n",
        "    def get_info(self):\n",
        "        return f\"Manufacturer: {self.manufacturer}, Model: {self.model}\"\n",
        "\n",
        "class Car(Vehicle):\n",
        "    def __init__(self, manufacturer, model, num_doors):\n",
        "        super().__init__(manufacturer, model)\n",
        "        self.num_doors = num_doors\n",
        "\n",
        "    def get_info(self):\n",
        "        return super().get_info() + f\", Number of Doors: {self.num_doors}\"\n",
        "\n",
        "class Motorcycle(Vehicle):\n",
        "    def __init__(self, manufacturer, model, engine_displacement):\n",
        "        super().__init__(manufacturer, model)\n",
        "        self.engine_displacement = engine_displacement\n",
        "\n",
        "    def get_info(self):\n",
        "        return super().get_info() + f\", Engine Displacement: {self.engine_displacement}cc\"\n",
        "\n",
        "# Creating instances\n",
        "car = Car(\"Toyota\", \"Camry\", 4)\n",
        "motorcycle = Motorcycle(\"Harley-Davidson\", \"Sportster\", 1200)\n",
        "\n",
        "# Printing information\n",
        "print(\"Car Information:\")\n",
        "print(car.get_info())\n",
        "\n",
        "print(\"\\nMotorcycle Information:\")\n",
        "print(motorcycle.get_info())"
      ]
    },
    {
      "cell_type": "markdown",
      "id": "f9c3954d",
      "metadata": {
        "id": "f9c3954d"
      },
      "source": [
        "### Task 2: Online Shopping System"
      ]
    },
    {
      "cell_type": "code",
      "execution_count": null,
      "id": "c33a0682",
      "metadata": {
        "id": "c33a0682",
        "outputId": "c913cd59-e82d-4d3c-fe39-a0c49cacc394"
      },
      "outputs": [
        {
          "name": "stdout",
          "output_type": "stream",
          "text": [
            "Total cost: $1500\n"
          ]
        }
      ],
      "source": [
        "class Product:\n",
        "    def __init__(self, name, price, quantity_in_stock):\n",
        "        self.name = name\n",
        "        self.price = price\n",
        "        self.quantity_in_stock = quantity_in_stock\n",
        "\n",
        "class Cart:\n",
        "    def __init__(self):\n",
        "        self.items = []\n",
        "\n",
        "    def add_item(self, product):\n",
        "        self.items.append(product)\n",
        "\n",
        "    def calculate_total(self):\n",
        "        total = sum(item.price for item in self.items)\n",
        "        return total\n",
        "\n",
        "class Customer:\n",
        "    def __init__(self, name, email):\n",
        "        self.name = name\n",
        "        self.email = email\n",
        "        self.cart = Cart()\n",
        "\n",
        "# Usage\n",
        "product1 = Product(\"Laptop\", 1000, 5)\n",
        "product2 = Product(\"Phone\", 500, 10)\n",
        "\n",
        "customer = Customer(\"John\", \"john@example.com\")\n",
        "customer.cart.add_item(product1)\n",
        "customer.cart.add_item(product2)\n",
        "total_cost = customer.cart.calculate_total()\n",
        "print(f\"Total cost: ${total_cost}\")"
      ]
    },
    {
      "cell_type": "markdown",
      "id": "b97e3c9c",
      "metadata": {
        "id": "b97e3c9c"
      },
      "source": [
        "### Task 3: School Grading System"
      ]
    },
    {
      "cell_type": "code",
      "execution_count": null,
      "id": "83ab0f58",
      "metadata": {
        "id": "83ab0f58",
        "outputId": "7614720c-5d06-472e-beb6-2cfd7a679891"
      },
      "outputs": [
        {
          "name": "stdout",
          "output_type": "stream",
          "text": [
            "Bob's average grade: 92.0\n"
          ]
        }
      ],
      "source": [
        "class Student:\n",
        "    def __init__(self, name):\n",
        "        self.name = name\n",
        "        self.grades = {}\n",
        "\n",
        "    def add_grade(self, subject, grade):\n",
        "        self.grades[subject] = grade\n",
        "\n",
        "    def calculate_average_grade(self):\n",
        "        if not self.grades:\n",
        "            return 0\n",
        "        average = sum(self.grades.values()) / len(self.grades)\n",
        "        return average\n",
        "\n",
        "class Course:\n",
        "    def __init__(self, course_name, instructor):\n",
        "        self.course_name = course_name\n",
        "        self.instructor = instructor\n",
        "        self.students_enrolled = []\n",
        "\n",
        "    def enroll_student(self, student):\n",
        "        self.students_enrolled.append(student)\n",
        "\n",
        "# Usage\n",
        "student1 = Student(\"Alice\")\n",
        "student2 = Student(\"Bob\")\n",
        "math_course = Course(\"Math\", \"Professor Smith\")\n",
        "\n",
        "student1.add_grade(\"Math\", 85)\n",
        "student2.add_grade(\"Math\", 92)\n",
        "\n",
        "math_course.enroll_student(student1)\n",
        "math_course.enroll_student(student2)\n",
        "\n",
        "average_grade = student2.calculate_average_grade()\n",
        "print(f\"{student2.name}'s average grade: {average_grade}\")"
      ]
    },
    {
      "cell_type": "markdown",
      "id": "9e10d459",
      "metadata": {
        "id": "9e10d459"
      },
      "source": [
        "### Task 4: Online Banking System"
      ]
    },
    {
      "cell_type": "code",
      "execution_count": null,
      "id": "4db77be9",
      "metadata": {
        "id": "4db77be9",
        "outputId": "3578b9b5-967f-431a-b3b2-1cf981b514fc"
      },
      "outputs": [
        {
          "name": "stdout",
          "output_type": "stream",
          "text": [
            "Account Number: 123456, Balance: $1000\n",
            "Deposited $500. New balance: $1500\n",
            "Withdrew $200. New balance: $1300\n",
            "Added interest: $32.5. New balance: $1332.5\n"
          ]
        }
      ],
      "source": [
        "class BankAccount:\n",
        "    def __init__(self, account_number, account_holder, initial_balance):\n",
        "        self.__account_number = account_number\n",
        "        self.__account_holder = account_holder\n",
        "        self.__balance = initial_balance\n",
        "\n",
        "    def deposit(self, amount):\n",
        "        self.__balance += amount\n",
        "        return f\"Deposited ${amount}. New balance: ${self.__balance}\"\n",
        "\n",
        "    def withdraw(self, amount):\n",
        "        if self.__balance >= amount:\n",
        "            self.__balance -= amount\n",
        "            return f\"Withdrew ${amount}. New balance: ${self.__balance}\"\n",
        "        else:\n",
        "            return \"Insufficient funds.\"\n",
        "\n",
        "    def get_balance(self):\n",
        "        return self.__balance\n",
        "\n",
        "    def __str__(self):\n",
        "        return f\"Account Number: {self.__account_number}, Balance: ${self.__balance}\"\n",
        "\n",
        "class SavingsAccount(BankAccount):\n",
        "    def __init__(self, account_number, account_holder, initial_balance, interest_rate):\n",
        "        super().__init__(account_number, account_holder, initial_balance)\n",
        "        self.__interest_rate = interest_rate\n",
        "\n",
        "    def add_interest(self):\n",
        "        interest = self.get_balance() * (self.__interest_rate / 100)\n",
        "        self.deposit(interest)\n",
        "        return f\"Added interest: ${interest}. New balance: ${self.get_balance()}\"\n",
        "\n",
        "# Usage\n",
        "savings_account = SavingsAccount(\"123456\", \"Alice\", 1000, 2.5)\n",
        "\n",
        "print(savings_account)\n",
        "print(savings_account.deposit(500))\n",
        "print(savings_account.withdraw(200))\n",
        "print(savings_account.add_interest())"
      ]
    },
    {
      "cell_type": "code",
      "execution_count": null,
      "id": "bf2036e4",
      "metadata": {
        "id": "bf2036e4"
      },
      "outputs": [],
      "source": []
    }
  ],
  "metadata": {
    "kernelspec": {
      "display_name": "Python 3 (ipykernel)",
      "language": "python",
      "name": "python3"
    },
    "language_info": {
      "codemirror_mode": {
        "name": "ipython",
        "version": 3
      },
      "file_extension": ".py",
      "mimetype": "text/x-python",
      "name": "python",
      "nbconvert_exporter": "python",
      "pygments_lexer": "ipython3",
      "version": "3.8.16"
    },
    "colab": {
      "provenance": []
    }
  },
  "nbformat": 4,
  "nbformat_minor": 5
}