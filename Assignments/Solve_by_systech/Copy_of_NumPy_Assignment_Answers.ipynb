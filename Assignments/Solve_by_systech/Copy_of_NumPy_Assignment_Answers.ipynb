{
  "cells": [
    {
      "cell_type": "markdown",
      "id": "4f1a4682",
      "metadata": {
        "id": "4f1a4682"
      },
      "source": [
        "## NumPy Assignment\n",
        "These assignments involve common tasks encountered in data analysis, finance, and image processing, where NumPy can be applied to efficiently manipulate and analyze data. They require intermediate knowledge of NumPy functions such as sum, mean, nanmean, std, reshape, and dot product, among others.\n",
        "\n",
        "Remember to consult the NumPy documentation and other resources for detailed explanations of the functions and concepts involved in these assignments."
      ]
    },
    {
      "cell_type": "markdown",
      "id": "27f8c731",
      "metadata": {
        "id": "27f8c731"
      },
      "source": [
        "### Assignment 1: Sales Analysis\n",
        "You are given an array representing the daily sales of a product for a week. Your task is to find the total sales for the week and calculate the average daily sales.\n",
        "\n",
        "**Data:** An array representing the daily sales of a product for a week.\n",
        "\n",
        "```python\n",
        "sales = np.array([50, 45, 55, 60, 48, 52, 58])\n",
        "```"
      ]
    },
    {
      "cell_type": "code",
      "execution_count": null,
      "id": "363d1231",
      "metadata": {
        "id": "363d1231",
        "outputId": "d96069d6-cf24-4e1f-9c82-2a1e62f30fd6"
      },
      "outputs": [
        {
          "name": "stdout",
          "output_type": "stream",
          "text": [
            "Total sales for the week: 368\n",
            "Average daily sales: 52.57142857142857\n"
          ]
        }
      ],
      "source": [
        "import numpy as np\n",
        "\n",
        "sales = np.array([50, 45, 55, 60, 48, 52, 58])\n",
        "\n",
        "# Calculate total sales for the week\n",
        "total_sales = np.sum(sales)\n",
        "\n",
        "# Calculate average daily sales\n",
        "average_daily_sales = total_sales / len(sales)\n",
        "\n",
        "print(\"Total sales for the week:\", total_sales)\n",
        "print(\"Average daily sales:\", average_daily_sales)"
      ]
    },
    {
      "cell_type": "markdown",
      "id": "c781a5c9",
      "metadata": {
        "id": "c781a5c9"
      },
      "source": [
        "This code first imports the NumPy library, then calculates the total **sales** by summing up all the elements in the sales array using **`np.sum()`**. Next, it calculates the average daily sales by dividing the total sales by the number of days in the week (length of the sales array). Finally, it prints the results."
      ]
    },
    {
      "cell_type": "markdown",
      "id": "4f39a0ab",
      "metadata": {
        "id": "4f39a0ab"
      },
      "source": [
        "### Assignment 2: Data Cleaning\n",
        "You have a dataset containing customer ratings for various products. However, some ratings are missing **`(NaN values)`**. Your task is to replace all the missing ratings with the mean rating for each product.\n",
        "\n",
        "**Data:** A dataset containing customer ratings for various products with missing values (NaN).\n",
        "\n",
        "```python\n",
        "ratings = np.array([3.5, 4.2, 2.8, np.nan, 3.9, np.nan, 4.5, 3.2, 3.7])\n",
        "```"
      ]
    },
    {
      "cell_type": "code",
      "execution_count": null,
      "id": "5593c311",
      "metadata": {
        "id": "5593c311",
        "outputId": "e8f90be2-c9b2-4878-a378-501be8841fb3"
      },
      "outputs": [
        {
          "name": "stdout",
          "output_type": "stream",
          "text": [
            "[3.5        4.2        2.8        3.68571429 3.9        3.68571429\n",
            " 4.5        3.2        3.7       ]\n"
          ]
        }
      ],
      "source": [
        "import numpy as np\n",
        "\n",
        "ratings = np.array([3.5, 4.2, 2.8, np.nan, 3.9, np.nan, 4.5, 3.2, 3.7])\n",
        "\n",
        "# Calculate the mean rating for non-missing values\n",
        "mean_rating = np.nanmean(ratings)\n",
        "\n",
        "ratings[np.isnan(ratings)] = mean_rating\n",
        "\n",
        "print(ratings)"
      ]
    },
    {
      "cell_type": "markdown",
      "id": "e9dfb8b5",
      "metadata": {
        "id": "e9dfb8b5"
      },
      "source": [
        "- We calculate the **mean rating** using **`np.nanmean(ratings)`**, which calculates the mean while ignoring NaN values.\n",
        "\n",
        "- We use **`np.isnan(ratings)`** to create a boolean mask for the **NaN** values in the ratings array.\n",
        "\n",
        "- We then use this mask to replace the **NaN** values with the mean rating by assigning **`mean_rating`** to the corresponding positions in the ratings array."
      ]
    },
    {
      "cell_type": "markdown",
      "id": "acfff7eb",
      "metadata": {
        "id": "acfff7eb"
      },
      "source": [
        "### Assignment 3: Image Processing\n",
        "You are working on an image processing project and need to apply a grayscale filter to an RGB image. Convert the RGB image into a grayscale image using numpy arrays and the appropriate color channel weights **`(e.g., 0.2989 * Red + 0.5870 * Green + 0.1140 * Blue)`**.\n",
        "\n",
        "**Data:** An RGB image represented as a 3D numpy array with shape **`(height, width, 3)`**, where the third dimension represents the Red, Green, and Blue color channels.\n",
        "\n",
        "```python\n",
        "image = np.array([[[255, 0, 0], [0, 255, 0], [0, 0, 255]],\n",
        "                  [[127, 127, 127], [255, 255, 255], [0, 0, 0]],\n",
        "                  [[100, 200, 50], [150, 75, 200], [25, 125, 75]]], dtype=np.uint8)\n",
        "```\n",
        "\n",
        "**`Output will be:`**\n",
        "```lua\n",
        "[[ 76.2195 149.685   29.07  ]\n",
        " [126.9873 254.9745   0.    ]\n",
        " [152.99   111.66    89.3975]]\n",
        " ```"
      ]
    },
    {
      "cell_type": "code",
      "execution_count": null,
      "id": "1098f4ac",
      "metadata": {
        "id": "1098f4ac",
        "outputId": "7d61d435-2b55-4a0e-c1ec-43751ee27f09"
      },
      "outputs": [
        {
          "name": "stdout",
          "output_type": "stream",
          "text": [
            "[[ 76.2195 149.685   29.07  ]\n",
            " [126.9873 254.9745   0.    ]\n",
            " [152.99   111.66    89.3975]]\n"
          ]
        }
      ],
      "source": [
        "import numpy as np\n",
        "\n",
        "# Define the RGB image\n",
        "image = np.array([[[255, 0, 0], [0, 255, 0], [0, 0, 255]],\n",
        "                  [[127, 127, 127], [255, 255, 255], [0, 0, 0]],\n",
        "                  [[100, 200, 50], [150, 75, 200], [25, 125, 75]]], dtype=np.uint8)\n",
        "\n",
        "# color channel weights\n",
        "red_weight = 0.2989\n",
        "green_weight = 0.5870\n",
        "blue_weight = 0.1140\n",
        "\n",
        "# Calculate the grayscale image using the specified weights\n",
        "grayscale_image = red_weight * image[:, :, 0] + green_weight * image[:, :, 1] + blue_weight * image[:, :, 2]\n",
        "\n",
        "# Or you can just dot multiply the image with weights\n",
        "# grayscale_image = np.dot(image, [red_weight, green_weight, blue_weight])\n",
        "\n",
        "print(grayscale_image)"
      ]
    },
    {
      "cell_type": "markdown",
      "id": "5c12e866",
      "metadata": {
        "id": "5c12e866"
      },
      "source": [
        "### Assignment 4: Images Data Manupulation\n",
        "You are given an image of shape **`(1000,667,3)`**. Perform the following task:\n",
        "   - convert the images to a numpy array\n",
        "   - Expand the dimension of image array to **`(1,1000,67,3,1)`**\n",
        "   - Remove all single dimensions from the numpy array     \n",
        "##### Load Image\n",
        "```python\n",
        "from PIL import Image\n",
        "image1 = Image.open(\"images/cat.jpg\")\n",
        "```"
      ]
    },
    {
      "cell_type": "code",
      "execution_count": null,
      "id": "b6dc3c8c",
      "metadata": {
        "id": "b6dc3c8c",
        "outputId": "268235e1-8d7a-445a-c6c8-71a67fd66b52"
      },
      "outputs": [
        {
          "name": "stdout",
          "output_type": "stream",
          "text": [
            "(1000, 667, 3)\n"
          ]
        }
      ],
      "source": [
        "from PIL import Image\n",
        "import numpy as np\n",
        "\n",
        "# Load the image\n",
        "image1 = Image.open(\"images/cat.jpg\")\n",
        "\n",
        "# Convert the image to a NumPy array\n",
        "image_array = np.array(image1)\n",
        "\n",
        "# Expand the dimensions of the image array\n",
        "expanded_image_array = np.expand_dims(image_array, axis=(0, 4))\n",
        "\n",
        "# Remove all single dimensions from the numpy array\n",
        "final_image_array = np.squeeze(expanded_image_array)\n",
        "\n",
        "print(final_image_array.shape)"
      ]
    }
  ],
  "metadata": {
    "kernelspec": {
      "display_name": "Python 3 (ipykernel)",
      "language": "python",
      "name": "python3"
    },
    "language_info": {
      "codemirror_mode": {
        "name": "ipython",
        "version": 3
      },
      "file_extension": ".py",
      "mimetype": "text/x-python",
      "name": "python",
      "nbconvert_exporter": "python",
      "pygments_lexer": "ipython3",
      "version": "3.8.16"
    },
    "colab": {
      "provenance": []
    }
  },
  "nbformat": 4,
  "nbformat_minor": 5
}