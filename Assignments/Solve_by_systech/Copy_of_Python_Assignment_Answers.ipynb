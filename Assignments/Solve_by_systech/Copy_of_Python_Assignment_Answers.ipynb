{
  "cells": [
    {
      "cell_type": "markdown",
      "id": "f81645a2",
      "metadata": {
        "id": "f81645a2"
      },
      "source": [
        "# Assignment 1"
      ]
    },
    {
      "cell_type": "markdown",
      "id": "05b95ffe",
      "metadata": {
        "id": "05b95ffe"
      },
      "source": [
        "### Task 1: Online Store"
      ]
    },
    {
      "cell_type": "code",
      "execution_count": null,
      "id": "261187b0",
      "metadata": {
        "id": "261187b0",
        "outputId": "64cc2bdc-24eb-4ead-b0a7-cf4042d8d830"
      },
      "outputs": [
        {
          "name": "stdout",
          "output_type": "stream",
          "text": [
            "Enter the price of item 1: 20\n",
            "Enter the quantity of item 1: 2\n",
            "Enter the price of item 2: 50\n",
            "Enter the quantity of item 2: 1\n",
            "Enter the price of item 3: 10\n",
            "Enter the quantity of item 3: 2\n",
            "The final amount to be paid by the customer is: 99.00 BDT\n"
          ]
        }
      ],
      "source": [
        "def calculate_total_price():\n",
        "    total = 0\n",
        "\n",
        "    for i in range(3):\n",
        "        price = float(input(\"Enter the price of item {}: \".format(i+1)))\n",
        "        quantity = int(input(\"Enter the quantity of item {}: \".format(i+1)))\n",
        "        subtotal = price * quantity\n",
        "        total += subtotal\n",
        "\n",
        "    if total > 100:\n",
        "        total -= total * 0.1\n",
        "\n",
        "    return total\n",
        "\n",
        "final_amount = calculate_total_price()\n",
        "print(\"The final amount to be paid by the customer is: {:.2f} BDT\".format(final_amount))"
      ]
    },
    {
      "cell_type": "markdown",
      "id": "03a3b6d8",
      "metadata": {
        "id": "03a3b6d8"
      },
      "source": [
        "**Explanation:** In this program, the `calculate_total_price` function prompts the user to enter the price and quantity of three items using a `loop`. It calculates the subtotal for each item by multiplying the price and quantity, and then adds it to the total. After the loop, it checks if the total is above `100 BDT`. If so, it applies a `10% discount` by `subtracting 10%` of the total from the total amount. Finally, it returns the `total`.\n",
        "\n",
        "The returned total is stored in the final_amount variable, and then it is printed as the final amount the customer has to pay, formatted to display `two decimal` places."
      ]
    },
    {
      "cell_type": "markdown",
      "id": "de735e67",
      "metadata": {
        "id": "de735e67"
      },
      "source": [
        "### Task 2: Grade Calculator"
      ]
    },
    {
      "cell_type": "code",
      "execution_count": null,
      "id": "d21175fd",
      "metadata": {
        "id": "d21175fd",
        "outputId": "5a39adc8-e79f-4d40-9a83-1961606fb559"
      },
      "outputs": [
        {
          "name": "stdout",
          "output_type": "stream",
          "text": [
            "Enter the test scores for Student 1\n",
            "Enter score 1: 56\n",
            "Enter score 2: 12\n",
            "Enter score 3: 78\n",
            "Enter the test scores for Student 2\n",
            "Enter score 1: 44\n",
            "Enter score 2: 76\n",
            "Enter score 3: 69\n",
            "Enter the test scores for Student 3\n",
            "Enter score 1: 45\n",
            "Enter score 2: 65\n",
            "Enter score 3: 87\n",
            "Student 1:\n",
            "Average Score: 48.666666666666664\n",
            "Letter Grade: F\n",
            "Student 2:\n",
            "Average Score: 63.0\n",
            "Letter Grade: F\n",
            "Student 3:\n",
            "Average Score: 65.66666666666667\n",
            "Letter Grade: F\n"
          ]
        }
      ],
      "source": [
        "def calculate_average_score(scores):\n",
        "    total = sum(scores)\n",
        "    average = total / len(scores)\n",
        "    return average\n",
        "\n",
        "def assign_letter_grade(score):\n",
        "    if score >= 90:\n",
        "        return \"A\"\n",
        "    elif score >= 80:\n",
        "        return \"B\"\n",
        "    elif score >= 70:\n",
        "        return \"C\"\n",
        "    else:\n",
        "        return \"F\"\n",
        "\n",
        "students = [\"Student 1\", \"Student 2\", \"Student 3\"]\n",
        "grades = []\n",
        "\n",
        "for student in students:\n",
        "    print(\"Enter the test scores for\", student)\n",
        "    scores = []\n",
        "    for i in range(3):\n",
        "        score = float(input(\"Enter score {}: \".format(i+1)))\n",
        "        scores.append(score)\n",
        "    average_score = calculate_average_score(scores)\n",
        "    letter_grade = assign_letter_grade(average_score)\n",
        "    grades.append((student, average_score, letter_grade))\n",
        "\n",
        "# Display the grades\n",
        "for grade in grades:\n",
        "    student, average_score, letter_grade = grade\n",
        "    print(student + \":\")\n",
        "    print(\"Average Score:\", average_score)\n",
        "    print(\"Letter Grade:\", letter_grade)"
      ]
    },
    {
      "cell_type": "markdown",
      "id": "5e3135a5",
      "metadata": {
        "id": "5e3135a5"
      },
      "source": [
        "**Explanation:** The `assign_letter_grade` function takes a score as input and assigns a letter grade based on the score using `if-elif-else` statements. It returns the corresponding letter grade.\n",
        "\n",
        "The program asks the user for the test scores of three students using nested loops. It prompts for each student and their three test scores. The scores are stored in a list for each student. Then, it calculates the average score for each student using the calculate_average_score function and assigns a letter grade using the `assign_letter_grade function`. The student's name, average score, and letter grade are stored in a list of `tuples` called grades."
      ]
    },
    {
      "cell_type": "markdown",
      "id": "496db5e4",
      "metadata": {
        "id": "496db5e4"
      },
      "source": [
        "### Task 3: Temperature Converter"
      ]
    },
    {
      "cell_type": "code",
      "execution_count": null,
      "id": "f54d27a0",
      "metadata": {
        "id": "f54d27a0",
        "outputId": "9d5eeb82-66e7-4792-dea6-8727f388baee"
      },
      "outputs": [
        {
          "name": "stdout",
          "output_type": "stream",
          "text": [
            "Enter the temperature: 32\n",
            "Enter the unit (Celsius or Fahrenheit): celsius\n",
            "The converted temperature is: 89.6 Fahrenheit\n"
          ]
        }
      ],
      "source": [
        "def convert_to_fahrenheit(celsius):\n",
        "    fahrenheit = (celsius * 9/5) + 32\n",
        "    return fahrenheit\n",
        "\n",
        "def convert_to_celsius(fahrenheit):\n",
        "    celsius = (fahrenheit - 32) * 5/9\n",
        "    return celsius\n",
        "\n",
        "temperature = float(input(\"Enter the temperature: \"))\n",
        "unit = input(\"Enter the unit (Celsius or Fahrenheit): \")\n",
        "\n",
        "if unit.lower() == \"celsius\":\n",
        "    converted_temperature = convert_to_fahrenheit(temperature)\n",
        "    converted_unit = \"Fahrenheit\"\n",
        "elif unit.lower() == \"fahrenheit\":\n",
        "    converted_temperature = convert_to_celsius(temperature)\n",
        "    converted_unit = \"Celsius\"\n",
        "else:\n",
        "    print(\"Invalid unit entered!\")\n",
        "    exit()\n",
        "\n",
        "print(\"The converted temperature is:\", converted_temperature, converted_unit)"
      ]
    },
    {
      "cell_type": "markdown",
      "id": "d5bfaad5",
      "metadata": {
        "id": "d5bfaad5"
      },
      "source": [
        "**Explanation:** The program prompts the user to enter the temperature and the unit (Celsius or Fahrenheit) they want to convert. It checks the user input to determine which conversion function to call. If the unit is `Celsius`, it calls `convert_to_fahrenheit` to convert the temperature to Fahrenheit. If the unit is `Fahrenheit`, it calls `convert_to_celsius` to convert the temperature to Celsius. If an `invalid` unit is entered, an error message is displayed and the program exits."
      ]
    },
    {
      "cell_type": "markdown",
      "id": "e59e7b89",
      "metadata": {
        "id": "e59e7b89"
      },
      "source": [
        "### Task 4: Username Validation"
      ]
    },
    {
      "cell_type": "code",
      "execution_count": null,
      "id": "5f814b2a",
      "metadata": {
        "scrolled": true,
        "id": "5f814b2a",
        "outputId": "2df1a518-26a2-4eb0-e820-343a5780d133"
      },
      "outputs": [
        {
          "name": "stdout",
          "output_type": "stream",
          "text": [
            "Enter a username: ThisIsValid\n",
            "The username is valid.\n"
          ]
        }
      ],
      "source": [
        "def validate_username(username):\n",
        "    # Check length\n",
        "    if len(username) < 6 or len(username) > 12:\n",
        "        return False\n",
        "\n",
        "    # Check first character\n",
        "    if not username[0].isalpha():\n",
        "        return False\n",
        "\n",
        "    # Check characters\n",
        "    valid_chars = \"abcdefghijklmnopqrstuvwxyzABCDEFGHIJKLMNOPQRSTUVWXYZ0123456789_\"\n",
        "    for char in username:\n",
        "        if char not in valid_chars:\n",
        "            return False\n",
        "\n",
        "    return True\n",
        "\n",
        "username = input(\"Enter a username: \")\n",
        "if validate_username(username):\n",
        "    print(\"The username is valid.\")\n",
        "else:\n",
        "    print(\"The username is not valid.\")"
      ]
    },
    {
      "cell_type": "markdown",
      "id": "eb457051",
      "metadata": {
        "id": "eb457051"
      },
      "source": [
        "**Explanation;**\n",
        "The validate_username function takes a username as input and performs the following checks:\n",
        "\n",
        "- Length Check: It checks if the length of the username is between 6 and 12 characters using the len function.\n",
        "\n",
        "- First Character Check: It checks if the first character of the username is a letter (a-z or A-Z) using the isalpha() method.\n",
        "\n",
        "- Character Check: It checks if each character in the username is a letter, digit, or underscore by iterating over the characters and checking if they are present in a string of valid characters.\n",
        "\n",
        "If all the checks pass, the function returns `True`, indicating that the username is `valid` Otherwise, it returns `False`.\n",
        "\n",
        "The program prompts the user to enter a username and then calls the `validate_username` function to check its `validity`. Based on the validation result, it displays whether the username is valid or not."
      ]
    },
    {
      "cell_type": "markdown",
      "id": "d1be5b75",
      "metadata": {
        "id": "d1be5b75"
      },
      "source": [
        "# Assignment 2"
      ]
    },
    {
      "cell_type": "markdown",
      "id": "3e9fcf35",
      "metadata": {
        "id": "3e9fcf35"
      },
      "source": [
        "### Task 1: While Loops\n",
        "#### Sub-Task 1"
      ]
    },
    {
      "cell_type": "code",
      "execution_count": null,
      "id": "f296dc13",
      "metadata": {
        "id": "f296dc13",
        "outputId": "41d072f7-f9d4-494e-edb7-d6a6f4db2996"
      },
      "outputs": [
        {
          "name": "stdout",
          "output_type": "stream",
          "text": [
            "Enter an integer number: -2\n",
            "Please enter a positive integer.\n",
            "Enter an integer number: 4\n",
            "The summation of numbers from 1 to 4 is 10\n"
          ]
        }
      ],
      "source": [
        "number = int(input(\"Enter an integer number: \"))\n",
        "\n",
        "# Input validation: Check if the number is positive\n",
        "while number < 0:\n",
        "    print(\"Please enter a positive integer.\")\n",
        "    number = int(input(\"Enter an integer number: \"))\n",
        "\n",
        "summation = 0\n",
        "current_number = 1\n",
        "\n",
        "while current_number <= number:\n",
        "    summation += current_number\n",
        "    current_number += 1\n",
        "\n",
        "print(\"The summation of numbers from 1 to\", number, \"is\", summation)"
      ]
    },
    {
      "cell_type": "markdown",
      "id": "fddde19f",
      "metadata": {
        "id": "fddde19f"
      },
      "source": [
        "**Explanation:** After input validation, the program initializes the variables `summation` and `current_number`. The `summation` variable keeps track of the running `sum`, while `current_number` represents the number being added to the `summation`.\n",
        "\n",
        "The while loop continues until `current_number` reaches the given number. In each iteration, the `current_number` is added to the `summation` and `current_number` is incremented by `1`.\n",
        "\n",
        "Finally, the program prints the summation of numbers from `1 to the given number`.\n",
        "\n",
        "**Please note that this program assumes valid input (a positive integer) from the user and doesn't perform extensive input validation.**"
      ]
    },
    {
      "cell_type": "markdown",
      "id": "70a53b61",
      "metadata": {
        "id": "70a53b61"
      },
      "source": [
        "#### Sub-Task 2"
      ]
    },
    {
      "cell_type": "code",
      "execution_count": null,
      "id": "8ada7d20",
      "metadata": {
        "id": "8ada7d20",
        "outputId": "f394ab79-de2f-458c-f5f8-59dee2928c02"
      },
      "outputs": [
        {
          "name": "stdout",
          "output_type": "stream",
          "text": [
            "Enter an integer number: 12\n",
            "The summation of odd numbers from 1 to 12 is 36\n"
          ]
        }
      ],
      "source": [
        "number = int(input(\"Enter an integer number: \"))\n",
        "\n",
        "# Input validation: Check if the number is positive\n",
        "while number < 0:\n",
        "    print(\"Please enter a positive integer.\")\n",
        "    number = int(input(\"Enter an integer number: \"))\n",
        "\n",
        "summation = 0\n",
        "current_number = 1\n",
        "\n",
        "while current_number <= number:\n",
        "    if current_number % 2 != 0:\n",
        "        summation += current_number\n",
        "    current_number += 1\n",
        "\n",
        "print(\"The summation of odd numbers from 1 to\", number, \"is\", summation)"
      ]
    },
    {
      "cell_type": "markdown",
      "id": "2c9cafd6",
      "metadata": {
        "id": "2c9cafd6"
      },
      "source": [
        "**Explanation:** After input validation, the program initializes the variables `summation` and `current_number`. The summation variable keeps track of the running `sum of odd numbers`, while `current_number` represents the number being considered.\n",
        "\n",
        "The `while loop` continues until `current_number` reaches the given number. In each iteration, the program checks if the `current_number` is `odd` by using the `modulo operator %`. If the `current_number` is `odd`, it is `added to the summation`. Otherwise, it is skipped. Finally, current_number is incremented by `1`.\n",
        "\n",
        "Finally, the program prints the summation of `odd numbers from 1 to the given number`.\n",
        "\n",
        "**Please note that this program assumes valid input (a positive integer) from the user and doesn't perform extensive input validation.**"
      ]
    },
    {
      "cell_type": "markdown",
      "id": "227ff3e5",
      "metadata": {
        "id": "227ff3e5"
      },
      "source": [
        "### Task 2: Foor Loops"
      ]
    },
    {
      "cell_type": "markdown",
      "id": "dba08df3",
      "metadata": {
        "id": "dba08df3"
      },
      "source": [
        "#### Sub-Task 1"
      ]
    },
    {
      "cell_type": "code",
      "execution_count": null,
      "id": "d04c4d4b",
      "metadata": {
        "id": "d04c4d4b",
        "outputId": "b7144cb2-16de-4c73-d532-590b9cbdce36"
      },
      "outputs": [
        {
          "name": "stdout",
          "output_type": "stream",
          "text": [
            "Enter an integer number: 35\n",
            "The summation of multiples of 5 from 1 to 35 is 140\n"
          ]
        }
      ],
      "source": [
        "number = int(input(\"Enter an integer number: \"))\n",
        "\n",
        "# Input validation: Check if the number is positive\n",
        "while number < 0:\n",
        "    print(\"Please enter a positive integer.\")\n",
        "    number = int(input(\"Enter an integer number: \"))\n",
        "\n",
        "summation = 0\n",
        "\n",
        "for i in range(1, number + 1):\n",
        "    if i % 5 == 0:\n",
        "        summation += i\n",
        "\n",
        "print(\"The summation of multiples of 5 from 1 to\", number, \"is\", summation)"
      ]
    },
    {
      "cell_type": "markdown",
      "id": "393846f1",
      "metadata": {
        "id": "393846f1"
      },
      "source": [
        "**Explanation:** After input validation, the program initializes the `summation` variable to keep track of the running sum of multiples of 5.\n",
        "\n",
        "The for loop iterates over the range from 1 to number `+ 1`. In each iteration, the program checks if the current number i is a `multiple of 5` using the modulo operator %. If i is `divisible by 5` with no remainder, it is `added to the summation`.\n",
        "\n",
        "Finally, the program prints the summation of `multiples of 5` from `1 to the given number`.\n",
        "\n",
        "**Please note that this program assumes valid input (a positive integer) from the user and doesn't perform extensive input validation.**"
      ]
    },
    {
      "cell_type": "markdown",
      "id": "2d4de22a",
      "metadata": {
        "id": "2d4de22a"
      },
      "source": [
        "#### Sub Task 2"
      ]
    },
    {
      "cell_type": "code",
      "execution_count": null,
      "id": "6dde4ada",
      "metadata": {
        "id": "6dde4ada",
        "outputId": "0d0d5545-7a82-4675-d9b9-4cb011d76a39"
      },
      "outputs": [
        {
          "name": "stdout",
          "output_type": "stream",
          "text": [
            "Enter an integer number: 7\n",
            "NOT FOUND\n"
          ]
        }
      ],
      "source": [
        "my_list = [2, 4, 6, 8, 10, 11, 13, 15, 17, 19, 22, 24, 26, 26, 28]\n",
        "\n",
        "number = int(input(\"Enter an integer number: \"))\n",
        "\n",
        "found = False\n",
        "\n",
        "for num in my_list:\n",
        "    if num == number:\n",
        "        found = True\n",
        "        break\n",
        "\n",
        "if found:\n",
        "    print(\"FOUND\")\n",
        "else:\n",
        "    print(\"NOT FOUND\")"
      ]
    },
    {
      "cell_type": "markdown",
      "id": "c412c6ed",
      "metadata": {
        "id": "c412c6ed"
      },
      "source": [
        "**Explanation:** The program uses a `for` loop to iterate over each `element` in `my_list`. In each iteration, it checks if the current number num is equal to the number entered by the user. If a match is found, the found variable is set to `True`, and the loop is terminated using the `break` statement.\n",
        "\n",
        "After the loop, the program checks the value of the found variable. If it is True, it means the number was found in the list, and `\"FOUND\"` is printed. Otherwise, if found is still False, it means the number was not found, and `\"NOT FOUND\"` is printed.\n",
        "\n",
        "**Please note that this program assumes valid input (an integer) from the user and doesn't perform extensive input validation.**"
      ]
    },
    {
      "cell_type": "markdown",
      "id": "58e9b6e6",
      "metadata": {
        "id": "58e9b6e6"
      },
      "source": [
        "#### Sub Task 3"
      ]
    },
    {
      "cell_type": "code",
      "execution_count": null,
      "id": "16b9b50e",
      "metadata": {
        "id": "16b9b50e",
        "outputId": "c7b2a42d-4ac3-4eab-9d03-d107c769a7bd"
      },
      "outputs": [
        {
          "name": "stdout",
          "output_type": "stream",
          "text": [
            "Enter an integer number: 9\n",
            "9 appears 9 time(s) in the list.\n"
          ]
        }
      ],
      "source": [
        "new_list = [1, 1, 1, 2, 2, 3, 3, 3, 4, 4, 4, 4, 5, 5, 5, 5,\n",
        "            5, 6, 6, 6, 6, 6, 6, 7, 7, 7, 7, 7, 7, 7, 8, 8,\n",
        "            8, 8, 8, 8, 8, 8, 9, 9, 9, 9, 9, 9, 9, 9, 9]\n",
        "\n",
        "number = int(input(\"Enter an integer number: \"))\n",
        "\n",
        "count = 0\n",
        "\n",
        "for num in new_list:\n",
        "    if num == number:\n",
        "        count += 1\n",
        "\n",
        "print(\"{} appears {} time(s) in the list.\".format(number, count))"
      ]
    },
    {
      "cell_type": "markdown",
      "id": "a28c617d",
      "metadata": {
        "id": "a28c617d"
      },
      "source": [
        "**Explanantion** The program uses a `for` loop to iterate over each `element` in `new_list`. In each iteration, it checks if the current number num is equal to the number entered by the user. If a match is `found`, the count variable is incremented by `1`.\n",
        "\n",
        "After the loop, the program prints a message stating how many times the entered number appears in the list, using string formatting to display the number and count.\n",
        "\n",
        "**Please note that this program assumes valid input (an integer) from the user and doesn't perform extensive input validation.**"
      ]
    },
    {
      "cell_type": "markdown",
      "id": "c7bc63ab",
      "metadata": {
        "id": "c7bc63ab"
      },
      "source": [
        "#### Sub Task 4"
      ]
    },
    {
      "cell_type": "code",
      "execution_count": null,
      "id": "94d4957f",
      "metadata": {
        "id": "94d4957f",
        "outputId": "07af127f-f6f6-4e7a-b83a-ca40bb2357b5"
      },
      "outputs": [
        {
          "name": "stdout",
          "output_type": "stream",
          "text": [
            "Enter an integer number: 13\n",
            "13 appears at location 6.\n"
          ]
        }
      ],
      "source": [
        "my_list = [2, 4, 6, 8, 10, 11, 13, 15, 17, 19, 22, 24, 26, 28]\n",
        "\n",
        "number = int(input(\"Enter an integer number: \"))\n",
        "\n",
        "location = -1\n",
        "\n",
        "for index, num in enumerate(my_list):\n",
        "    if num == number:\n",
        "        location = index\n",
        "        break\n",
        "\n",
        "if location != -1:\n",
        "    print(\"{} appears at location {}.\".format(number, location))\n",
        "else:\n",
        "    print(\"{} does not appear in the list.\".format(number))"
      ]
    },
    {
      "cell_type": "markdown",
      "id": "84a15e01",
      "metadata": {
        "id": "84a15e01"
      },
      "source": [
        "**Explanation:** The program uses a `for` loop along with the enumerate function to iterate over each `element` and index pair in `my_list`. In each iteration, it checks if the current number num is equal to the number entered by the user. If a match is found, the location variable is set to the current index, and the loop is terminated using the break statement.\n",
        "\n",
        "After the loop, the program checks the value of the location variable. If it is not equal to `-1`, it means the number was found in the list, and it prints a message stating the number and its location. Otherwise, if location is still `-1`, it means the number was not found, and it prints a message stating that the number does not appear in the list.\n",
        "\n",
        "**Please note that this program assumes valid input (an integer) from the user and doesn't perform extensive input validation.**"
      ]
    },
    {
      "cell_type": "markdown",
      "id": "cdc7a436",
      "metadata": {
        "id": "cdc7a436"
      },
      "source": [
        "### Task 3: Nested Loops"
      ]
    },
    {
      "cell_type": "markdown",
      "id": "c4898fb8",
      "metadata": {
        "id": "c4898fb8"
      },
      "source": [
        "#### Sub Task 1"
      ]
    },
    {
      "cell_type": "code",
      "execution_count": null,
      "id": "2a804a7c",
      "metadata": {
        "id": "2a804a7c",
        "outputId": "edaa6443-c988-4739-8aec-4713d856bd1d"
      },
      "outputs": [
        {
          "name": "stdout",
          "output_type": "stream",
          "text": [
            "Enter the height of the rectangle: 4\n",
            "Enter the width of the rectangle: 10\n",
            "**********\n",
            "**********\n",
            "**********\n",
            "**********\n"
          ]
        }
      ],
      "source": [
        "height = int(input(\"Enter the height of the rectangle: \"))\n",
        "width = int(input(\"Enter the width of the rectangle: \"))\n",
        "\n",
        "for i in range(height):\n",
        "    for j in range(width):\n",
        "        print(\"*\", end=\"\")\n",
        "    print()"
      ]
    },
    {
      "cell_type": "markdown",
      "id": "40f6302d",
      "metadata": {
        "id": "40f6302d"
      },
      "source": [
        "**Explanation:** The program uses `nested for loops` to iterate through each `row` and `column` of the rectangle. The outer loop iterates over the rows (height) and the inner loop iterates over the columns (width). For each position in the rectangle, it prints an asterisk `(*)` using the print function with **`end=\"\"`** to prevent a newline character from being added after each asterisk.\n",
        "\n",
        "After printing all the asterisks for a row, the outer loop moves to the next row, and a newline character is printed using the empty **`print()`** function to move to the next line and create the rectangular shape.\n",
        "\n",
        "The result is a rectangular shape filled with asterisks `(*)` based on the provided height and width."
      ]
    },
    {
      "cell_type": "markdown",
      "id": "c0e532d7",
      "metadata": {
        "id": "c0e532d7"
      },
      "source": [
        "#### Sub Task 2"
      ]
    },
    {
      "cell_type": "code",
      "execution_count": null,
      "id": "209da23b",
      "metadata": {
        "id": "209da23b",
        "outputId": "aa2513e4-cfdc-4692-f159-c76585f0ea8a"
      },
      "outputs": [
        {
          "name": "stdout",
          "output_type": "stream",
          "text": [
            "Enter the length of the triangle (adjacent and opposite): 10\n",
            "*\n",
            "**\n",
            "***\n",
            "****\n",
            "*****\n",
            "******\n",
            "*******\n",
            "********\n",
            "*********\n",
            "**********\n"
          ]
        }
      ],
      "source": [
        "length = int(input(\"Enter the length of the triangle (adjacent and opposite): \"))\n",
        "\n",
        "for i in range(length):\n",
        "    for j in range(i + 1):\n",
        "        print(\"*\", end=\"\")\n",
        "    print()"
      ]
    },
    {
      "cell_type": "markdown",
      "id": "16990058",
      "metadata": {
        "id": "16990058"
      },
      "source": [
        "**Explanation:** The program uses `nested for` loops to iterate through each `row` and `column` of the triangular shape. The outer loop iterates over the rows, and the inner loop iterates over the columns. The number of columns in each row is determined by the value of i in the outer loop, which ranges from 0 to length - 1. For each position in the triangle, it `prints` an `asterisk (*)` using the print function with **`end=\"\"`** to prevent a newline character from being added after each asterisk.\n",
        "\n",
        "After printing all the asterisks for a row, the inner loop moves to the next column. When the inner loop completes for each row, the outer loop moves to the next row, and a newline character is printed using the empty **``print()``** function to move to the next line and create the triangular shape.\n",
        "\n",
        "The result is a right-facing triangular shape filled with asterisks `(*)` based on the provided length of the adjacent and opposite sides.\n",
        "\n",
        "**Please note that this program assumes valid input (a positive integer) from the user and doesn't perform extensive input validation.**"
      ]
    },
    {
      "cell_type": "markdown",
      "id": "04708f36",
      "metadata": {
        "id": "04708f36"
      },
      "source": [
        "## Assignment 3"
      ]
    },
    {
      "cell_type": "markdown",
      "id": "5da3fecd",
      "metadata": {
        "id": "5da3fecd"
      },
      "source": [
        "### Task 1 (List)\n",
        "\n",
        "#### Sub-Task 1: Find all Divisors of Input Number\n"
      ]
    },
    {
      "cell_type": "code",
      "execution_count": null,
      "id": "2f5c11a4",
      "metadata": {
        "id": "2f5c11a4",
        "outputId": "50517a01-163e-41a5-86d4-054a67434f2b"
      },
      "outputs": [
        {
          "name": "stdout",
          "output_type": "stream",
          "text": [
            "Enter an integer number: 13\n",
            "[]\n"
          ]
        }
      ],
      "source": [
        "def find_divisors(number):\n",
        "    divisors = []\n",
        "\n",
        "    for i in range(2, number):\n",
        "        if number % i == 0:\n",
        "            divisors.append(i)\n",
        "\n",
        "    return divisors\n",
        "\n",
        "if __name__ == \"__main__\":\n",
        "    number = int(input(\"Enter an integer number: \"))\n",
        "    divisors = find_divisors(number)\n",
        "\n",
        "    if len(divisors) == 0:\n",
        "        print(\"[]\")\n",
        "    else:\n",
        "        print(divisors)"
      ]
    },
    {
      "cell_type": "markdown",
      "id": "5cdfea12",
      "metadata": {
        "id": "5cdfea12"
      },
      "source": [
        "**Explanation** In the main function, the user is prompted to enter an integer number. The find_divisors function is called with the user-provided number, and the resulting list of divisors is stored in the divisors variable. If the length of the divisors list is 0, it means that the number cannot be divided by any other numbers, so [] is printed. Otherwise, the list of divisors is printed.\n",
        "\n",
        "For example, if the user enters 12, the program will output `[2, 3, 4, 6]`, as `12` is divisible by `2, 3, 4 and 6`. If the user enters `13`, the program will output `[]`, as `13` `cannot be divided` by any number other than `1 and 13`."
      ]
    },
    {
      "cell_type": "markdown",
      "id": "2e64629c",
      "metadata": {
        "id": "2e64629c"
      },
      "source": [
        "#### Sub-Task 2: Testing All Possible Divisors for Input Number"
      ]
    },
    {
      "cell_type": "code",
      "execution_count": null,
      "id": "9a5d9d1e",
      "metadata": {
        "id": "9a5d9d1e",
        "outputId": "572f8077-d995-439a-a1cc-c22e0a2e96f0"
      },
      "outputs": [
        {
          "name": "stdout",
          "output_type": "stream",
          "text": [
            "Enter an integer number (-1 to stop): 2\n",
            "Enter an integer number (-1 to stop): 4\n",
            "Enter an integer number (-1 to stop): 6\n",
            "Enter an integer number (-1 to stop): 12\n",
            "Enter an integer number (-1 to stop): 8\n",
            "Enter an integer number (-1 to stop): 23\n",
            "Enter an integer number (-1 to stop): -1\n",
            "Enter another integer number: 12\n",
            "[2, 4, 6, 12]\n"
          ]
        }
      ],
      "source": [
        "def eliminate_non_divisors(numbers, n):\n",
        "    divisors = []\n",
        "\n",
        "    for number in numbers:\n",
        "        if n % number == 0:\n",
        "            divisors.append(number)\n",
        "\n",
        "    return divisors\n",
        "\n",
        "if __name__ == \"__main__\":\n",
        "    my_list = []\n",
        "    while True:\n",
        "        number = int(input(\"Enter an integer number (-1 to stop): \"))\n",
        "        if number == -1:\n",
        "            break\n",
        "        my_list.append(number)\n",
        "\n",
        "    n = int(input(\"Enter another integer number: \"))\n",
        "    result = eliminate_non_divisors(my_list, n)\n",
        "\n",
        "    if len(result) == 0:\n",
        "        print(\"[]\")\n",
        "    else:\n",
        "        print(result)"
      ]
    },
    {
      "cell_type": "markdown",
      "id": "4f7e2f15",
      "metadata": {
        "id": "4f7e2f15"
      },
      "source": [
        "**Explanation:**  The user is prompted to enter another integer number `n`. The `eliminate_non_divisors` function is called with the my_list and n as arguments. This function iterates over each number in `my_list` and checks if it is a `divisor of n`. If it is a `divisor`, the number is appended to the `divisors list`.\n",
        "\n",
        "Finally, the resulting list of divisors is printed. If the length of the result list is `0`, it means that none of the numbers in `my_list are divisors of n`, so `[]` is printed.\n",
        "\n",
        "For example, if the user enters the list of numbers `12, 4, 15, 27, 9, 40, -1` and then enters the number `60`, the program will output `[12, 4, 15]` since each of these numbers is a divisor of `60`."
      ]
    },
    {
      "cell_type": "markdown",
      "id": "6dd932a1",
      "metadata": {
        "id": "6dd932a1"
      },
      "source": [
        "### Taks 2: Dictionaries\n",
        "\n",
        "#### Sub-Task 1: Manupulating Dictionaries"
      ]
    },
    {
      "cell_type": "code",
      "execution_count": null,
      "id": "e1d0deda",
      "metadata": {
        "id": "e1d0deda",
        "outputId": "e9c62085-8464-4151-a354-149a811d30c5"
      },
      "outputs": [
        {
          "name": "stdout",
          "output_type": "stream",
          "text": [
            "{'a': 'd', 'b': 'e', 'c': 'f', 'A': 'D', 'B': 'E', 'C': 'F'}\n",
            "{'d': 'a', 'e': 'b', 'f': 'c'}\n"
          ]
        }
      ],
      "source": [
        "def concat_dictionary(my_dict1, my_dict2):\n",
        "    new_dict = my_dict1.copy()\n",
        "    new_dict.update(my_dict2)\n",
        "    return new_dict\n",
        "\n",
        "def toggle_key_value_pair(my_dict):\n",
        "    new_dict = {value: key for key, value in my_dict.items()}\n",
        "    return new_dict\n",
        "\n",
        "# Test for concatenating dictionaries\n",
        "dict1 = {'a': 'd', 'b': 'e', 'c': 'f'}\n",
        "dict2 = {'A': 'D', 'B': 'E', 'C': 'F'}\n",
        "concatenated_dict = concat_dictionary(dict1, dict2)\n",
        "print(concatenated_dict)  # Output: {'a': 'd', 'b': 'e', 'c': 'f', 'A': 'D', 'B': 'E', 'C': 'F'}\n",
        "\n",
        "# Test for toggling key-value pairs\n",
        "toggled_dict = toggle_key_value_pair(dict1)\n",
        "print(toggled_dict)  # Output: {'d': 'a', 'e': 'b', 'f': 'c'}"
      ]
    },
    {
      "cell_type": "markdown",
      "id": "e010dd1a",
      "metadata": {
        "id": "e010dd1a"
      },
      "source": [
        "**Explanation:** The `concat_dictionary` function takes two dictionaries `my_dict1` and `my_dict2`. It creates a new dictionary `new_dict` by copying `my_dict1` using the copy method. Then it uses the update method to append the key-value pairs from `my_dict2` to `new_dict`. Finally, it returns the new dictionary `new_dict` containing all the key-value pairs.\n",
        "\n",
        "The `toggle_key_value`_pair function takes a dictionary `my_dict`. It creates a new dictionary `new_dict` using a dictionary comprehension. It `swaps` the `key-value` pairs of `my_dict` by iterating over the `items` and using the values as `keys` and the `keys` as `values`. Finally, it returns the new dictionary `new_dict` with the `toggled key-value pairs`."
      ]
    },
    {
      "cell_type": "markdown",
      "id": "49655974",
      "metadata": {
        "id": "49655974"
      },
      "source": [
        "#### Sub-Task 2: Encrpyt Message"
      ]
    },
    {
      "cell_type": "code",
      "execution_count": null,
      "id": "f6374a55",
      "metadata": {
        "id": "f6374a55",
        "outputId": "4c2eb426-63de-407a-cc85-fa271ab7a76a"
      },
      "outputs": [
        {
          "name": "stdout",
          "output_type": "stream",
          "text": [
            "Khoor Zruog!\n"
          ]
        }
      ],
      "source": [
        "def encrypt_message(mapping_dict, message):\n",
        "    encrypted_message = \"\"\n",
        "\n",
        "    for char in message:\n",
        "        if char.lower() in mapping_dict:\n",
        "            if char.isupper():\n",
        "                encrypted_char = mapping_dict[char.lower()].upper()\n",
        "            else:\n",
        "                encrypted_char = mapping_dict[char.lower()]\n",
        "            encrypted_message += encrypted_char\n",
        "        else:\n",
        "            encrypted_message += char\n",
        "\n",
        "    return encrypted_message\n",
        "\n",
        "# Test for encrypting a message\n",
        "mapping = {'a': 'd', 'b': 'e', 'c': 'f', 'd': 'g', 'e': 'h', 'f': 'i', 'g': 'j', 'h': 'k',\n",
        "           'i': 'l', 'j': 'm', 'k': 'n', 'l': 'o', 'm': 'p', 'n': 'q', 'o': 'r',\n",
        "           'p': 's', 'q': 't', 'r': 'u', 's': 'v', 't': 'w', 'u': 'x', 'v': 'y',\n",
        "           'w': 'z', 'x': 'a', 'y': 'b', 'z': 'c'}\n",
        "message = 'Hello World!'\n",
        "encrypted_message = encrypt_message(mapping, message)\n",
        "print(encrypted_message)  # Output: 'khoor zruog!'"
      ]
    },
    {
      "cell_type": "markdown",
      "id": "f2b8938a",
      "metadata": {
        "id": "f2b8938a"
      },
      "source": [
        "**Explanation:** The **`encrypt_message`** function takes a dictionary **`mapping_dict`** containing the key-value pairs for the encryption mapping, and a string message that represents the **`message`** to be encrypted. It iterates over each character in the message and checks if it exists in the mapping dictionary. If a character is found, it retrieves the corresponding encrypted character based on the mapping. If the original character is uppercase, the encrypted character will also be converted to uppercase. If a character is not found in the mapping, it remains unchanged. The encrypted characters are concatenated to form the encrypted message, which is then returned."
      ]
    }
  ],
  "metadata": {
    "kernelspec": {
      "display_name": "Python 3 (ipykernel)",
      "language": "python",
      "name": "python3"
    },
    "language_info": {
      "codemirror_mode": {
        "name": "ipython",
        "version": 3
      },
      "file_extension": ".py",
      "mimetype": "text/x-python",
      "name": "python",
      "nbconvert_exporter": "python",
      "pygments_lexer": "ipython3",
      "version": "3.8.16"
    },
    "colab": {
      "provenance": []
    }
  },
  "nbformat": 4,
  "nbformat_minor": 5
}