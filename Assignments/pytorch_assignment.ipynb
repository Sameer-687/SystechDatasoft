{
 "cells": [
  {
   "cell_type": "markdown",
   "id": "990c28f3",
   "metadata": {
    "id": "990c28f3"
   },
   "source": [
    "# Basic PyTorch Tensor Manipulation Practice\n",
    "\n",
    "## Guideline:\n",
    "Submit your completed code for each task, organized into sections with comments. Document your code and provide a brief summary of each task's accomplishment. Good luck with your PyTorch practice!\n",
    "\n",
    "## Task 1: Tensor Creation and Basic Operations\n",
    "1. Create two 3x3 matrices (tensors) A and B with random integer values between 1 and 10.\n",
    "2. Print the matrices A and B.\n",
    "3. Calculate the element-wise sum of A and B.\n",
    "4. Calculate the element-wise product of A and B."
   ]
  },
  {
   "cell_type": "code",
   "execution_count": 1,
   "id": "5fea88ed",
   "metadata": {},
   "outputs": [],
   "source": [
    "import torch"
   ]
  },
  {
   "cell_type": "code",
   "execution_count": 27,
   "id": "e8648b8e",
   "metadata": {
    "id": "e8648b8e"
   },
   "outputs": [
    {
     "name": "stdout",
     "output_type": "stream",
     "text": [
      "tensor([[4, 9, 5],\n",
      "        [1, 1, 1],\n",
      "        [9, 9, 9]])\n",
      "tensor([[5, 9, 8],\n",
      "        [2, 8, 8],\n",
      "        [7, 5, 4]])\n",
      "tensor([[ 9, 18, 13],\n",
      "        [ 3,  9,  9],\n",
      "        [16, 14, 13]])\n",
      "tensor([[20, 81, 40],\n",
      "        [ 2,  8,  8],\n",
      "        [63, 45, 36]])\n"
     ]
    }
   ],
   "source": [
    "#you code goes here\n",
    "A=torch.randint(1,11,(3,3))\n",
    "B=torch.randint(1,11,(3,3))\n",
    "print(A)\n",
    "print(B)\n",
    "print(A+B)\n",
    "print(A*B)"
   ]
  },
  {
   "cell_type": "markdown",
   "id": "3eb38e1e",
   "metadata": {
    "id": "3eb38e1e"
   },
   "source": [
    "## Task 2: Tensor Reshaping and Slicing\n",
    "1. Create a 1D tensor C of size 9 with values from 0 to 8.\n",
    "2. Reshape C into a 3x3 matrix D.\n",
    "3. Print the shape of tensor D.\n",
    "4. Slice tensor D to obtain the submatrix containing the last two rows and last two columns.\n"
   ]
  },
  {
   "cell_type": "code",
   "execution_count": 15,
   "id": "8779825b",
   "metadata": {
    "id": "8779825b"
   },
   "outputs": [
    {
     "name": "stdout",
     "output_type": "stream",
     "text": [
      "C: tensor([2, 8, 0, 6, 4, 6, 4, 2, 8])\n",
      "D: tensor([[2, 8, 0],\n",
      "        [6, 4, 6],\n",
      "        [4, 2, 8]])\n",
      "DShape of D: torch.Size([3, 3])\n",
      "SLicing: tensor([[4, 6],\n",
      "        [2, 8]])\n"
     ]
    }
   ],
   "source": [
    "#you code goes here\n",
    "C=torch.randint(0,9,(9,))\n",
    "print(f\"C: {C}\")\n",
    "D=C.reshape(3,3)\n",
    "print(f\"D: {D}\")\n",
    "print(f\"DShape of D: {D.shape}\")\n",
    "print(f\"SLicing: {D[1:,1:]}\")"
   ]
  },
  {
   "cell_type": "markdown",
   "id": "caaaed9b",
   "metadata": {
    "id": "caaaed9b"
   },
   "source": [
    "## Task 3: Mathematical Operations and Broadcasting\n",
    "1. Create a tensor E with values [1, 2, 3].\n",
    "2. Add a scalar value 5 to tensor E and print the result.\n",
    "3. Multiply tensor E by a scalar value 2.5 and print the result."
   ]
  },
  {
   "cell_type": "code",
   "execution_count": 17,
   "id": "9dadd27b",
   "metadata": {
    "id": "9dadd27b"
   },
   "outputs": [
    {
     "name": "stdout",
     "output_type": "stream",
     "text": [
      "tensor([6, 7, 8])\n",
      "tensor([2.5000, 5.0000, 7.5000])\n"
     ]
    }
   ],
   "source": [
    "#you code goes here\n",
    "E=torch.tensor([1,2,3])\n",
    "print(E+5)\n",
    "print(E*2.5)"
   ]
  },
  {
   "cell_type": "markdown",
   "id": "fa2cefad",
   "metadata": {
    "id": "fa2cefad"
   },
   "source": [
    "## Task 4: Reduction Operations\n",
    "1. Create a random 4x4 matrix F with values between 0 and 1.\n",
    "2. Calculate the mean of all elements in tensor F.\n",
    "3. Calculate the sum of each column in tensor F.\n",
    "4. Calculate the maximum value along the rows of tensor F."
   ]
  },
  {
   "cell_type": "code",
   "execution_count": 8,
   "id": "85f6ba21",
   "metadata": {
    "id": "85f6ba21"
   },
   "outputs": [
    {
     "name": "stdout",
     "output_type": "stream",
     "text": [
      "F: tensor([[0.1080, 0.5383, 0.1873, 0.6276],\n",
      "        [0.8894, 0.2293, 0.9584, 0.2748],\n",
      "        [0.0962, 0.6201, 0.5234, 0.0841],\n",
      "        [0.8783, 0.2363, 0.9733, 0.9213]])\n",
      "mean: 0.509137749671936\n",
      "sum of each column: tensor([1.9720, 1.6240, 2.6424, 1.9078])\n",
      "max of each row: torch.return_types.max(\n",
      "values=tensor([0.6276, 0.9584, 0.6201, 0.9733]),\n",
      "indices=tensor([3, 2, 1, 2]))\n"
     ]
    }
   ],
   "source": [
    "#you code goes here\n",
    "F=torch.rand(4,4)\n",
    "print('F:',F)\n",
    "print(f\"mean: {torch.mean(F)}\")\n",
    "print(f\"sum of each column: {torch.sum(F, dim=0)}\")\n",
    "print(f\"max of each row: {torch.max(F, dim=1)}\")"
   ]
  },
  {
   "cell_type": "markdown",
   "id": "500a97d9",
   "metadata": {
    "id": "500a97d9"
   },
   "source": [
    "## Task 5: Printing Tensor Shapes\n",
    "1. Create three tensors G, H, and I with shapes (2, 3), (3, 4), and (4, 5) respectively.\n",
    "2. Print the shapes of tensors G, H, and I."
   ]
  },
  {
   "cell_type": "code",
   "execution_count": 9,
   "id": "a4967eb2",
   "metadata": {
    "id": "a4967eb2"
   },
   "outputs": [
    {
     "name": "stdout",
     "output_type": "stream",
     "text": [
      "shape of G: torch.Size([2, 3])\n",
      "shape of H: torch.Size([3, 4])\n",
      "shape of I: torch.Size([4, 5])\n"
     ]
    }
   ],
   "source": [
    "#you code goes here\n",
    "G=torch.randint(1,101,(2,3))\n",
    "H=torch.randint(1,101,(3, 4))\n",
    "I=torch.randint(1,101,(4, 5))\n",
    "print(f\"shape of G: {G.shape}\")\n",
    "print(f\"shape of H: {H.shape}\")\n",
    "print(f\"shape of I: {I.shape}\")"
   ]
  },
  {
   "cell_type": "markdown",
   "id": "94bfed40",
   "metadata": {
    "id": "94bfed40"
   },
   "source": [
    "## Task 6: Matrix Multiplication\n",
    "1. Create two random matrices M1 of shape (3, 4) and M2 of shape (4, 2).\n",
    "2. Perform matrix multiplication between M1 and M2 and print the result.\n"
   ]
  },
  {
   "cell_type": "code",
   "execution_count": 10,
   "id": "9759d00c",
   "metadata": {
    "id": "9759d00c"
   },
   "outputs": [
    {
     "name": "stdout",
     "output_type": "stream",
     "text": [
      "M1: \n",
      "tensor([[6, 3, 5, 8],\n",
      "        [3, 8, 1, 1],\n",
      "        [1, 9, 9, 9]])\n",
      "M2:\n",
      "tensor([[4, 4],\n",
      "        [7, 7],\n",
      "        [1, 9],\n",
      "        [8, 1]])\n",
      "matrix multiplication: tensor([[114,  98],\n",
      "        [ 77,  78],\n",
      "        [148, 157]])\n"
     ]
    }
   ],
   "source": [
    "#you code goes here\n",
    "M1=torch.randint(1,11,(3, 4))\n",
    "M2=torch.randint(1,11,(4,2))\n",
    "print(f\"M1: \\n{M1}\\nM2:\\n{M2}\")\n",
    "print(f\"matrix multiplication: {torch.mm(M1,M2)}\")"
   ]
  },
  {
   "cell_type": "markdown",
   "id": "b2f8f3e5",
   "metadata": {
    "id": "b2f8f3e5"
   },
   "source": [
    "## Task 7: Indexing and Slicing\n",
    "1. Create a 2D tensor J of shape (5, 5) with consecutive integers from 0 to 24.\n",
    "2. Print the element at row 3 and column 4.\n",
    "3. Slice tensor J to obtain a 3x3 submatrix from rows 1 to 3 and columns 1 to 3."
   ]
  },
  {
   "cell_type": "code",
   "execution_count": 15,
   "id": "3a6c2e53",
   "metadata": {
    "id": "3a6c2e53"
   },
   "outputs": [
    {
     "name": "stdout",
     "output_type": "stream",
     "text": [
      "tensor([[19, 17,  2, 19, 13],\n",
      "        [14,  9, 17,  4, 16],\n",
      "        [ 4,  2, 12,  8,  9],\n",
      "        [22, 11, 14,  8, 18],\n",
      "        [17, 10,  9,  9, 22]])\n",
      "tensor(8)\n",
      "tensor([[19, 17,  2],\n",
      "        [14,  9, 17],\n",
      "        [ 4,  2, 12]])\n"
     ]
    }
   ],
   "source": [
    "#you code goes here\n",
    "J=torch.randint(0,25,(5,5))\n",
    "print(J)\n",
    "print(J[2][3])\n",
    "print(J[:3,:3])"
   ]
  },
  {
   "cell_type": "markdown",
   "id": "8f40651a",
   "metadata": {
    "id": "8f40651a"
   },
   "source": [
    "## Task 8: Transpose and Permutations\n",
    "1. Create a tensor K with shape (2, 3, 4).\n",
    "2. Transpose tensor K to have dimensions (4, 2, 3).\n",
    "3. Perform a permutation of the dimensions to achieve (3, 2, 4).\n",
    "4. Print the shapes after each transformation."
   ]
  },
  {
   "cell_type": "code",
   "execution_count": 16,
   "id": "ab6be032",
   "metadata": {
    "id": "ab6be032"
   },
   "outputs": [
    {
     "name": "stdout",
     "output_type": "stream",
     "text": [
      "tensor([[[ 4,  9,  5,  1],\n",
      "         [ 4, 10,  0,  4],\n",
      "         [ 0,  5,  1,  1]],\n",
      "\n",
      "        [[ 5,  3,  9,  8],\n",
      "         [ 3,  9,  5,  7],\n",
      "         [ 9,  9,  2,  3]]])\n"
     ]
    }
   ],
   "source": [
    "#you code goes here\n",
    "K=torch.randint(0,11,(2,3,4))\n",
    "print(K)\n"
   ]
  },
  {
   "cell_type": "markdown",
   "id": "a6a9dbc6",
   "metadata": {
    "id": "a6a9dbc6"
   },
   "source": [
    "## Task 9: Element-wise Function Application\n",
    "1. Create a tensor L with random values between -1 and 1.\n",
    "2. Apply the sine function (torch.sin) to every element of tensor L.\n",
    "3. Calculate the absolute value of the result using torch.abs."
   ]
  },
  {
   "cell_type": "code",
   "execution_count": 26,
   "id": "d3ad7f50",
   "metadata": {
    "id": "d3ad7f50"
   },
   "outputs": [
    {
     "name": "stdout",
     "output_type": "stream",
     "text": [
      "tensor([ 0.7600,  0.6656,  0.4184,  0.0582, -0.2218])\n",
      "tensor([ 0.6889,  0.6175,  0.4063,  0.0582, -0.2200])\n",
      "tensor([0.6889, 0.6175, 0.4063, 0.0582, 0.2200])\n"
     ]
    }
   ],
   "source": [
    "#you code goes here\n",
    "L=torch.rand(5)\n",
    "L=2*L-1\n",
    "print(L)\n",
    "print(torch.sin(L))\n",
    "print(torch.abs(torch.sin(L)))\n"
   ]
  },
  {
   "cell_type": "markdown",
   "id": "7aee60c6",
   "metadata": {
    "id": "7aee60c6"
   },
   "source": [
    "## Task 10: GPU Acceleration (Optional, if GPU is available)\n",
    "1. Check if a GPU is available for computation (torch.cuda.is_available()).\n",
    "2. If a GPU is available, move one of your tensors from Task 1 (A or B) to the GPU and perform a simple operation (e.g., addition) on it using GPU acceleration."
   ]
  },
  {
   "cell_type": "code",
   "execution_count": 30,
   "id": "97135bdf",
   "metadata": {
    "id": "97135bdf"
   },
   "outputs": [
    {
     "name": "stdout",
     "output_type": "stream",
     "text": [
      "True\n",
      "tensor([[4, 9, 5],\n",
      "        [1, 1, 1],\n",
      "        [9, 9, 9]], device='cuda:0')\n",
      "tensor([[ 9, 14, 10],\n",
      "        [ 6,  6,  6],\n",
      "        [14, 14, 14]], device='cuda:0')\n"
     ]
    }
   ],
   "source": [
    "#you code goes here\n",
    "print(torch.cuda.is_available())\n",
    "A=A.cuda()\n",
    "print(A)\n",
    "print(5+A)"
   ]
  },
  {
   "cell_type": "markdown",
   "id": "bb6612ee",
   "metadata": {
    "id": "bb6612ee"
   },
   "source": [
    "## Task 11: Broadcasting with Different Shapes\n",
    "1. Create a 2D tensor M of shape (3, 3).\n",
    "2. Create a 1D tensor N of shape (3,).\n",
    "3. Add tensor M to tensor N, and observe how broadcasting works with tensors of different shapes."
   ]
  },
  {
   "cell_type": "code",
   "execution_count": null,
   "id": "39c16d64",
   "metadata": {
    "id": "39c16d64"
   },
   "outputs": [],
   "source": [
    "#you code goes here"
   ]
  },
  {
   "cell_type": "markdown",
   "id": "f78cb7e9",
   "metadata": {
    "id": "f78cb7e9"
   },
   "source": [
    "## Task 12: Advanced Reduction Operations\n",
    "1. Create a 2D tensor O with random values.\n",
    "2. Calculate the sum of each row and find the index of the row with the maximum sum.\n",
    "3. Calculate the mean of each column and find the index of the column with the minimum mean."
   ]
  },
  {
   "cell_type": "code",
   "execution_count": null,
   "id": "1feb799c",
   "metadata": {
    "id": "1feb799c"
   },
   "outputs": [],
   "source": [
    "#you code goes here"
   ]
  }
 ],
 "metadata": {
  "colab": {
   "provenance": []
  },
  "kernelspec": {
   "display_name": "Python 3 (ipykernel)",
   "language": "python",
   "name": "python3"
  },
  "language_info": {
   "codemirror_mode": {
    "name": "ipython",
    "version": 3
   },
   "file_extension": ".py",
   "mimetype": "text/x-python",
   "name": "python",
   "nbconvert_exporter": "python",
   "pygments_lexer": "ipython3",
   "version": "3.11.4"
  }
 },
 "nbformat": 4,
 "nbformat_minor": 5
}
