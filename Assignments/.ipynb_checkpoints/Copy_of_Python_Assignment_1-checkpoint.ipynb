{
 "cells": [
  {
   "cell_type": "markdown",
   "metadata": {
    "id": "sPFJ9ydqFZkW"
   },
   "source": [
    "## Introduction\n",
    "\n",
    "In this assignment, you will encounter various challenges inspired by everyday situations. Each task will require you to utilize fundamental Python concepts to develop practical solutions. Get ready to dive into the world of Python and tackle these real-world scenarios head-on!\n",
    "\n",
    "Python concepts covered in the assignment:\n",
    "\n",
    "**Input/Output:** The use of input() to receive input from the user and print() to display output.\n",
    "\n",
    "**Variables and Data Types:** Utilizing variables to store and manipulate data, including numeric values (integers, floats), strings, and boolean values.\n",
    "\n",
    "**Arithmetic Operators:** Performing mathematical calculations using operators such as addition ``(+)``, subtraction ``(-)``, multiplication ``(*)``, division ``(/)``, and modulo ``(%)``.\n",
    "\n",
    "**Conditional Statements:** Using conditional operators (if, else, elif) to perform different actions based on certain conditions.\n",
    "\n",
    "**String Manipulation:** Manipulating strings, including concatenation (+), string formatting, and string indexing.\n",
    "\n",
    "**Type Conversion:** Converting data between different types, such as converting strings to integers or floats.\n",
    "\n",
    "**Operators:** Using various operators, including comparison operators ``(>, <, ==, !=)``, logical operators ``(and, or, not)``, and assignment operators ``(+=, -=, *=, /=)``."
   ]
  },
  {
   "cell_type": "markdown",
   "metadata": {
    "id": "C7XYONimFZkb"
   },
   "source": [
    "### Scenario 1: Online Store\n",
    "You have been hired as a Python developer for an online store. Your first task is to create a program that calculates the total cost of a customer's order. The program should ask for the price and quantity of each item, calculate the subtotal, apply a discount of 10% if the total is above ``100 BDT``, and display the final amount.\n",
    "\n",
    "**Task 1:** Create a Python program that:\n",
    "\n",
    "- Asks the user for the price and quantity of three items.\n",
    "- Calculates the subtotal by multiplying the price and quantity for each item.\n",
    "- Calculates the total by summing up the subtotals.\n",
    "- Applies a 10% discount if the total is above 100 BDT.\n",
    "- Displays the final amount the customer has to pay.\n",
    "\n",
    "**Input & Output Example**\n",
    "```lua\n",
    "Enter the price of item 1: 20\n",
    "Enter the quantity of item 1: 2\n",
    "Enter the price of item 2: 50\n",
    "Enter the quantity of item 2: 1\n",
    "Enter the price of item 3: 10\n",
    "Enter the quantity of item 3: 2\n",
    "The final amount to be paid by the customer is: 99.00 BDT\n",
    "```"
   ]
  },
  {
   "cell_type": "code",
   "execution_count": 1,
   "metadata": {},
   "outputs": [
    {
     "name": "stdout",
     "output_type": "stream",
     "text": [
      "Enter the price of the item 1: 20\n",
      "Enter the quantity of the item 1: 2\n",
      "Enter the price of the item 2: 50\n",
      "Enter the quantity of the item : 1\n",
      "Enter the price of the item 3: 10\n",
      "Enter the quantity of the item 3: 2\n",
      "The final amount to be paid by the customer is: 99.0 BDT\n"
     ]
    }
   ],
   "source": [
    "##Task 1 solve:\n",
    "item_1_price=float(input(\"Enter the price of the item 1: \"))\n",
    "item_1_quantity=float(input(\"Enter the quantity of the item 1: \"))\n",
    "item_2_price=float(input(\"Enter the price of the item 2: \"))\n",
    "item_2_quantity=float(input(\"Enter the quantity of the item : \"))\n",
    "item_3_price=float(input(\"Enter the price of the item 3: \"))\n",
    "item_3_quantity=float(input(\"Enter the quantity of the item 3: \"))\n",
    "\n",
    "#def calculate_final_amount():\n",
    "sub_total=item_1_price*item_1_quantity + item_2_price*item_2_quantity + item_3_price*item_3_quantity\n",
    "if sub_total>100:\n",
    "    total= sub_total - 0.1*sub_total\n",
    "else:\n",
    "    total=sub_total\n",
    "    #return total\n",
    "\n",
    "print(\"The final amount to be paid by the customer is: \" + str(total) + \" BDT\")\n",
    "\n",
    "#Q1: Don't limit to three. Making it as user's decision. Use Function\n",
    "\n",
    "\n",
    "\n"
   ]
  },
  {
   "cell_type": "code",
   "execution_count": 11,
   "metadata": {},
   "outputs": [
    {
     "name": "stdout",
     "output_type": "stream",
     "text": [
      "Enter the total number of different items a customer has purchased: 3\n",
      "Enter the price of the item 1: 20\n",
      "Enter the quantity of the item 1: 2\n",
      "Enter the price of the item 2: 50\n",
      "Enter the quantity of the item 2: 1\n",
      "Enter the price of the item 3: 10\n",
      "Enter the quantity of the item 3: 2\n",
      "The final amount to be paid by the customer is: 99.0 BDT\n"
     ]
    }
   ],
   "source": [
    "#better solution of Task 1:\n",
    "\n",
    "num_of_items=int(input(\"Enter the total number of different items a customer has purchased: \"))\n",
    "\n",
    "#Taking the inputs\n",
    "\n",
    "price_quantity=[]\n",
    "\n",
    "for i in range(num_of_items):\n",
    "    price=float(input(f\"Enter the price of the item {i+1}: \"))\n",
    "    quantity=float(input(f\"Enter the quantity of the item {i+1}: \"))\n",
    "    price_quantity.append([price,quantity])\n",
    "    \n",
    "#calculating the toal cost\n",
    "\n",
    "subtotal=0\n",
    "\n",
    "for i in price_quantity:\n",
    "    multiplication=i[0]*i[1]\n",
    "    subtotal += multiplication\n",
    "    \n",
    "#Actual payment\n",
    "\n",
    "if subtotal>100:\n",
    "    print(f\"The final amount to be paid by the customer is: {subtotal-0.1*subtotal} BDT\")\n",
    "else:\n",
    "    print(f\"The final amount to be paid by the customer is: {subtotal} BDT\")\n",
    "    \n",
    "\n",
    "\n",
    "    "
   ]
  },
  {
   "cell_type": "code",
   "execution_count": null,
   "metadata": {},
   "outputs": [],
   "source": []
  },
  {
   "cell_type": "markdown",
   "metadata": {
    "id": "lCi_hUiHFZkc"
   },
   "source": [
    "### Scenario 2: Grade Calculator\n",
    "As a teacher, you need to calculate the final grades for your students based on their scores. Each student's grade is determined by the average of their three test scores. You also need to assign letter grades based on the following scale: 90 or above is an **``\"A,\"``** 80-89 is a **``\"B,\"``** 70-79 is a **``\"C``**,\" and anything below 70 is an **``\"F.\"``**\n",
    "\n",
    "**Task 2:** Create a Python program that:\n",
    "\n",
    "- Asks the user for the test scores of three students.\n",
    "- Calculates the average score for each student.\n",
    "- Assigns a letter grade to each student based on the average score.\n",
    "- Displays the student's average score and corresponding letter grade.\n",
    "\n",
    "**Input & Output Example**\n",
    "```lua\n",
    "Enter the test scores for Student 1\n",
    "Enter score 1: 56\n",
    "Enter score 2: 12\n",
    "Enter score 3: 78\n",
    "Enter the test scores for Student 2\n",
    "Enter score 1: 44\n",
    "Enter score 2: 76\n",
    "Enter score 3: 69\n",
    "Enter the test scores for Student 3\n",
    "Enter score 1: 45\n",
    "Enter score 2: 65\n",
    "Enter score 3: 87\n",
    "Student 1:\n",
    "Average Score: 48.666666666666664\n",
    "Letter Grade: F\n",
    "Student 2:\n",
    "Average Score: 63.0\n",
    "Letter Grade: F\n",
    "Student 3:\n",
    "Average Score: 65.66666666666667\n",
    "Letter Grade: F\n",
    "```"
   ]
  },
  {
   "cell_type": "code",
   "execution_count": 12,
   "metadata": {},
   "outputs": [
    {
     "name": "stdout",
     "output_type": "stream",
     "text": [
      "Enter the number of students you want to calculate: 3\n",
      "Enter test score 1 for student 1: 56\n",
      "Enter test score 2 for student 1: 12\n",
      "Enter test score 3 for student 1: 78\n",
      "Enter test score 1 for student 2: 44\n",
      "Enter test score 2 for student 2: 76\n",
      "Enter test score 3 for student 2: 69\n",
      "Enter test score 1 for student 3: 45\n",
      "Enter test score 2 for student 3: 65\n",
      "Enter test score 3 for student 3: 87\n",
      "Student 1: \n",
      "Average score: 48.666666666666664 \n",
      "Grade: F\n",
      "Student 2: \n",
      "Average score: 63.0 \n",
      "Grade: F\n",
      "Student 3: \n",
      "Average score: 65.66666666666667 \n",
      "Grade: F\n"
     ]
    }
   ],
   "source": [
    "#Task 2 solve:\n",
    "\n",
    "def calculate_average(score1,score2,score3):\n",
    "    avg_score=(score1+score2+score3)/3\n",
    "    return avg_score\n",
    "\n",
    "def grade_evaluate(avg):\n",
    "    if avg>=90 and avg<=100:\n",
    "        return 'A'\n",
    "    elif avg>=80 and avg<90:\n",
    "        return 'B'\n",
    "    elif avg>=70 and avg<80:\n",
    "        return 'C'\n",
    "    else:\n",
    "        return 'F'\n",
    "    \n",
    "number_of_students=int(input(\"Enter the number of students you want to calculate: \"))\n",
    "\n",
    "#taking inputs\n",
    "\n",
    "scores_of_students=[]\n",
    "\n",
    "for i in range(number_of_students):\n",
    "    score1=float(input(f\"Enter test score 1 for student {i+1}: \"))\n",
    "    score2=float(input(f\"Enter test score 2 for student {i+1}: \"))\n",
    "    score3=float(input(f\"Enter test score 3 for student {i+1}: \"))\n",
    "    scores_of_students.append([score1,score2,score3])\n",
    "    \n",
    "\n",
    "#grading and showing the results\n",
    "\n",
    "for index,score in enumerate(scores_of_students,start=1):\n",
    "    average_score=calculate_average(*score)\n",
    "    grade=grade_evaluate(average_score)\n",
    "    print(f\"Student {index}: \\nAverage score: {average_score} \\nGrade: {grade}\")\n",
    "\n"
   ]
  },
  {
   "cell_type": "markdown",
   "metadata": {
    "id": "Ja4tRaiHFZkd"
   },
   "source": [
    "### Scenario 3: Temperature Converter\n",
    "You are building a weather application and need to convert temperature between **``Celsius``** and **``Fahrenheit``**. Users will provide the temperature in one unit, and your program should convert it to the other unit.\n",
    "\n",
    "**Task 3:** Create a Python program that:\n",
    "\n",
    "- Asks the user for the temperature and the unit (Celsius or Fahrenheit).\n",
    "- Converts the temperature to the other unit using the appropriate conversion formulas.\n",
    "- Displays the converted temperature.\n",
    "\n",
    "**Conversion Formulas:**<br>\n",
    "**`Fahrenheit to Celsius: F = (C * 9/5) + 32`**<br>\n",
    "**`Celsius to Fahrenheit: C = (F - 32) * 5/9`**<br>\n",
    "\n",
    "**Input & Output Example:**\n",
    "```lua\n",
    "Enter the temperature: 32\n",
    "Enter the unit (Celsius or Fahrenheit): celsius\n",
    "The converted temperature is: 89.6 Fahrenheit\n",
    "```"
   ]
  },
  {
   "cell_type": "code",
   "execution_count": 14,
   "metadata": {},
   "outputs": [
    {
     "name": "stdout",
     "output_type": "stream",
     "text": [
      "Enter the temperature: 32\n",
      "Enter the unit (Celsius or Fahrenheit): celsius\n",
      "The converted temperature is: 89.6 Fahrenheit\n"
     ]
    }
   ],
   "source": [
    "#Task 3 solve:\n",
    "\n",
    "def temperature_converter(temp,scale):\n",
    "    if scale=='celsius':\n",
    "        F= temp*(9/5) + 32\n",
    "        return print(f\"The converted temperature is: {F} Fahrenheit\")\n",
    "    elif scale=='fahrenheit':\n",
    "        C= (temp-32)* (5/9)\n",
    "        return print(f\"The converted temperature is: {C} Celsius\")\n",
    "    else:\n",
    "        return print(\"You did mistake choosing the scale. TRY AGAIN!!!\")\n",
    "        \n",
    "temp=float(input(\"Enter the temperature: \"))\n",
    "scale=input(\"Enter the unit (Celsius or Fahrenheit): \")\n",
    "\n",
    "temperature_converter(temp,scale)\n"
   ]
  },
  {
   "cell_type": "markdown",
   "metadata": {
    "id": "errJY_JIFZkd"
   },
   "source": [
    "### Scenario 4: Username Validation(Do not use any module)\n",
    "You are creating a registration system for a website and need to validate user usernames. The username must meet the following requirements:\n",
    "\n",
    "- **It must be at least 6 characters long and at most 12 characters long.**\n",
    "- **It must start with a letter (a-z or A-Z).**\n",
    "- **It can only contain letters and numbers.**\n",
    "\n",
    "**Task 5:** Create a Python program that:\n",
    "\n",
    "- Asks the user to enter a username.\n",
    "- Validates the username according to the requirements mentioned above.\n",
    "- Displays whether the username is valid or not based on the validation rules.\n",
    "\n",
    "- Use `valid` username characters are provived below to match valid characters:\n",
    "```python\n",
    "# Check characters\n",
    "valid_chars = \"abcdefghijklmnopqrstuvwxyzABCDEFGHIJKLMNOPQRSTUVWXYZ0123456789\"\n",
    "```\n",
    "\n",
    "**Input & Output Example:**\n",
    "```lua\n",
    "Enter a username: ThisIsNotAvalidUserName\n",
    "The username is not valid.\n",
    "```"
   ]
  },
  {
   "cell_type": "code",
   "execution_count": null,
   "metadata": {},
   "outputs": [],
   "source": [
    "  "
   ]
  },
  {
   "cell_type": "code",
   "execution_count": null,
   "metadata": {},
   "outputs": [],
   "source": []
  },
  {
   "cell_type": "code",
   "execution_count": 30,
   "metadata": {},
   "outputs": [
    {
     "name": "stdout",
     "output_type": "stream",
     "text": [
      "Enter a username: snjcs788\n",
      "This is a valid username.\n"
     ]
    }
   ],
   "source": [
    "#Task 4 solve:\n",
    "\n",
    "def username_validation(username):\n",
    "    \n",
    "    #checking lenth requirement\n",
    "    \n",
    "    if not (len(username)>=6 and len(username)<=12):\n",
    "        return False\n",
    "    \n",
    "    #checking first character\n",
    "    if not ('a'<=username[0]<='z' or 'A'<= username[0]<='Z'):\n",
    "        return False\n",
    "    \n",
    "    #checking valid characters \n",
    "    for char in username:\n",
    "        if not ('a'<= char<='z' or 'A'<= char<= 'Z' or '0'<=char<='9'):\n",
    "            return False\n",
    "        \n",
    "    return True\n",
    "\n",
    "username=input(\"Enter a username: \")\n",
    "\n",
    "is_valid=username_validation(username)\n",
    "\n",
    "if is_valid==True:\n",
    "    print(\"This is a valid username.\")\n",
    "else:\n",
    "    print(\"This is not a valid username.\")\n",
    "        \n",
    "    "
   ]
  },
  {
   "cell_type": "code",
   "execution_count": null,
   "metadata": {},
   "outputs": [],
   "source": []
  },
  {
   "cell_type": "code",
   "execution_count": null,
   "metadata": {},
   "outputs": [],
   "source": []
  }
 ],
 "metadata": {
  "colab": {
   "provenance": []
  },
  "kernelspec": {
   "display_name": "Python 3 (ipykernel)",
   "language": "python",
   "name": "python3"
  },
  "language_info": {
   "codemirror_mode": {
    "name": "ipython",
    "version": 3
   },
   "file_extension": ".py",
   "mimetype": "text/x-python",
   "name": "python",
   "nbconvert_exporter": "python",
   "pygments_lexer": "ipython3",
   "version": "3.11.3"
  }
 },
 "nbformat": 4,
 "nbformat_minor": 1
}
