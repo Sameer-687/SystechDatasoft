{
  "cells": [
    {
      "cell_type": "markdown",
      "id": "990c28f3",
      "metadata": {
        "id": "990c28f3"
      },
      "source": [
        "# Basic PyTorch Tensor Manipulation Practice\n",
        "\n",
        "## Guideline:\n",
        "Submit your completed code for each task, organized into sections with comments. Document your code and provide a brief summary of each task's accomplishment. Good luck with your PyTorch practice!\n",
        "\n",
        "## Task 1: Tensor Creation and Basic Operations\n",
        "1. Create two 3x3 matrices (tensors) A and B with random integer values between 1 and 10.\n",
        "2. Print the matrices A and B.\n",
        "3. Calculate the element-wise sum of A and B.\n",
        "4. Calculate the element-wise product of A and B."
      ]
    },
    {
      "cell_type": "code",
      "execution_count": null,
      "id": "e8648b8e",
      "metadata": {
        "id": "e8648b8e"
      },
      "outputs": [],
      "source": [
        "#you code goes here"
      ]
    },
    {
      "cell_type": "markdown",
      "id": "3eb38e1e",
      "metadata": {
        "id": "3eb38e1e"
      },
      "source": [
        "## Task 2: Tensor Reshaping and Slicing\n",
        "1. Create a 1D tensor C of size 9 with values from 0 to 8.\n",
        "2. Reshape C into a 3x3 matrix D.\n",
        "3. Print the shape of tensor D.\n",
        "4. Slice tensor D to obtain the submatrix containing the last two rows and last two columns.\n"
      ]
    },
    {
      "cell_type": "code",
      "execution_count": null,
      "id": "8779825b",
      "metadata": {
        "id": "8779825b"
      },
      "outputs": [],
      "source": [
        "#you code goes here"
      ]
    },
    {
      "cell_type": "markdown",
      "id": "caaaed9b",
      "metadata": {
        "id": "caaaed9b"
      },
      "source": [
        "## Task 3: Mathematical Operations and Broadcasting\n",
        "1. Create a tensor E with values [1, 2, 3].\n",
        "2. Add a scalar value 5 to tensor E and print the result.\n",
        "3. Multiply tensor E by a scalar value 2.5 and print the result."
      ]
    },
    {
      "cell_type": "code",
      "execution_count": null,
      "id": "9dadd27b",
      "metadata": {
        "id": "9dadd27b"
      },
      "outputs": [],
      "source": [
        "#you code goes here"
      ]
    },
    {
      "cell_type": "markdown",
      "id": "fa2cefad",
      "metadata": {
        "id": "fa2cefad"
      },
      "source": [
        "## Task 4: Reduction Operations\n",
        "1. Create a random 4x4 matrix F with values between 0 and 1.\n",
        "2. Calculate the mean of all elements in tensor F.\n",
        "3. Calculate the sum of each column in tensor F.\n",
        "4. Calculate the maximum value along the rows of tensor F."
      ]
    },
    {
      "cell_type": "code",
      "execution_count": null,
      "id": "85f6ba21",
      "metadata": {
        "id": "85f6ba21"
      },
      "outputs": [],
      "source": [
        "#you code goes here"
      ]
    },
    {
      "cell_type": "markdown",
      "id": "500a97d9",
      "metadata": {
        "id": "500a97d9"
      },
      "source": [
        "## Task 5: Printing Tensor Shapes\n",
        "1. Create three tensors G, H, and I with shapes (2, 3), (3, 4), and (4, 5) respectively.\n",
        "2. Print the shapes of tensors G, H, and I."
      ]
    },
    {
      "cell_type": "code",
      "execution_count": null,
      "id": "a4967eb2",
      "metadata": {
        "id": "a4967eb2"
      },
      "outputs": [],
      "source": [
        "#you code goes here"
      ]
    },
    {
      "cell_type": "markdown",
      "id": "94bfed40",
      "metadata": {
        "id": "94bfed40"
      },
      "source": [
        "## Task 6: Matrix Multiplication\n",
        "1. Create two random matrices M1 of shape (3, 4) and M2 of shape (4, 2).\n",
        "2. Perform matrix multiplication between M1 and M2 and print the result.\n"
      ]
    },
    {
      "cell_type": "code",
      "execution_count": null,
      "id": "9759d00c",
      "metadata": {
        "id": "9759d00c"
      },
      "outputs": [],
      "source": [
        "#you code goes here"
      ]
    },
    {
      "cell_type": "markdown",
      "id": "b2f8f3e5",
      "metadata": {
        "id": "b2f8f3e5"
      },
      "source": [
        "## Task 7: Indexing and Slicing\n",
        "1. Create a 2D tensor J of shape (5, 5) with consecutive integers from 0 to 24.\n",
        "2. Print the element at row 3 and column 4.\n",
        "3. Slice tensor J to obtain a 3x3 submatrix from rows 1 to 3 and columns 1 to 3."
      ]
    },
    {
      "cell_type": "code",
      "execution_count": null,
      "id": "3a6c2e53",
      "metadata": {
        "id": "3a6c2e53"
      },
      "outputs": [],
      "source": [
        "#you code goes here"
      ]
    },
    {
      "cell_type": "markdown",
      "id": "8f40651a",
      "metadata": {
        "id": "8f40651a"
      },
      "source": [
        "## Task 8: Transpose and Permutations\n",
        "1. Create a tensor K with shape (2, 3, 4).\n",
        "2. Transpose tensor K to have dimensions (4, 2, 3).\n",
        "3. Perform a permutation of the dimensions to achieve (3, 2, 4).\n",
        "4. Print the shapes after each transformation."
      ]
    },
    {
      "cell_type": "code",
      "execution_count": null,
      "id": "ab6be032",
      "metadata": {
        "id": "ab6be032"
      },
      "outputs": [],
      "source": [
        "#you code goes here"
      ]
    },
    {
      "cell_type": "markdown",
      "id": "a6a9dbc6",
      "metadata": {
        "id": "a6a9dbc6"
      },
      "source": [
        "## Task 9: Element-wise Function Application\n",
        "1. Create a tensor L with random values between -1 and 1.\n",
        "2. Apply the sine function (torch.sin) to every element of tensor L.\n",
        "3. Calculate the absolute value of the result using torch.abs."
      ]
    },
    {
      "cell_type": "code",
      "execution_count": null,
      "id": "d3ad7f50",
      "metadata": {
        "id": "d3ad7f50"
      },
      "outputs": [],
      "source": [
        "#you code goes here"
      ]
    },
    {
      "cell_type": "markdown",
      "id": "7aee60c6",
      "metadata": {
        "id": "7aee60c6"
      },
      "source": [
        "## Task 10: GPU Acceleration (Optional, if GPU is available)\n",
        "1. Check if a GPU is available for computation (torch.cuda.is_available()).\n",
        "2. If a GPU is available, move one of your tensors from Task 1 (A or B) to the GPU and perform a simple operation (e.g., addition) on it using GPU acceleration."
      ]
    },
    {
      "cell_type": "code",
      "execution_count": null,
      "id": "97135bdf",
      "metadata": {
        "id": "97135bdf"
      },
      "outputs": [],
      "source": [
        "#you code goes here"
      ]
    },
    {
      "cell_type": "markdown",
      "id": "bb6612ee",
      "metadata": {
        "id": "bb6612ee"
      },
      "source": [
        "## Task 11: Broadcasting with Different Shapes\n",
        "1. Create a 2D tensor M of shape (3, 3).\n",
        "2. Create a 1D tensor N of shape (3,).\n",
        "3. Add tensor M to tensor N, and observe how broadcasting works with tensors of different shapes."
      ]
    },
    {
      "cell_type": "code",
      "execution_count": null,
      "id": "39c16d64",
      "metadata": {
        "id": "39c16d64"
      },
      "outputs": [],
      "source": [
        "#you code goes here"
      ]
    },
    {
      "cell_type": "markdown",
      "id": "f78cb7e9",
      "metadata": {
        "id": "f78cb7e9"
      },
      "source": [
        "## Task 12: Advanced Reduction Operations\n",
        "1. Create a 2D tensor O with random values.\n",
        "2. Calculate the sum of each row and find the index of the row with the maximum sum.\n",
        "3. Calculate the mean of each column and find the index of the column with the minimum mean."
      ]
    },
    {
      "cell_type": "code",
      "execution_count": null,
      "id": "1feb799c",
      "metadata": {
        "id": "1feb799c"
      },
      "outputs": [],
      "source": [
        "#you code goes here"
      ]
    }
  ],
  "metadata": {
    "kernelspec": {
      "display_name": "moss",
      "language": "python",
      "name": "moss"
    },
    "language_info": {
      "codemirror_mode": {
        "name": "ipython",
        "version": 3
      },
      "file_extension": ".py",
      "mimetype": "text/x-python",
      "name": "python",
      "nbconvert_exporter": "python",
      "pygments_lexer": "ipython3",
      "version": "3.10.9"
    },
    "colab": {
      "provenance": []
    }
  },
  "nbformat": 4,
  "nbformat_minor": 5
}