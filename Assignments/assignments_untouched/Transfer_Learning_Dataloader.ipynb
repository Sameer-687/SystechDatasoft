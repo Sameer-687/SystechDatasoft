{
  "cells": [
    {
      "cell_type": "markdown",
      "id": "61a2eea3",
      "metadata": {
        "id": "61a2eea3"
      },
      "source": [
        "# Assignment Title: Creating a Custom Dataset and Training a CNN Model\n",
        "\n",
        "## Objective\n",
        "The objective of this assignment is to familiarize students with the process of creating a custom dataset, organizing it into folders, creating a spreadsheet to label the data, and then building a custom DataLoader to train a Convolutional Neural Network (CNN) model for image classification.\n",
        "\n",
        "## Instructions\n",
        "\n",
        "### Task 1: Data Collection and Organization\n",
        "\n",
        "1. Collect a minimum of 5 images each of the following animals: dogs, cats, and elephants. You can use any online resources or datasets, but make sure to respect copyright and licensing agreements.\n",
        "\n",
        "2. Organize these images into separate folders, with one folder for each animal category. Name the folders as follows:\n",
        "   - Dog Images\n",
        "   - Cat Images\n",
        "   - Elephant Images\n",
        "\n",
        "### Task 2: Create a Spreadsheet\n",
        "\n",
        "1. Create a csv file to label the images. The spreadsheet should have two columns:\n",
        "   - Column 1: Image Name (filename)\n",
        "   - Column 2: Label (dog, cat, or elephant)\n",
        "\n",
        "2. List all the image filenames in the first column and assign the appropriate label in the second column.\n",
        "\n",
        "### Task 3: Custom DataLoader\n",
        "\n",
        "1. Create a custom DataLoader class in Python to load the dataset. Your DataLoader should be able to:\n",
        "   - Read the spreadsheet to pair image filenames with their labels.\n",
        "   - Load images, apply data transformations if necessary, and prepare them for model training.\n",
        "   - Implement batching and data shuffling for efficient training.\n",
        "\n",
        "2. Train a CNN model of your choice using the custom DataLoader and the dataset you've created. You are free to choose any architecture for the CNN model.\n",
        "\n",
        "3. Evaluate the model's performance.\n"
      ]
    },
    {
      "cell_type": "markdown",
      "id": "002f2f61",
      "metadata": {
        "id": "002f2f61"
      },
      "source": [
        "# Assignment Title: Transfer Learning with Pre-trained Models\n",
        "\n",
        "## Objective\n",
        "The objective of this assignment is to introduce students to the concept of transfer learning in deep learning. Students will use a pre-trained model from the PyTorch library (e.g., ResNet-18 or MobileNetV2) to perform transfer learning on a dataset of dogs, cats, and elephants. They will compare the results with the previous task where they trained a custom Convolutional Neural Network (CNN) model from scratch.\n",
        "\n",
        "## Instructions\n",
        "\n",
        "### Task 1: Transfer Learning\n",
        "\n",
        "1. Use the dataset you created in the previous assignment, which contains images of dogs, cats, and elephants.\n",
        "\n",
        "2. Choose a pre-trained model from the PyTorch library, such as ResNet-18 or MobileNetV2. You can refer to the PyTorch model zoo for available models.\n",
        "\n",
        "3. Load the pre-trained model and modify it for your task. You will need to replace the last layer of the pre-trained model to adapt it for classifying three classes: dogs, cats, and elephants. Make sure the new last layer has three output units corresponding to the three classes.\n",
        "\n",
        "4. Train the modified pre-trained model on your dataset. You can choose to fine-tune some or all of the layers in the pre-trained model.\n",
        "\n",
        "### Task 2: Comparison\n",
        "\n",
        "1. After training the model, evaluate its performance using appropriate evaluation metrics (e.g., accuracy, precision, recall, and F1-score).\n",
        "\n",
        "2. Create a table to compare the results of transfer learning with the pre-trained model to the results of training a custom CNN model from scratch in the previous assignment. Include appropriate metrics such as accuracy in your comparison.\n",
        "\n",
        "3. Write a brief analysis of the comparison. Discuss the advantages and disadvantages of transfer learning in this context.\n",
        "\n",
        "### Submission\n",
        "Please submit your Jupyter Notebook containing the code for transfer learning, evaluation, and result comparison. Ensure that the notebook is well-documented and easy to follow.\n"
      ]
    },
    {
      "cell_type": "code",
      "execution_count": null,
      "id": "684fc79b",
      "metadata": {
        "id": "684fc79b"
      },
      "outputs": [],
      "source": []
    }
  ],
  "metadata": {
    "kernelspec": {
      "display_name": "Python 3 (ipykernel)",
      "language": "python",
      "name": "python3"
    },
    "language_info": {
      "codemirror_mode": {
        "name": "ipython",
        "version": 3
      },
      "file_extension": ".py",
      "mimetype": "text/x-python",
      "name": "python",
      "nbconvert_exporter": "python",
      "pygments_lexer": "ipython3",
      "version": "3.10.9"
    },
    "colab": {
      "provenance": []
    }
  },
  "nbformat": 4,
  "nbformat_minor": 5
}