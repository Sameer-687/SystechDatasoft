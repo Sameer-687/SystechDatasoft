{
  "cells": [
    {
      "cell_type": "markdown",
      "id": "8b67bb73",
      "metadata": {
        "id": "8b67bb73"
      },
      "source": [
        "**Assignment: Implementing a Basic CNN Architecture for CIFAR-100 Dataset**\n",
        "\n",
        "In this assignment, you will be implementing a basic Convolutional Neural Network (CNN) architecture and training it on the CIFAR-100 dataset using PyTorch. The CIFAR-100 dataset consists of 60,000 32x32 color images in 100 classes, with 600 images per class.\n",
        "\n",
        "**Task 1: Implementing the CNN Architecture**\n",
        "\n",
        "Your first task is to implement a simple CNN architecture that can be used for image classification on the CIFAR-100 dataset. The CNN architecture should consist of the following layers:\n",
        "\n",
        "1. Convolutional Layer 1: 32 filters, kernel size 3x3, activation: ReLU, padding: same.\n",
        "2. MaxPooling Layer 1: Pool size 2x2.\n",
        "3. Convolutional Layer 2: 64 filters, kernel size 3x3, activation: ReLU, padding: same.\n",
        "4. MaxPooling Layer 2: Pool size 2x2.\n",
        "5. Flatten Layer: To flatten the 2D feature maps into a 1D vector.\n",
        "6. Dense Layer 1: 128 units, activation: ReLU.\n",
        "7. Dense Layer 2: 100 units (one for each class in CIFAR-100), activation: Softmax.\n",
        "\n",
        "**Task 2: Training the CNN on CIFAR-100**\n",
        "\n",
        "Your next task is to train the CNN you implemented in Task 1 on the CIFAR-100 dataset. Use the following hyperparameters for training:\n",
        "\n",
        "- Batch Size: 64\n",
        "- Number of Epochs: 20\n",
        "- Learning Rate: 0.001\n",
        "- Optimizer: Adam\n",
        "- Loss Function: CrossEntropyLoss\n",
        "\n",
        "**Task 3: Evaluating the Trained Model**\n",
        "\n",
        "After successfully implementing and training the CNN model, your next task is to evaluate its performance on a separate validation dataset. For this task, split the CIFAR-100 training dataset into training and validation sets (e.g., 80% for training and 20% for validation). Then, calculate and print the accuracy of the model on the validation set.\n",
        "\n",
        "**Task 4: Visualizing Training and Validation Accuracy and Loss**\n",
        "\n",
        "To gain insights into the training process, your final task is to visualize the training and validation accuracy and loss over the 20 epochs. Plot two separate graphs: one for accuracy and another for loss. This will help you understand how well the model is learning from the training data and how it generalizes to the validation set.\n",
        "\n",
        "**Task 5: Printing the Number of Parameters and Layer Names**\n",
        "\n",
        "Finally, print the number of parameters the network has and the names of each layer in the network. This will help you understand the model's complexity and architecture.\n",
        "\n",
        "Ensure you use appropriate libraries for building the CNN (PyTorch), for loading the CIFAR-100 dataset, and for visualization (e.g., matplotlib).\n",
        "\n",
        "**Submission Guidelines:**\n",
        "\n",
        "- Submit the Python code with comments explaining each section.\n",
        "- Include the output showing the accuracy on the validation set, number of parameters, and layer names in the trained model."
      ]
    },
    {
      "cell_type": "code",
      "execution_count": null,
      "id": "50ff34a1",
      "metadata": {
        "id": "50ff34a1"
      },
      "outputs": [],
      "source": []
    }
  ],
  "metadata": {
    "kernelspec": {
      "display_name": "Python 3 (ipykernel)",
      "language": "python",
      "name": "python3"
    },
    "language_info": {
      "codemirror_mode": {
        "name": "ipython",
        "version": 3
      },
      "file_extension": ".py",
      "mimetype": "text/x-python",
      "name": "python",
      "nbconvert_exporter": "python",
      "pygments_lexer": "ipython3",
      "version": "3.10.9"
    },
    "colab": {
      "provenance": []
    }
  },
  "nbformat": 4,
  "nbformat_minor": 5
}