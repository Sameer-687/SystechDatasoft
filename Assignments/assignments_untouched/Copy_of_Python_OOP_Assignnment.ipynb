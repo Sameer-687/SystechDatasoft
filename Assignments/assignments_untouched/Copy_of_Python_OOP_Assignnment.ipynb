{
  "cells": [
    {
      "cell_type": "markdown",
      "id": "d8dbb83c",
      "metadata": {
        "id": "d8dbb83c"
      },
      "source": [
        "### Task 1: Vehicle Inheritance\n",
        "Create a **base class** called Vehicle with attributes **`manufacturer`** and **`model`**. Implement a method **`get_info()`** that returns a string containing the manufacturer and model of the vehicle. Then, create two derived classes(Inherited Classes), **Car and Motorcycle**, that inherit from Vehicle. Each derived class should have an additional attribute and override the **`get_info()`** method to include the new attribute's value. Finally, create instances of both classes and print their information."
      ]
    },
    {
      "cell_type": "markdown",
      "id": "198ed4c7",
      "metadata": {
        "id": "198ed4c7"
      },
      "source": [
        "### Task 2: Online Shopping System\n",
        "\n",
        "- Create a class named **`Product`** with attributes like **`name`**, **`price`**, and **`quantity_in_stock`**.\n",
        "<br>\n",
        "\n",
        "- Create a class named **`Cart`** that allows adding and removing products. It should also calculate the total cost of items in the cart.\n",
        "<br>\n",
        "\n",
        "- Implement a class named **`Customer`** with attributes like **`name`**, **`email`**, and a **`cart instance`**.\n",
        "    Allow the customer to add products to their cart, calculate the final cost, and proceed to checkout."
      ]
    },
    {
      "cell_type": "markdown",
      "id": "69cc2298",
      "metadata": {
        "id": "69cc2298"
      },
      "source": [
        "### Task 3: School Grading System\n",
        "\n",
        "- Create a class **`Student`** with attributes like **`name, age, and grades`** (a dictionary of subject grades).\n",
        "<br>\n",
        "\n",
        "- Implement a `method` to calculate the **average grade** for a student.\n",
        "<br>\n",
        "\n",
        "- Create a class **`Course`** with attributes like **`course_name, instructor, and students_enrolled`**.\n",
        "<br>\n",
        "Demonstrate how students can be enrolled in a course, grades can be added, and average grades can be calculated."
      ]
    },
    {
      "cell_type": "markdown",
      "id": "30e74afc",
      "metadata": {
        "id": "30e74afc"
      },
      "source": [
        "### Task 4: Online Banking System\n",
        "\n",
        "- Create a class **`BankAccount`** with attributes like **`account_number, balance, and account_holder`**.\n",
        "<br>\n",
        "\n",
        "- Implement **methods** for depositing, withdrawing, and transferring money between accounts.\n",
        "<br>\n",
        "\n",
        "- Create a **subclass** **`SavingsAccount`** that offers an interest rate and has a limit on withdrawals.\n",
        "<br>\n",
        "\n",
        "Show how a customer can open a bank account, perform transactions, and earn interest on savings."
      ]
    },
    {
      "cell_type": "code",
      "execution_count": null,
      "id": "47e8b1fe",
      "metadata": {
        "id": "47e8b1fe"
      },
      "outputs": [],
      "source": []
    }
  ],
  "metadata": {
    "kernelspec": {
      "display_name": "Python 3 (ipykernel)",
      "language": "python",
      "name": "python3"
    },
    "language_info": {
      "codemirror_mode": {
        "name": "ipython",
        "version": 3
      },
      "file_extension": ".py",
      "mimetype": "text/x-python",
      "name": "python",
      "nbconvert_exporter": "python",
      "pygments_lexer": "ipython3",
      "version": "3.8.16"
    },
    "colab": {
      "provenance": []
    }
  },
  "nbformat": 4,
  "nbformat_minor": 5
}