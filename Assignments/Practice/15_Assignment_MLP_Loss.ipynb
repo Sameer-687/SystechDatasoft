{
  "cells": [
    {
      "cell_type": "markdown",
      "id": "375d322f",
      "metadata": {
        "id": "375d322f"
      },
      "source": [
        "# Assignment:\n",
        "Customizing Model Training with Alternate Datasets and Loss Functions\n",
        "\n",
        "# Objective:\n",
        "The purpose of this assignment is to expand your practical knowledge of model training by utilizing different datasets and exploring alternative loss functions. You will train a neural model using a dataset other than MNIST and implement novel loss functions, broadening your understanding of how these components impact model performance."
      ]
    },
    {
      "cell_type": "markdown",
      "id": "6422b122",
      "metadata": {
        "id": "6422b122"
      },
      "source": [
        "# Submission Guidelines:\n",
        "\n",
        "Download the file and write your code on the mentioned cell. Then upload it.\n",
        "Use this assignment to not only explore alternative datasets and loss functions but also to reflect on how these choices can impact the performance and adaptability of neural models. Good luck!"
      ]
    },
    {
      "cell_type": "markdown",
      "id": "cc796584",
      "metadata": {
        "id": "cc796584"
      },
      "source": [
        "## Dataset Exploration and Selection\n",
        "\n",
        "- Load the CIFAR-100 dataset using appropriate data loading functions.\n",
        "- Use Multi-Layer Perceptron (MLP) models for training.\n",
        "\n",
        "### Model Architectures\n",
        "\n",
        "- Modify the MLP model to include three hidden layers with specific numbers of nodes in each layer. You should add three hidden layers with the following number of nodes: Layer 1 with 128 nodes, Layer 2 with 64 nodes, and Layer 3 with 32 nodes. The output layer should have the same dimension as the number of classes in the CIFAR-100 dataset.\n",
        "\n",
        "## Model Evaluation\n",
        "\n",
        "- After training the model, evaluate the performance using the test dataset. Calculate and record the test accuracy for the model to understand how well they generalize to unseen data.\n",
        "\n",
        "## Visualization of Results\n",
        "\n",
        "Plot diagrams:\n",
        "\n",
        "### Accuracy\n",
        "- One diagram should display the training accuracy and test accuracy over different epochs the model. This will help you analyze how the models' accuracy changes during training.\n",
        "\n",
        "### Loss\n",
        "- The other diagram should showcase the training loss and test loss over epochs for the model. This will provide insight into the models' convergence and generalization.\n"
      ]
    },
    {
      "cell_type": "code",
      "execution_count": null,
      "id": "2b16448c",
      "metadata": {
        "id": "2b16448c"
      },
      "outputs": [],
      "source": [
        "# your code goes here"
      ]
    },
    {
      "cell_type": "markdown",
      "id": "9f9d7cff",
      "metadata": {
        "id": "9f9d7cff"
      },
      "source": [
        "# Exploring Novel Loss Functions\n",
        "\n",
        "Research and propose one loss functions that are different from the standard ones. Provide their mathematical formulations and explain their potential benefits for specific scenarios(you may give screenshot)."
      ]
    },
    {
      "cell_type": "code",
      "execution_count": null,
      "id": "560c159d",
      "metadata": {
        "id": "560c159d"
      },
      "outputs": [],
      "source": [
        "# answer goes here"
      ]
    },
    {
      "cell_type": "markdown",
      "id": "cf361841",
      "metadata": {
        "id": "cf361841"
      },
      "source": [
        "# Loss Function Implementation\n",
        "Modify your PyTorch models implementation to integrate the new loss functions. Write code showcasing how you integrated these loss functions into the training process."
      ]
    },
    {
      "cell_type": "code",
      "execution_count": null,
      "id": "5a47ca8b",
      "metadata": {
        "id": "5a47ca8b"
      },
      "outputs": [],
      "source": [
        "# your code goes here"
      ]
    },
    {
      "cell_type": "markdown",
      "id": "53e7299f",
      "metadata": {
        "id": "53e7299f"
      },
      "source": [
        "# Performance Evaluation\n",
        "Implement the loss function on both of the model and compare if the result stays the same. Analyze the model's accuracy, convergence, and other relevant metrics."
      ]
    },
    {
      "cell_type": "code",
      "execution_count": null,
      "id": "ab0ac85e",
      "metadata": {
        "id": "ab0ac85e"
      },
      "outputs": [],
      "source": [
        "# your code goes here"
      ]
    },
    {
      "cell_type": "markdown",
      "id": "2330e569",
      "metadata": {
        "id": "2330e569"
      },
      "source": [
        "# Interpreting Results\n",
        "Interpret the findings of your experiment, focusing on how the choice of dataset and loss function impacted the model's behavior. Discuss any patterns or insights you gained from the experiment."
      ]
    },
    {
      "cell_type": "code",
      "execution_count": null,
      "id": "fd67b6d6",
      "metadata": {
        "id": "fd67b6d6"
      },
      "outputs": [],
      "source": [
        "# your code goes here"
      ]
    },
    {
      "cell_type": "code",
      "execution_count": null,
      "id": "8541de30",
      "metadata": {
        "id": "8541de30"
      },
      "outputs": [],
      "source": []
    }
  ],
  "metadata": {
    "kernelspec": {
      "display_name": "edge",
      "language": "python",
      "name": "edge"
    },
    "language_info": {
      "codemirror_mode": {
        "name": "ipython",
        "version": 3
      },
      "file_extension": ".py",
      "mimetype": "text/x-python",
      "name": "python",
      "nbconvert_exporter": "python",
      "pygments_lexer": "ipython3",
      "version": "3.10.9"
    },
    "colab": {
      "provenance": []
    }
  },
  "nbformat": 4,
  "nbformat_minor": 5
}